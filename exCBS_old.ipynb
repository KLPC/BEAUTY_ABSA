{
 "cells": [
  {
   "cell_type": "markdown",
   "metadata": {},
   "source": [
    "# Import Data & Packages"
   ]
  },
  {
   "cell_type": "code",
   "execution_count": 1,
   "metadata": {
    "ExecuteTime": {
     "end_time": "2021-11-01T02:55:44.575975Z",
     "start_time": "2021-11-01T02:55:42.368845Z"
    }
   },
   "outputs": [],
   "source": [
    "import pandas as pd\n",
    "import numpy as np\n",
    "import datetime\n",
    "from ast import literal_eval\n",
    "import konlpy\n",
    "from collections import Counter\n",
    "import time\n",
    "import networkx as nx\n",
    "import matplotlib.pyplot as plt"
   ]
  },
  {
   "cell_type": "code",
   "execution_count": 2,
   "metadata": {
    "ExecuteTime": {
     "end_time": "2021-11-01T02:55:55.979129Z",
     "start_time": "2021-11-01T02:55:55.973931Z"
    }
   },
   "outputs": [
    {
     "data": {
      "text/plain": [
       "'1.1.3'"
      ]
     },
     "execution_count": 2,
     "metadata": {},
     "output_type": "execute_result"
    }
   ],
   "source": [
    "pd.__version__"
   ]
  },
  {
   "cell_type": "code",
   "execution_count": 3,
   "metadata": {
    "ExecuteTime": {
     "end_time": "2021-11-01T02:56:27.967123Z",
     "start_time": "2021-11-01T02:56:27.320795Z"
    }
   },
   "outputs": [],
   "source": [
    "from gensim.models import Word2Vec\n",
    "from gensim.models import KeyedVectors"
   ]
  },
  {
   "cell_type": "code",
   "execution_count": 3,
   "metadata": {
    "ExecuteTime": {
     "end_time": "2021-10-29T06:55:38.064920Z",
     "start_time": "2021-10-29T06:55:10.926105Z"
    }
   },
   "outputs": [
    {
     "name": "stdout",
     "output_type": "stream",
     "text": [
      "(50183, 50)\n"
     ]
    }
   ],
   "source": [
    "df_whole=pd.read_json('amore_data_detected_bert.json')\n",
    "df_whole['review_split_string']=df_whole['review_split'].copy()\n",
    "df_whole['review_split']=df_whole['review_split_string'].apply(literal_eval)\n",
    "print(df_whole.shape)"
   ]
  },
  {
   "cell_type": "code",
   "execution_count": 4,
   "metadata": {
    "ExecuteTime": {
     "end_time": "2021-10-29T06:55:45.297853Z",
     "start_time": "2021-10-29T06:55:38.129921Z"
    }
   },
   "outputs": [],
   "source": [
    "df_whole['name']=df_whole[['brand','big_category','prod_nm']].agg('#'.join, axis=1)\n",
    "df_whole['name_sub']=df_whole[['brand','big_category']].agg('#'.join, axis=1)"
   ]
  },
  {
   "cell_type": "code",
   "execution_count": 5,
   "metadata": {
    "ExecuteTime": {
     "end_time": "2021-10-29T06:55:45.393463Z",
     "start_time": "2021-10-29T06:55:45.363373Z"
    }
   },
   "outputs": [
    {
     "data": {
      "text/html": [
       "<div>\n",
       "<style scoped>\n",
       "    .dataframe tbody tr th:only-of-type {\n",
       "        vertical-align: middle;\n",
       "    }\n",
       "\n",
       "    .dataframe tbody tr th {\n",
       "        vertical-align: top;\n",
       "    }\n",
       "\n",
       "    .dataframe thead th {\n",
       "        text-align: right;\n",
       "    }\n",
       "</style>\n",
       "<table border=\"1\" class=\"dataframe\">\n",
       "  <thead>\n",
       "    <tr style=\"text-align: right;\">\n",
       "      <th></th>\n",
       "      <th>A용량</th>\n",
       "      <th>A민감성</th>\n",
       "      <th>A향기</th>\n",
       "      <th>A커버력</th>\n",
       "      <th>A지속력</th>\n",
       "      <th>A피부톤</th>\n",
       "      <th>A보습감</th>\n",
       "      <th>A향</th>\n",
       "      <th>A사용감</th>\n",
       "      <th>A발림성</th>\n",
       "      <th>...</th>\n",
       "      <th>트러블</th>\n",
       "      <th>표현력</th>\n",
       "      <th>품질</th>\n",
       "      <th>향기</th>\n",
       "      <th>효과</th>\n",
       "      <th>휴대성</th>\n",
       "      <th>mask</th>\n",
       "      <th>review_split_string</th>\n",
       "      <th>name</th>\n",
       "      <th>name_sub</th>\n",
       "    </tr>\n",
       "  </thead>\n",
       "  <tbody>\n",
       "    <tr>\n",
       "      <th>0</th>\n",
       "      <td>0</td>\n",
       "      <td>0</td>\n",
       "      <td>1</td>\n",
       "      <td>0</td>\n",
       "      <td>0</td>\n",
       "      <td>0</td>\n",
       "      <td>0</td>\n",
       "      <td>0</td>\n",
       "      <td>0</td>\n",
       "      <td>0</td>\n",
       "      <td>...</td>\n",
       "      <td>0</td>\n",
       "      <td>0</td>\n",
       "      <td>0</td>\n",
       "      <td>1</td>\n",
       "      <td>0</td>\n",
       "      <td>0</td>\n",
       "      <td>[True, False, False]</td>\n",
       "      <td>['바디워시 쓰고 반해서 핸드워시도 사게 됬어요', '바디워시와 같은향이라 그런지 ...</td>\n",
       "      <td>sulhwasoo#catE#핸드워시 백은향 300ml</td>\n",
       "      <td>sulhwasoo#catE</td>\n",
       "    </tr>\n",
       "    <tr>\n",
       "      <th>1</th>\n",
       "      <td>1</td>\n",
       "      <td>1</td>\n",
       "      <td>1</td>\n",
       "      <td>0</td>\n",
       "      <td>0</td>\n",
       "      <td>0</td>\n",
       "      <td>0</td>\n",
       "      <td>0</td>\n",
       "      <td>0</td>\n",
       "      <td>0</td>\n",
       "      <td>...</td>\n",
       "      <td>0</td>\n",
       "      <td>0</td>\n",
       "      <td>0</td>\n",
       "      <td>1</td>\n",
       "      <td>0</td>\n",
       "      <td>0</td>\n",
       "      <td>[True, False, False]</td>\n",
       "      <td>['선물하기에 너무 좋아용 사실 내돈주고 사기엔 아깝구 선물 받은 좋은 아이템 ㅎㅎ...</td>\n",
       "      <td>sulhwasoo#catE#핸드워시 백은향 300ml</td>\n",
       "      <td>sulhwasoo#catE</td>\n",
       "    </tr>\n",
       "  </tbody>\n",
       "</table>\n",
       "<p>2 rows × 52 columns</p>\n",
       "</div>"
      ],
      "text/plain": [
       "   A용량  A민감성  A향기  A커버력  A지속력  A피부톤  A보습감  A향  A사용감  A발림성  ...  트러블  표현력  품질  \\\n",
       "0    0     0    1     0     0     0     0   0     0     0  ...    0    0   0   \n",
       "1    1     1    1     0     0     0     0   0     0     0  ...    0    0   0   \n",
       "\n",
       "   향기  효과  휴대성                  mask  \\\n",
       "0   1   0    0  [True, False, False]   \n",
       "1   1   0    0  [True, False, False]   \n",
       "\n",
       "                                 review_split_string  \\\n",
       "0  ['바디워시 쓰고 반해서 핸드워시도 사게 됬어요', '바디워시와 같은향이라 그런지 ...   \n",
       "1  ['선물하기에 너무 좋아용 사실 내돈주고 사기엔 아깝구 선물 받은 좋은 아이템 ㅎㅎ...   \n",
       "\n",
       "                            name        name_sub  \n",
       "0  sulhwasoo#catE#핸드워시 백은향 300ml  sulhwasoo#catE  \n",
       "1  sulhwasoo#catE#핸드워시 백은향 300ml  sulhwasoo#catE  \n",
       "\n",
       "[2 rows x 52 columns]"
      ]
     },
     "execution_count": 5,
     "metadata": {},
     "output_type": "execute_result"
    }
   ],
   "source": [
    "df_whole.head(2)"
   ]
  },
  {
   "cell_type": "markdown",
   "metadata": {},
   "source": [
    "# Functions"
   ]
  },
  {
   "cell_type": "code",
   "execution_count": 26,
   "metadata": {
    "ExecuteTime": {
     "end_time": "2021-10-29T07:01:29.446678Z",
     "start_time": "2021-10-29T07:01:29.427684Z"
    }
   },
   "outputs": [],
   "source": [
    "def S1_number_func(x):\n",
    "    return(sum([len(x[i].split(' ')) for i in range(len(x))]))\n",
    "\n",
    "def S1_duplicate_func(x):\n",
    "    return(len(set(x))/len(x))\n",
    "    \n",
    "def NVA(x):    \n",
    "    total_words=[]\n",
    "    for i, document in enumerate(list(set(x))):\n",
    "        okt = konlpy.tag.Okt()\n",
    "        clean_words = []\n",
    "        for word in okt.pos(document, stem=True): \n",
    "            if word[1] in ['Noun', 'Verb', 'Adjective']: \n",
    "                clean_words.append(word[0])\n",
    "        total_words.append(clean_words)\n",
    "    result = []\n",
    "    for x in total_words:\n",
    "        result.extend(x)\n",
    "    return result\n",
    "\n",
    "\n",
    "def S1_diversity_func(NVA):  \n",
    "    return(len(set(NVA))/len(NVA))\n",
    "    \n",
    "\n",
    "\n",
    "def s1_recency_func(x,date):\n",
    "    return((date-x.date()).days)\n",
    "\n",
    "def S1_recency_func(x,max_date,window):\n",
    "    \"\"\"\n",
    "    max=50 ( 50,49,,...1 )\n",
    "    ----------------------------------------\n",
    "    50,49,48,47,46 .... (max-0)~(max-window+1)\n",
    "    49,48,47,46,45 .... (max-1)~(max-window+0)\n",
    "    48,47,46,45,44 .... (max-2)~(max-window-1)\n",
    "    ...\n",
    "    5,4,3,2,1 ...,,,,,,. (max-45)~(max-window-44)\n",
    "    ----------------------------------------\n",
    "    max-45가 window가 될 때 까지\n",
    "    \"\"\"\n",
    "    lower = max_date\n",
    "    upper = max_date-window+1\n",
    "    lower_sign=(x<=lower)\n",
    "    upper_sign=(x>=upper)\n",
    "    sign=lower_sign*upper_sign\n",
    "    return sign\n",
    "\n",
    "def s1_recency_list_func(prod_nm):\n",
    "    tmp=S1_recency[S1_recency['name']==prod_nm]\n",
    "    MA_list=[]\n",
    "    for i in date_range:\n",
    "        window_count = len(tmp['recency'][tmp['recency'].apply((lambda x: S1_recency_func(x,max_date-i,recency_window)))>0])\n",
    "        window_count_mean = window_count/recency_window\n",
    "        MA_list.append(window_count_mean)\n",
    "    return MA_list"
   ]
  },
  {
   "cell_type": "markdown",
   "metadata": {},
   "source": [
    "# exCBS"
   ]
  },
  {
   "cell_type": "markdown",
   "metadata": {},
   "source": [
    "## 날짜 범위 설정"
   ]
  },
  {
   "cell_type": "markdown",
   "metadata": {},
   "source": [
    "- 점수 계산 날짜 : (x)일\n",
    "- 점수 계산 대상 날짜 : (x-14)일~ (x)일"
   ]
  },
  {
   "cell_type": "code",
   "execution_count": 10,
   "metadata": {
    "ExecuteTime": {
     "end_time": "2021-10-29T06:56:15.659556Z",
     "start_time": "2021-10-29T06:56:15.640560Z"
    }
   },
   "outputs": [],
   "source": [
    "def get_current_Kdays(df,current_Y,current_M,current_D,K=14):\n",
    "    eval_date = datetime.date(current_Y,current_M,current_D)\n",
    "    df['recency']=df['date'].apply((lambda x: s1_recency_func(x,eval_date)))\n",
    "    return df[df['recency']<K]"
   ]
  },
  {
   "cell_type": "code",
   "execution_count": null,
   "metadata": {},
   "outputs": [],
   "source": []
  },
  {
   "cell_type": "code",
   "execution_count": 8,
   "metadata": {
    "ExecuteTime": {
     "end_time": "2021-10-29T06:55:45.807364Z",
     "start_time": "2021-10-29T06:55:45.587544Z"
    }
   },
   "outputs": [],
   "source": [
    "df = get_current_Kdays(df_whole,2021,7,31,K=14)\n",
    "recent_idx=df.index"
   ]
  },
  {
   "cell_type": "code",
   "execution_count": 9,
   "metadata": {
    "ExecuteTime": {
     "end_time": "2021-10-29T06:55:45.871368Z",
     "start_time": "2021-10-29T06:55:45.857366Z"
    }
   },
   "outputs": [
    {
     "data": {
      "text/plain": [
       "(1036, 53)"
      ]
     },
     "execution_count": 9,
     "metadata": {},
     "output_type": "execute_result"
    }
   ],
   "source": [
    "df.shape"
   ]
  },
  {
   "cell_type": "markdown",
   "metadata": {},
   "source": [
    "## Impression & Variety 계산 준비"
   ]
  },
  {
   "cell_type": "code",
   "execution_count": 11,
   "metadata": {
    "ExecuteTime": {
     "end_time": "2021-10-29T06:56:35.224215Z",
     "start_time": "2021-10-29T06:56:19.633996Z"
    }
   },
   "outputs": [],
   "source": [
    "import torch"
   ]
  },
  {
   "cell_type": "code",
   "execution_count": 12,
   "metadata": {
    "ExecuteTime": {
     "end_time": "2021-10-29T06:56:35.428304Z",
     "start_time": "2021-10-29T06:56:35.275229Z"
    }
   },
   "outputs": [],
   "source": [
    "model = torch.load('checkpoint39.pt',map_location='cpu')"
   ]
  },
  {
   "cell_type": "code",
   "execution_count": 13,
   "metadata": {
    "ExecuteTime": {
     "end_time": "2021-10-29T06:56:35.505612Z",
     "start_time": "2021-10-29T06:56:35.491574Z"
    }
   },
   "outputs": [],
   "source": [
    "cat_task = {'cat1': 1, 'cat2': 2,'cat3': 3,'cat4': 4,'cat5': 5,'cat6': 6,'cat7': 7,'cat9': 8,'cat10': 9}\n",
    "cols1 = ['용량','민감성','향기','커버력','지속력','피부톤',\n",
    "         '보습감','향','사용감','발림성','세정력', # 10\n",
    "         '촉촉함','유분기','발색감','제형']#,'보습력']\n",
    "cols2= df.columns[25:48]\n",
    "small_cat_indices = [[1, 10, 11],\n",
    "                     [1, 6, 7],\n",
    "                     [1, 8, 9],\n",
    "\n",
    "                     [3, 4, 5],\n",
    "\n",
    "                     [4, 5, 11, 12, 13, 14],\n",
    "\n",
    "                     [4, 8, 13],\n",
    "                     [4, 8, 13],\n",
    "\n",
    "                     [2, 1, 0],\n",
    "                     [2, 1, 0]]"
   ]
  },
  {
   "cell_type": "code",
   "execution_count": 14,
   "metadata": {
    "ExecuteTime": {
     "end_time": "2021-10-29T06:56:35.569634Z",
     "start_time": "2021-10-29T06:56:35.555624Z"
    }
   },
   "outputs": [],
   "source": [
    "temp_cols=[\"overall({})\".format(i) for i in [-1,0,1]]+[c + '(-1)' for c in cols1]+[c + '(0)' for c in cols1]+[c + '(1)' for c in cols1]+['ATT_'+c for c in cols1]\n",
    "S23=pd.DataFrame(index=recent_idx,columns=temp_cols)"
   ]
  },
  {
   "cell_type": "code",
   "execution_count": 13,
   "metadata": {
    "ExecuteTime": {
     "end_time": "2021-10-29T01:48:36.925508Z",
     "start_time": "2021-10-29T01:48:36.914234Z"
    }
   },
   "outputs": [],
   "source": [
    "from tqdm import tqdm"
   ]
  },
  {
   "cell_type": "code",
   "execution_count": 14,
   "metadata": {
    "ExecuteTime": {
     "end_time": "2021-10-29T01:48:37.080633Z",
     "start_time": "2021-10-29T01:48:37.039441Z"
    }
   },
   "outputs": [],
   "source": [
    "def softmax(x):\n",
    "    return (torch.exp(x) / torch.exp(x).sum()).flatten()\n",
    "\n",
    "\n",
    "\n",
    "def fill_s23(model, df, idicies):\n",
    "    for ind in tqdm(idicies):\n",
    "        \n",
    "        review = torch.FloatTensor( df['embed_sents'][ind])\n",
    "        num_sents = torch.tensor( len(review) )\n",
    "        small_task= cat_task[ df['category'][ind] ]\n",
    "        detect = df['mask'][ind]\n",
    "        deteted_aspect= df.loc[ind,cols2][ df.loc[ind,cols2] == 1 ].index.values.tolist()\n",
    "        deteted_aspect_ind = np.array( small_cat_indices[ small_task - 1 ] )[detect].tolist()\n",
    "        deteted_aspect_target = np.array(cols1)[deteted_aspect_ind].tolist()\n",
    "        model.eval()\n",
    "        model.to('cpu')\n",
    "        with torch.no_grad():\n",
    "            out = model(review.unsqueeze(0), num_sents.unsqueeze(0))\n",
    "        tg, ts, a1, a2, a3, a4, a5, a_g = out\n",
    "\n",
    "\n",
    "        att_a = [a1[:3], a1[3:6],a1[6:], a2, a3, a4[:3], a4[4:], a5[:3], a5[3:]]\n",
    "\n",
    "        overall_pred = dict( zip( ['5', '4', '1~3'], list(softmax(tg[small_task-1] )[[2,1,0]].data.numpy().round(3)) ) )\n",
    "\n",
    "        S23.loc[ind,['overall(1)','overall(0)','overall(-1)']]=list(overall_pred.values())\n",
    "\n",
    "        calibrated_imp = a_g[small_task-1].flatten()[[df['mask'][ind]]].numpy() / sum(a_g[small_task-1].flatten()[[df['mask'][ind]]].numpy() )\n",
    "        aspect_imps = dict( zip( deteted_aspect_target, calibrated_imp) )\n",
    "\n",
    "        for id_, (aspect_ind, aspect_name,aspect_imp) in enumerate(zip(deteted_aspect_ind, deteted_aspect_target,aspect_imps.values())):\n",
    "        \n",
    "            a_index = np.where( (np.array(small_cat_indices[small_task-1]) == aspect_ind))[0][0]\n",
    "            aspect_pred = dict(zip(['1','0', '-1'], list(softmax(ts[small_task-1][a_index] )[[2,1,0]].data.numpy().round(3)) ))\n",
    "            S23.loc[ind,aspect_name + '(1)']=aspect_pred['1']\n",
    "            S23.loc[ind,aspect_name + '(0)']=aspect_pred['0']\n",
    "            S23.loc[ind,aspect_name + '(-1)']=aspect_pred['-1']\n",
    "            S23.loc[ind,'ATT_'+aspect_name]=aspect_imp\n",
    "\n"
   ]
  },
  {
   "cell_type": "code",
   "execution_count": 15,
   "metadata": {
    "ExecuteTime": {
     "end_time": "2021-10-29T01:49:33.709445Z",
     "start_time": "2021-10-29T01:48:37.178983Z"
    }
   },
   "outputs": [
    {
     "name": "stderr",
     "output_type": "stream",
     "text": [
      "100%|██████████████████████████████████████████████████████████████████████████████| 1036/1036 [00:56<00:00, 18.33it/s]\n"
     ]
    }
   ],
   "source": [
    "fill_s23(model, df,recent_idx)"
   ]
  },
  {
   "cell_type": "code",
   "execution_count": 16,
   "metadata": {
    "ExecuteTime": {
     "end_time": "2021-10-29T01:49:33.789463Z",
     "start_time": "2021-10-29T01:49:33.774461Z"
    }
   },
   "outputs": [],
   "source": [
    "S23_copy = S23.copy()"
   ]
  },
  {
   "cell_type": "code",
   "execution_count": 17,
   "metadata": {
    "ExecuteTime": {
     "end_time": "2021-10-29T01:49:33.901490Z",
     "start_time": "2021-10-29T01:49:33.854479Z"
    }
   },
   "outputs": [],
   "source": [
    "eps=1\n",
    "product_info=df[['name','big_category','brand','rating']]\n",
    "product_sent_ratio=pd.crosstab(product_info.name, product_info.rating)\n",
    "product_sent_ratio+=eps\n",
    "product_sent_inv_ratio=product_sent_ratio.apply(lambda x : 1/x)\n",
    "product_sent_inv_ratio=product_sent_inv_ratio.div(product_sent_inv_ratio.sum(axis=1), axis=0)\n",
    "product_sent_inv_ratio.columns=['W_overall(-1)','W_overall(0)','W_overall(1)']\n",
    "product_sent_inv_ratio.reset_index(inplace=True)"
   ]
  },
  {
   "cell_type": "code",
   "execution_count": 18,
   "metadata": {
    "ExecuteTime": {
     "end_time": "2021-10-29T01:49:33.997061Z",
     "start_time": "2021-10-29T01:49:33.983515Z"
    }
   },
   "outputs": [],
   "source": [
    "S23=pd.concat([S23,df['name']],axis=1)"
   ]
  },
  {
   "cell_type": "markdown",
   "metadata": {},
   "source": [
    "##  (score 1) Impression"
   ]
  },
  {
   "cell_type": "code",
   "execution_count": 19,
   "metadata": {
    "ExecuteTime": {
     "end_time": "2021-10-29T01:49:34.093100Z",
     "start_time": "2021-10-29T01:49:34.079078Z"
    }
   },
   "outputs": [],
   "source": [
    "S2=S23[['overall(-1)','overall(0)','overall(1)','name']]"
   ]
  },
  {
   "cell_type": "code",
   "execution_count": 20,
   "metadata": {
    "ExecuteTime": {
     "end_time": "2021-10-29T01:49:34.185120Z",
     "start_time": "2021-10-29T01:49:34.171101Z"
    }
   },
   "outputs": [],
   "source": [
    "S2=pd.merge(S2,product_sent_inv_ratio,on='name',how='left')"
   ]
  },
  {
   "cell_type": "code",
   "execution_count": 21,
   "metadata": {
    "ExecuteTime": {
     "end_time": "2021-10-29T01:49:34.279126Z",
     "start_time": "2021-10-29T01:49:34.266128Z"
    }
   },
   "outputs": [],
   "source": [
    "S2['score(-1)']=(S2['overall(-1)']*S2['W_overall(-1)']).astype('float')\n",
    "S2['score(0)']=(S2['overall(0)']*S2['W_overall(0)']).astype('float')\n",
    "S2['score(1)']=(S2['overall(1)']*S2['W_overall(1)']).astype('float')"
   ]
  },
  {
   "cell_type": "code",
   "execution_count": 22,
   "metadata": {
    "ExecuteTime": {
     "end_time": "2021-10-29T01:49:34.372872Z",
     "start_time": "2021-10-29T01:49:34.359853Z"
    }
   },
   "outputs": [],
   "source": [
    "S2=S2[['name','score(-1)','score(0)','score(1)']]"
   ]
  },
  {
   "cell_type": "code",
   "execution_count": 23,
   "metadata": {
    "ExecuteTime": {
     "end_time": "2021-10-29T01:49:34.466893Z",
     "start_time": "2021-10-29T01:49:34.453872Z"
    }
   },
   "outputs": [],
   "source": [
    "S2=S2.groupby('name').mean()[['score(-1)','score(1)']]"
   ]
  },
  {
   "cell_type": "code",
   "execution_count": 24,
   "metadata": {
    "ExecuteTime": {
     "end_time": "2021-10-29T01:49:34.562910Z",
     "start_time": "2021-10-29T01:49:34.548901Z"
    }
   },
   "outputs": [],
   "source": [
    "S2=pd.DataFrame(S2['score(1)']-S2['score(-1)'],columns=['S2'])"
   ]
  },
  {
   "cell_type": "code",
   "execution_count": 25,
   "metadata": {
    "ExecuteTime": {
     "end_time": "2021-10-29T01:49:34.658918Z",
     "start_time": "2021-10-29T01:49:34.644917Z"
    }
   },
   "outputs": [],
   "source": [
    "score1 = S2"
   ]
  },
  {
   "cell_type": "code",
   "execution_count": 26,
   "metadata": {
    "ExecuteTime": {
     "end_time": "2021-10-29T01:49:35.055455Z",
     "start_time": "2021-10-29T01:49:34.755627Z"
    }
   },
   "outputs": [
    {
     "data": {
      "text/plain": [
       "<matplotlib.axes._subplots.AxesSubplot at 0x13c35353160>"
      ]
     },
     "execution_count": 26,
     "metadata": {},
     "output_type": "execute_result"
    },
    {
     "data": {
      "image/png": "[encoded data removed]",
      "text/plain": [
       "<Figure size 432x288 with 1 Axes>"
      ]
     },
     "metadata": {
      "needs_background": "light"
     },
     "output_type": "display_data"
    }
   ],
   "source": [
    "score1['S2'].hist(bins=100)"
   ]
  },
  {
   "cell_type": "markdown",
   "metadata": {},
   "source": [
    "## (score 2) Variety"
   ]
  },
  {
   "cell_type": "code",
   "execution_count": 27,
   "metadata": {
    "ExecuteTime": {
     "end_time": "2021-10-29T01:49:35.225741Z",
     "start_time": "2021-10-29T01:49:35.198999Z"
    }
   },
   "outputs": [],
   "source": [
    "new_S3=S23[['name']]\n",
    "\n",
    "W_temp=pd.merge(new_S3,product_sent_inv_ratio,on='name',how='left')"
   ]
  },
  {
   "cell_type": "code",
   "execution_count": 28,
   "metadata": {
    "ExecuteTime": {
     "end_time": "2021-10-29T01:49:35.512996Z",
     "start_time": "2021-10-29T01:49:35.387776Z"
    }
   },
   "outputs": [
    {
     "name": "stderr",
     "output_type": "stream",
     "text": [
      "C:\\Users\\LSH\\Anaconda3\\lib\\site-packages\\pandas\\core\\indexing.py:671: SettingWithCopyWarning: \n",
      "A value is trying to be set on a copy of a slice from a DataFrame\n",
      "\n",
      "See the caveats in the documentation: https://pandas.pydata.org/pandas-docs/stable/user_guide/indexing.html#returning-a-view-versus-a-copy\n",
      "  self._setitem_with_indexer(indexer, value)\n",
      "<ipython-input-28-52ab26ad04c8>:3: SettingWithCopyWarning: \n",
      "A value is trying to be set on a copy of a slice from a DataFrame\n",
      "\n",
      "See the caveats in the documentation: https://pandas.pydata.org/pandas-docs/stable/user_guide/indexing.html#returning-a-view-versus-a-copy\n",
      "  X_temp.iloc[:,:3]=X_temp.iloc[:,:3].mul(X_temp.iloc[:,3],axis=0)\n",
      "<ipython-input-28-52ab26ad04c8>:7: SettingWithCopyWarning: \n",
      "A value is trying to be set on a copy of a slice from a DataFrame.\n",
      "Try using .loc[row_indexer,col_indexer] = value instead\n",
      "\n",
      "See the caveats in the documentation: https://pandas.pydata.org/pandas-docs/stable/user_guide/indexing.html#returning-a-view-versus-a-copy\n",
      "  new_S3[col]=score_sum\n"
     ]
    }
   ],
   "source": [
    "for col in cols1:\n",
    "    X_temp=S23[S23.columns[S23.columns.str.contains(col)]]\n",
    "    X_temp.iloc[:,:3]=X_temp.iloc[:,:3].mul(X_temp.iloc[:,3],axis=0)\n",
    "    score_plus=np.array(X_temp[col+'(1)'])*np.array(W_temp['W_overall(1)'])\n",
    "    score_minus=np.array(X_temp[col+'(-1)'])*np.array(W_temp['W_overall(-1)'])\n",
    "    score_sum=score_plus-score_minus\n",
    "    new_S3[col]=score_sum"
   ]
  },
  {
   "cell_type": "code",
   "execution_count": 29,
   "metadata": {
    "ExecuteTime": {
     "end_time": "2021-10-29T01:49:35.733912Z",
     "start_time": "2021-10-29T01:49:35.722234Z"
    }
   },
   "outputs": [],
   "source": [
    "product_names=list(set(S23['name']))"
   ]
  },
  {
   "cell_type": "code",
   "execution_count": 30,
   "metadata": {
    "ExecuteTime": {
     "end_time": "2021-10-29T01:49:35.921252Z",
     "start_time": "2021-10-29T01:49:35.909250Z"
    }
   },
   "outputs": [],
   "source": [
    "S3=pd.DataFrame(index=S2.index,columns=cols1)"
   ]
  },
  {
   "cell_type": "code",
   "execution_count": 31,
   "metadata": {
    "ExecuteTime": {
     "end_time": "2021-10-29T01:49:38.873601Z",
     "start_time": "2021-10-29T01:49:36.133009Z"
    }
   },
   "outputs": [],
   "source": [
    "for prod_nm in product_names:\n",
    "    prod_df=new_S3.groupby('name').get_group(prod_nm)    \n",
    "    score_x=prod_df.mean()\n",
    "    w=prod_df.shape[0]-prod_df.iloc[:,1:].isna().sum()\n",
    "    score_w=w/w.sum()\n",
    "    score_w=score_w.fillna(0)\n",
    "    score=(score_x*score_w)\n",
    "    S3.loc[prod_nm,:]=score"
   ]
  },
  {
   "cell_type": "code",
   "execution_count": 32,
   "metadata": {
    "ExecuteTime": {
     "end_time": "2021-10-29T01:49:39.064961Z",
     "start_time": "2021-10-29T01:49:39.051670Z"
    }
   },
   "outputs": [],
   "source": [
    "S3=pd.DataFrame(S3.sum(axis=1),columns=['S3'])"
   ]
  },
  {
   "cell_type": "code",
   "execution_count": 33,
   "metadata": {
    "ExecuteTime": {
     "end_time": "2021-10-29T01:49:39.208676Z",
     "start_time": "2021-10-29T01:49:39.195126Z"
    }
   },
   "outputs": [],
   "source": [
    "score2 = S3"
   ]
  },
  {
   "cell_type": "code",
   "execution_count": 34,
   "metadata": {
    "ExecuteTime": {
     "end_time": "2021-10-29T01:49:40.882234Z",
     "start_time": "2021-10-29T01:49:39.369786Z"
    }
   },
   "outputs": [
    {
     "data": {
      "text/plain": [
       "<matplotlib.axes._subplots.AxesSubplot at 0x13c354af520>"
      ]
     },
     "execution_count": 34,
     "metadata": {},
     "output_type": "execute_result"
    },
    {
     "data": {
      "image/png": "[encoded data removed]",
      "text/plain": [
       "<Figure size 432x288 with 1 Axes>"
      ]
     },
     "metadata": {
      "needs_background": "light"
     },
     "output_type": "display_data"
    }
   ],
   "source": [
    "score2['S3'].hist(bins=100)"
   ]
  },
  {
   "cell_type": "markdown",
   "metadata": {},
   "source": [
    "## (score 3) Association"
   ]
  },
  {
   "cell_type": "markdown",
   "metadata": {},
   "source": [
    "속성 단어 사전"
   ]
  },
  {
   "cell_type": "code",
   "execution_count": 183,
   "metadata": {
    "ExecuteTime": {
     "end_time": "2021-10-29T05:21:10.564624Z",
     "start_time": "2021-10-29T05:21:10.555628Z"
    }
   },
   "outputs": [],
   "source": [
    "def get_coocmat(nva_topK):\n",
    "    u = (pd.get_dummies(pd.DataFrame(nva_topK), prefix='', prefix_sep='')\n",
    "       .groupby(level=0, axis=1)\n",
    "       .sum())\n",
    "\n",
    "    cooc_mat = u.T.dot(u)\n",
    "    cooc_mat.values[(np.r_[:len(cooc_mat)], ) * 2] = 0\n",
    "    return cooc_mat\n",
    "    "
   ]
  },
  {
   "cell_type": "code",
   "execution_count": 184,
   "metadata": {
    "ExecuteTime": {
     "end_time": "2021-10-29T05:21:18.559081Z",
     "start_time": "2021-10-29T05:21:18.541090Z"
    }
   },
   "outputs": [],
   "source": [
    "def connectivity_from_cooc(coocurence_mat):\n",
    "    cooc_mat = coocurence_mat.copy()\n",
    "    print('shape of coocurrence matrix :',cooc_mat.shape)\n",
    "    time1 = time.time()\n",
    "    conn = cooc_mat.stack()\n",
    "    conn=conn.rename_axis(('source','target')).reset_index(name='weight')\n",
    "    G = nx.from_pandas_edgelist(conn,edge_attr=True)\n",
    "    time2 = time.time()\n",
    "    print('Constructing Graph took {} secs'.format(time2-time1))\n",
    "    for u,v,data in G.edges(data=True):\n",
    "        if 'weight' in data and data['weight']!=0:\n",
    "            data['inverse']=1/data['weight']\n",
    "        else:\n",
    "            data['inverse']=1\n",
    "    connectivity = nx.betweenness_centrality(G,normalized=False,weight='inverse',endpoints =True)\n",
    "    time3 = time.time()\n",
    "    print('Calculating Connectivity took {} secs'.format(time3-time2))\n",
    "    return connectivity"
   ]
  },
  {
   "cell_type": "code",
   "execution_count": null,
   "metadata": {},
   "outputs": [],
   "source": []
  },
  {
   "cell_type": "code",
   "execution_count": null,
   "metadata": {},
   "outputs": [],
   "source": []
  },
  {
   "cell_type": "code",
   "execution_count": 65,
   "metadata": {
    "ExecuteTime": {
     "end_time": "2021-10-29T04:52:04.378184Z",
     "start_time": "2021-10-29T04:52:04.365498Z"
    }
   },
   "outputs": [],
   "source": [
    "aspect_list = ['가격','광택','구성','디자인','만족도','맛','성분','용기','트렌드','표현','품질','휴대']"
   ]
  },
  {
   "cell_type": "code",
   "execution_count": 53,
   "metadata": {
    "ExecuteTime": {
     "end_time": "2021-10-29T04:32:33.338227Z",
     "start_time": "2021-10-29T04:32:33.327566Z"
    }
   },
   "outputs": [
    {
     "data": {
      "text/plain": [
       "211"
      ]
     },
     "execution_count": 53,
     "metadata": {},
     "output_type": "execute_result"
    }
   ],
   "source": [
    "nva=df['review_split'].apply(NVA)\n",
    "#max_window = max([len(i) for i in nva]) -1\n",
    "#nva_for_w2v=df_whole['review_split'].apply(NVA)\n",
    "#model = Word2Vec(sentences=nva_for_w2v, size=100, window=max_window, min_count=5, workers=4, sg=0)\n",
    "#model.wv.save_word2vec_format('aspect_dict_w2v') # 모델 저장\n",
    "loaded_model = KeyedVectors.load_word2vec_format(\"aspect_dict_w2v\") # 모델 로드"
   ]
  },
  {
   "cell_type": "code",
   "execution_count": null,
   "metadata": {},
   "outputs": [],
   "source": []
  },
  {
   "cell_type": "code",
   "execution_count": null,
   "metadata": {},
   "outputs": [],
   "source": []
  },
  {
   "cell_type": "code",
   "execution_count": 86,
   "metadata": {
    "ExecuteTime": {
     "end_time": "2021-10-29T04:55:46.838205Z",
     "start_time": "2021-10-29T04:55:46.817000Z"
    }
   },
   "outputs": [
    {
     "name": "stderr",
     "output_type": "stream",
     "text": [
      "<ipython-input-86-989cf4e568bd>:3: DeprecationWarning: Call to deprecated `most_similar` (Method will be removed in 4.0.0, use self.wv.most_similar() instead).\n",
      "  tmp=model.most_similar(aspect,topn=30)\n"
     ]
    }
   ],
   "source": [
    "aspect_dict = {}\n",
    "for aspect in aspect_list:\n",
    "    tmp=model.most_similar(aspect,topn=30)    \n",
    "    aspect_dict[aspect]=[i[0] for i in tmp]"
   ]
  },
  {
   "cell_type": "code",
   "execution_count": 87,
   "metadata": {
    "ExecuteTime": {
     "end_time": "2021-10-29T04:55:47.900911Z",
     "start_time": "2021-10-29T04:55:47.887726Z"
    }
   },
   "outputs": [],
   "source": [
    "import itertools\n",
    "import collections"
   ]
  },
  {
   "cell_type": "code",
   "execution_count": 177,
   "metadata": {
    "ExecuteTime": {
     "end_time": "2021-10-29T05:18:40.184801Z",
     "start_time": "2021-10-29T05:18:40.167524Z"
    }
   },
   "outputs": [],
   "source": [
    "def leave_only_aspect_and_product(nva,aspect_dict,node='brand'):\n",
    "    #------------------------------------------------------------\n",
    "    # [STEP 1] network의 node로 삼을 범위 \n",
    "    # --- 후보 1) brand         ( ex. sulhwasoo )\n",
    "    # --- 후보 2) brand+big     ( ex. sulhwasoo#catA )\n",
    "    # --- 후보 3) brand+big+prd ( ex. sulhwasoo#catA#윤조&자음생 안티에이징 스페셜 리추얼세트(쇼핑백 포함) )\n",
    "    #------------------------------------------------------------\n",
    "    nva_replaced=[]\n",
    "    nva_idx=nva.index\n",
    "    \n",
    "    assert node in ['brand','brand+big','brand+big+prd']\n",
    "    if node=='brand':\n",
    "        names=list(df['brand'])\n",
    "    elif node=='brand+big':\n",
    "        names=list(df['name_sub'])\n",
    "    else:\n",
    "        names=list(df['name'])\n",
    "    \n",
    "    #------------------------------------------------------------\n",
    "    # [STEP 2] 중복되는 단어를 가진 속성 단어는, 양쪽에서 모두 제거하기\n",
    "    # --- 근거 1) 어느쪽에 포함시켜야할지 manually 정해야\n",
    "    # --- 근거 2) (2 이상의)여러 쪽에 속해 있다 = general한 속성이다\n",
    "    #------------------------------------------------------------\n",
    "    aspect_words_total=list(itertools.chain(*list(aspect_dict.values())))\n",
    "    duplicate_words=[item for item, count in collections.Counter(aspect_words_total).items() if count > 1]\n",
    "    for aspect in aspect_list:\n",
    "        aspect_dict[aspect]=[word for word in aspect_dict[aspect] if word not in  duplicate_words]\n",
    "    \n",
    "    #------------------------------------------------------------\n",
    "    # [STEP 3] aspect dictionary를 inverse 시키기\n",
    "    #------------------------------------------------------------\n",
    "    aspect_words_total_filtered=list(itertools.chain(*list(aspect_dict.values())))\n",
    "    num_values_per_aspect=[len(list(aspect_dict.values())[i]) for i in range(len(aspect_dict.keys()))]\n",
    "    keys_ = [num_values_per_aspect[i]*[list(aspect_dict.keys())[i]] for i in range(len(aspect_dict.keys()))]\n",
    "    keys_=list(itertools.chain(*keys_))\n",
    "    \n",
    "    word2aspect_dict = dict(zip(aspect_words_total_filtered,keys_))\n",
    "    \n",
    "    #------------------------------------------------------------\n",
    "    # [STEP 4] 리뷰 내에 \"속성 단어\"가 있을 경우, \"속성\"으로 대체하고, 없으면 제거\n",
    "    #------------------------------------------------------------\n",
    "    for i in range(len(nva)):\n",
    "        nva_ = nva[nva_idx[i]]\n",
    "        tmp=list(set([x.replace(x, word2aspect_dict[x]) for x in nva_ if x in aspect_words_total_filtered]))\n",
    "        if len(tmp)>0:\n",
    "            tmp.append(names[i])\n",
    "            nva_replaced.append(tmp)\n",
    "    return (nva_replaced)"
   ]
  },
  {
   "cell_type": "code",
   "execution_count": 190,
   "metadata": {
    "ExecuteTime": {
     "end_time": "2021-10-29T05:23:03.590609Z",
     "start_time": "2021-10-29T05:23:03.272682Z"
    }
   },
   "outputs": [],
   "source": [
    "review_filtered_brand=leave_only_aspect_and_product(nva,aspect_dict,'brand')\n",
    "review_filtered_brand_big=leave_only_aspect_and_product(nva,aspect_dict,'brand+big')"
   ]
  },
  {
   "cell_type": "code",
   "execution_count": 191,
   "metadata": {
    "ExecuteTime": {
     "end_time": "2021-10-29T05:23:16.450086Z",
     "start_time": "2021-10-29T05:23:16.415069Z"
    }
   },
   "outputs": [],
   "source": [
    "cooc_mat_brand=get_coocmat(review_filtered_brand)\n",
    "cooc_mat_brand_big=get_coocmat(review_filtered_brand_big)"
   ]
  },
  {
   "cell_type": "code",
   "execution_count": 192,
   "metadata": {
    "ExecuteTime": {
     "end_time": "2021-10-29T05:23:47.149110Z",
     "start_time": "2021-10-29T05:23:47.092109Z"
    }
   },
   "outputs": [
    {
     "name": "stdout",
     "output_type": "stream",
     "text": [
      "shape of coocurrence matrix : (20, 20)\n",
      "Constructing Graph took 0.0030090808868408203 secs\n",
      "Calculating Connectivity took 0.004994869232177734 secs\n",
      "shape of coocurrence matrix : (39, 39)\n",
      "Constructing Graph took 0.006476879119873047 secs\n",
      "Calculating Connectivity took 0.035527944564819336 secs\n"
     ]
    }
   ],
   "source": [
    "connectivity_tmp_brand = connectivity_from_cooc(cooc_mat_brand)\n",
    "connectivity_tmp_brand_big = connectivity_from_cooc(cooc_mat_brand_big)"
   ]
  },
  {
   "cell_type": "code",
   "execution_count": 202,
   "metadata": {
    "ExecuteTime": {
     "end_time": "2021-10-29T05:25:33.958628Z",
     "start_time": "2021-10-29T05:25:33.946622Z"
    }
   },
   "outputs": [],
   "source": [
    "brand_included=list(set([i[-1] for i in review_filtered_brand]))\n",
    "brand_big_included=list(set([i[-1] for i in review_filtered_brand_big]))"
   ]
  },
  {
   "cell_type": "code",
   "execution_count": 207,
   "metadata": {
    "ExecuteTime": {
     "end_time": "2021-10-29T05:26:09.613280Z",
     "start_time": "2021-10-29T05:26:09.608271Z"
    }
   },
   "outputs": [],
   "source": [
    "tmp=[]\n",
    "for b in brand_included:\n",
    "    tmp.append(connectivity_tmp_brand[b])\n",
    "connectivity=tmp/max(np.array(tmp))\n",
    "\n",
    "score3_brand=dict(zip(brand_included,connectivity))"
   ]
  },
  {
   "cell_type": "code",
   "execution_count": 212,
   "metadata": {
    "ExecuteTime": {
     "end_time": "2021-10-29T05:26:42.436023Z",
     "start_time": "2021-10-29T05:26:42.419559Z"
    }
   },
   "outputs": [],
   "source": [
    "tmp=[]\n",
    "for b in brand_big_included:\n",
    "    tmp.append(connectivity_tmp_brand_big[b])\n",
    "connectivity=tmp/max(np.array(tmp))\n",
    "\n",
    "score3_brand_big=dict(zip(brand_big_included,connectivity))"
   ]
  },
  {
   "cell_type": "markdown",
   "metadata": {},
   "source": [
    "## (score 4) extension"
   ]
  },
  {
   "cell_type": "code",
   "execution_count": 15,
   "metadata": {
    "ExecuteTime": {
     "end_time": "2021-10-29T06:57:57.226608Z",
     "start_time": "2021-10-29T06:57:21.633087Z"
    }
   },
   "outputs": [
    {
     "name": "stderr",
     "output_type": "stream",
     "text": [
      "<ipython-input-15-75b336e51c9b>:1: SettingWithCopyWarning: \n",
      "A value is trying to be set on a copy of a slice from a DataFrame.\n",
      "Try using .loc[row_indexer,col_indexer] = value instead\n",
      "\n",
      "See the caveats in the documentation: https://pandas.pydata.org/pandas-docs/stable/user_guide/indexing.html#returning-a-view-versus-a-copy\n",
      "  df['s1_length']=df['review_split'].apply(len)\n",
      "<ipython-input-15-75b336e51c9b>:2: SettingWithCopyWarning: \n",
      "A value is trying to be set on a copy of a slice from a DataFrame.\n",
      "Try using .loc[row_indexer,col_indexer] = value instead\n",
      "\n",
      "See the caveats in the documentation: https://pandas.pydata.org/pandas-docs/stable/user_guide/indexing.html#returning-a-view-versus-a-copy\n",
      "  df['s1_number']=df['review_split'].apply(S1_number_func)\n",
      "<ipython-input-15-75b336e51c9b>:3: SettingWithCopyWarning: \n",
      "A value is trying to be set on a copy of a slice from a DataFrame.\n",
      "Try using .loc[row_indexer,col_indexer] = value instead\n",
      "\n",
      "See the caveats in the documentation: https://pandas.pydata.org/pandas-docs/stable/user_guide/indexing.html#returning-a-view-versus-a-copy\n",
      "  df['s1_duplicate']=df['review_split'].apply(S1_duplicate_func)\n",
      "<ipython-input-15-75b336e51c9b>:6: SettingWithCopyWarning: \n",
      "A value is trying to be set on a copy of a slice from a DataFrame.\n",
      "Try using .loc[row_indexer,col_indexer] = value instead\n",
      "\n",
      "See the caveats in the documentation: https://pandas.pydata.org/pandas-docs/stable/user_guide/indexing.html#returning-a-view-versus-a-copy\n",
      "  df['S1_diversity']=nva.apply(S1_diversity_func)\n",
      "<ipython-input-15-75b336e51c9b>:7: SettingWithCopyWarning: \n",
      "A value is trying to be set on a copy of a slice from a DataFrame.\n",
      "Try using .loc[row_indexer,col_indexer] = value instead\n",
      "\n",
      "See the caveats in the documentation: https://pandas.pydata.org/pandas-docs/stable/user_guide/indexing.html#returning-a-view-versus-a-copy\n",
      "  df['S1_number_discounted']=df['s1_number']*df['s1_duplicate']\n"
     ]
    }
   ],
   "source": [
    "df['s1_length']=df['review_split'].apply(len)\n",
    "df['s1_number']=df['review_split'].apply(S1_number_func)\n",
    "df['s1_duplicate']=df['review_split'].apply(S1_duplicate_func)\n",
    "\n",
    "nva=df['review_split'].apply(NVA)\n",
    "df['S1_diversity']=nva.apply(S1_diversity_func)\n",
    "df['S1_number_discounted']=df['s1_number']*df['s1_duplicate']"
   ]
  },
  {
   "cell_type": "code",
   "execution_count": 20,
   "metadata": {
    "ExecuteTime": {
     "end_time": "2021-10-29T06:59:50.676547Z",
     "start_time": "2021-10-29T06:59:50.661980Z"
    }
   },
   "outputs": [],
   "source": [
    "S1_cols=df.columns[df.columns.str.contains('S1')]\n",
    "S1 = df.groupby('name')[S1_cols].mean()\n",
    "S1_recency = df[['name','recency']]"
   ]
  },
  {
   "cell_type": "code",
   "execution_count": 38,
   "metadata": {
    "ExecuteTime": {
     "end_time": "2021-10-29T07:03:01.481582Z",
     "start_time": "2021-10-29T07:03:01.473295Z"
    }
   },
   "outputs": [],
   "source": [
    "recency_window=3\n",
    "max_date=S1_recency['recency'].max()\n",
    "date_range=np.arange(0,max_date-recency_window)"
   ]
  },
  {
   "cell_type": "code",
   "execution_count": 39,
   "metadata": {
    "ExecuteTime": {
     "end_time": "2021-10-29T07:03:03.029336Z",
     "start_time": "2021-10-29T07:03:01.891816Z"
    }
   },
   "outputs": [],
   "source": [
    "S1['s1_recency_list']=S1.reset_index()['name'].apply(s1_recency_list_func).values"
   ]
  },
  {
   "cell_type": "code",
   "execution_count": 70,
   "metadata": {
    "ExecuteTime": {
     "end_time": "2021-10-29T07:10:31.183271Z",
     "start_time": "2021-10-29T07:10:31.167863Z"
    }
   },
   "outputs": [],
   "source": [
    "def exp_decay_custom(alpha,list_):\n",
    "    arr=np.array(list_)\n",
    "    arr=arr/(arr.sum()+(1e-4))\n",
    "    recency=[alpha]*len(arr)*arr\n",
    "    recency=recency*[(1-alpha)**(len(recency)-i-1) for i in range(len(recency))]\n",
    "    return sum(recency)"
   ]
  },
  {
   "cell_type": "code",
   "execution_count": 75,
   "metadata": {
    "ExecuteTime": {
     "end_time": "2021-10-29T07:11:34.691764Z",
     "start_time": "2021-10-29T07:11:34.677750Z"
    }
   },
   "outputs": [],
   "source": [
    "S1['S1_recency']=S1['s1_recency_list'].apply((lambda x: exp_decay_custom(0.5,x)))"
   ]
  },
  {
   "cell_type": "code",
   "execution_count": 77,
   "metadata": {
    "ExecuteTime": {
     "end_time": "2021-10-29T07:11:55.938998Z",
     "start_time": "2021-10-29T07:11:55.928851Z"
    }
   },
   "outputs": [],
   "source": [
    "S1.drop('s1_recency_list',axis=1,inplace=True)"
   ]
  },
  {
   "cell_type": "code",
   "execution_count": 78,
   "metadata": {
    "ExecuteTime": {
     "end_time": "2021-10-29T07:11:59.581174Z",
     "start_time": "2021-10-29T07:11:59.564503Z"
    }
   },
   "outputs": [
    {
     "data": {
      "text/html": [
       "<div>\n",
       "<style scoped>\n",
       "    .dataframe tbody tr th:only-of-type {\n",
       "        vertical-align: middle;\n",
       "    }\n",
       "\n",
       "    .dataframe tbody tr th {\n",
       "        vertical-align: top;\n",
       "    }\n",
       "\n",
       "    .dataframe thead th {\n",
       "        text-align: right;\n",
       "    }\n",
       "</style>\n",
       "<table border=\"1\" class=\"dataframe\">\n",
       "  <thead>\n",
       "    <tr style=\"text-align: right;\">\n",
       "      <th></th>\n",
       "      <th>S1_diversity</th>\n",
       "      <th>S1_number_discounted</th>\n",
       "      <th>S1_recency</th>\n",
       "    </tr>\n",
       "    <tr>\n",
       "      <th>name</th>\n",
       "      <th></th>\n",
       "      <th></th>\n",
       "      <th></th>\n",
       "    </tr>\n",
       "  </thead>\n",
       "  <tbody>\n",
       "    <tr>\n",
       "      <th>amore#catA#[리필] 모이스춰 플럼핑 듀이 미스트 100ml</th>\n",
       "      <td>0.886282</td>\n",
       "      <td>23.500000</td>\n",
       "      <td>0.172601</td>\n",
       "    </tr>\n",
       "    <tr>\n",
       "      <th>amore#catA#더 에센셜 크림 플루이드 90ml</th>\n",
       "      <td>0.875850</td>\n",
       "      <td>35.500000</td>\n",
       "      <td>0.001953</td>\n",
       "    </tr>\n",
       "    <tr>\n",
       "      <th>amore#catA#라인에이징 코렉터 30ml</th>\n",
       "      <td>1.000000</td>\n",
       "      <td>14.000000</td>\n",
       "      <td>0.374944</td>\n",
       "    </tr>\n",
       "    <tr>\n",
       "      <th>amore#catA#모이스춰 플럼핑 넥타 크림 30ml</th>\n",
       "      <td>0.795139</td>\n",
       "      <td>36.666667</td>\n",
       "      <td>0.008928</td>\n",
       "    </tr>\n",
       "    <tr>\n",
       "      <th>amore#catA#모이스춰 플럼핑 넥타 크림 50ml</th>\n",
       "      <td>0.898349</td>\n",
       "      <td>31.500000</td>\n",
       "      <td>0.006836</td>\n",
       "    </tr>\n",
       "    <tr>\n",
       "      <th>...</th>\n",
       "      <td>...</td>\n",
       "      <td>...</td>\n",
       "      <td>...</td>\n",
       "    </tr>\n",
       "    <tr>\n",
       "      <th>sulhwasoo#catB#[설화수x피카소] 퍼펙팅파운데이션 17N + 산수화 브러쉬 세트</th>\n",
       "      <td>0.774194</td>\n",
       "      <td>27.000000</td>\n",
       "      <td>0.018227</td>\n",
       "    </tr>\n",
       "    <tr>\n",
       "      <th>sulhwasoo#catB#[설화수x피카소] 퍼펙팅파운데이션 21N + 산수화 브러쉬 세트</th>\n",
       "      <td>0.827891</td>\n",
       "      <td>77.333333</td>\n",
       "      <td>0.188218</td>\n",
       "    </tr>\n",
       "    <tr>\n",
       "      <th>sulhwasoo#catB#퍼펙팅 쿠션 SPF50+/PA+++ 15g*2(본품+리필)</th>\n",
       "      <td>0.779957</td>\n",
       "      <td>29.800000</td>\n",
       "      <td>0.141735</td>\n",
       "    </tr>\n",
       "    <tr>\n",
       "      <th>sulhwasoo#catE#트래블키트 백은향 50ml*4</th>\n",
       "      <td>0.909091</td>\n",
       "      <td>25.000000</td>\n",
       "      <td>0.001465</td>\n",
       "    </tr>\n",
       "    <tr>\n",
       "      <th>sulhwasoo#catE#핸드크림 백은향 40ml</th>\n",
       "      <td>0.931034</td>\n",
       "      <td>27.000000</td>\n",
       "      <td>0.499850</td>\n",
       "    </tr>\n",
       "  </tbody>\n",
       "</table>\n",
       "<p>248 rows × 3 columns</p>\n",
       "</div>"
      ],
      "text/plain": [
       "                                                    S1_diversity  \\\n",
       "name                                                               \n",
       "amore#catA#[리필] 모이스춰 플럼핑 듀이 미스트 100ml                   0.886282   \n",
       "amore#catA#더 에센셜 크림 플루이드 90ml                           0.875850   \n",
       "amore#catA#라인에이징 코렉터 30ml                               1.000000   \n",
       "amore#catA#모이스춰 플럼핑 넥타 크림 30ml                          0.795139   \n",
       "amore#catA#모이스춰 플럼핑 넥타 크림 50ml                          0.898349   \n",
       "...                                                          ...   \n",
       "sulhwasoo#catB#[설화수x피카소] 퍼펙팅파운데이션 17N + 산수화 브러쉬...      0.774194   \n",
       "sulhwasoo#catB#[설화수x피카소] 퍼펙팅파운데이션 21N + 산수화 브러쉬...      0.827891   \n",
       "sulhwasoo#catB#퍼펙팅 쿠션 SPF50+/PA+++ 15g*2(본품+리필)         0.779957   \n",
       "sulhwasoo#catE#트래블키트 백은향 50ml*4                         0.909091   \n",
       "sulhwasoo#catE#핸드크림 백은향 40ml                            0.931034   \n",
       "\n",
       "                                                    S1_number_discounted  \\\n",
       "name                                                                       \n",
       "amore#catA#[리필] 모이스춰 플럼핑 듀이 미스트 100ml                          23.500000   \n",
       "amore#catA#더 에센셜 크림 플루이드 90ml                                  35.500000   \n",
       "amore#catA#라인에이징 코렉터 30ml                                      14.000000   \n",
       "amore#catA#모이스춰 플럼핑 넥타 크림 30ml                                 36.666667   \n",
       "amore#catA#모이스춰 플럼핑 넥타 크림 50ml                                 31.500000   \n",
       "...                                                                  ...   \n",
       "sulhwasoo#catB#[설화수x피카소] 퍼펙팅파운데이션 17N + 산수화 브러쉬...             27.000000   \n",
       "sulhwasoo#catB#[설화수x피카소] 퍼펙팅파운데이션 21N + 산수화 브러쉬...             77.333333   \n",
       "sulhwasoo#catB#퍼펙팅 쿠션 SPF50+/PA+++ 15g*2(본품+리필)                29.800000   \n",
       "sulhwasoo#catE#트래블키트 백은향 50ml*4                                25.000000   \n",
       "sulhwasoo#catE#핸드크림 백은향 40ml                                   27.000000   \n",
       "\n",
       "                                                    S1_recency  \n",
       "name                                                            \n",
       "amore#catA#[리필] 모이스춰 플럼핑 듀이 미스트 100ml                 0.172601  \n",
       "amore#catA#더 에센셜 크림 플루이드 90ml                         0.001953  \n",
       "amore#catA#라인에이징 코렉터 30ml                             0.374944  \n",
       "amore#catA#모이스춰 플럼핑 넥타 크림 30ml                        0.008928  \n",
       "amore#catA#모이스춰 플럼핑 넥타 크림 50ml                        0.006836  \n",
       "...                                                        ...  \n",
       "sulhwasoo#catB#[설화수x피카소] 퍼펙팅파운데이션 17N + 산수화 브러쉬...    0.018227  \n",
       "sulhwasoo#catB#[설화수x피카소] 퍼펙팅파운데이션 21N + 산수화 브러쉬...    0.188218  \n",
       "sulhwasoo#catB#퍼펙팅 쿠션 SPF50+/PA+++ 15g*2(본품+리필)       0.141735  \n",
       "sulhwasoo#catE#트래블키트 백은향 50ml*4                       0.001465  \n",
       "sulhwasoo#catE#핸드크림 백은향 40ml                          0.499850  \n",
       "\n",
       "[248 rows x 3 columns]"
      ]
     },
     "execution_count": 78,
     "metadata": {},
     "output_type": "execute_result"
    }
   ],
   "source": [
    "S1"
   ]
  },
  {
   "cell_type": "markdown",
   "metadata": {},
   "source": [
    "# 계산하기"
   ]
  },
  {
   "cell_type": "markdown",
   "metadata": {},
   "source": [
    "## brand"
   ]
  },
  {
   "cell_type": "markdown",
   "metadata": {},
   "source": [
    "### score 1"
   ]
  },
  {
   "cell_type": "code",
   "execution_count": 317,
   "metadata": {
    "ExecuteTime": {
     "end_time": "2021-10-29T06:45:21.209638Z",
     "start_time": "2021-10-29T06:45:21.175631Z"
    }
   },
   "outputs": [
    {
     "data": {
      "text/plain": [
       "brand\n",
       "amore        0.056732\n",
       "hanyul      -0.041780\n",
       "hera        -0.061419\n",
       "iope         0.047827\n",
       "laneige      0.008107\n",
       "mamonde     -0.023182\n",
       "primera      0.016902\n",
       "sulhwasoo   -0.003188\n",
       "Name: S2, dtype: float64"
      ]
     },
     "execution_count": 317,
     "metadata": {},
     "output_type": "execute_result"
    }
   ],
   "source": [
    "temp=pd.DataFrame(score1).reset_index()\n",
    "temp['brand'] = temp['name'].apply(lambda x:x.split('#')[0])\n",
    "temp['weight']=df.groupby('name').count().iloc[:,0].values\n",
    "temp2=pd.DataFrame(temp.groupby('brand').sum()['weight']).reset_index()\n",
    "temp3=pd.merge(temp,temp2, how='left', left_on='brand', right_on='brand')\n",
    "temp3['weight']=temp3['weight_x']/temp3['weight_y']\n",
    "temp3['S2']=temp3['S2']*temp3['weight']\n",
    "temp4=temp3.groupby('brand').sum()['S2']\n",
    "Score1=temp4-temp4.mean()\n",
    "Score1"
   ]
  },
  {
   "cell_type": "markdown",
   "metadata": {},
   "source": [
    "### score 2"
   ]
  },
  {
   "cell_type": "code",
   "execution_count": 321,
   "metadata": {
    "ExecuteTime": {
     "end_time": "2021-10-29T06:47:11.903239Z",
     "start_time": "2021-10-29T06:47:11.867219Z"
    }
   },
   "outputs": [
    {
     "data": {
      "text/plain": [
       "brand\n",
       "amore        0.039208\n",
       "hanyul      -0.021205\n",
       "hera        -0.014093\n",
       "iope         0.001239\n",
       "laneige      0.006075\n",
       "mamonde     -0.004429\n",
       "primera     -0.001958\n",
       "sulhwasoo   -0.004838\n",
       "Name: S3, dtype: float64"
      ]
     },
     "execution_count": 321,
     "metadata": {},
     "output_type": "execute_result"
    }
   ],
   "source": [
    "temp=pd.DataFrame(score2).reset_index()\n",
    "temp['brand'] = temp['name'].apply(lambda x:x.split('#')[0])\n",
    "temp['weight']=df.groupby('name').count().iloc[:,0].values\n",
    "temp2=pd.DataFrame(temp.groupby('brand').sum()['weight']).reset_index()\n",
    "temp3=pd.merge(temp,temp2, how='left', left_on='brand', right_on='brand')\n",
    "temp3['weight']=temp3['weight_x']/temp3['weight_y']\n",
    "temp3['S3']=temp3['S3']*temp3['weight']\n",
    "temp4=temp3.groupby('brand').sum()['S3']\n",
    "Score2=temp4-temp4.mean()\n",
    "Score2"
   ]
  },
  {
   "cell_type": "markdown",
   "metadata": {},
   "source": [
    "### score 3 "
   ]
  },
  {
   "cell_type": "code",
   "execution_count": 322,
   "metadata": {
    "ExecuteTime": {
     "end_time": "2021-10-29T06:47:37.212542Z",
     "start_time": "2021-10-29T06:47:37.204357Z"
    }
   },
   "outputs": [],
   "source": [
    "Score3=pd.Series(score3_brand)\n",
    "Score3=Score3.sort_index(ascending=True)"
   ]
  },
  {
   "cell_type": "markdown",
   "metadata": {},
   "source": [
    "### score 4"
   ]
  },
  {
   "cell_type": "code",
   "execution_count": null,
   "metadata": {},
   "outputs": [],
   "source": []
  },
  {
   "cell_type": "markdown",
   "metadata": {},
   "source": [
    "### concatenate"
   ]
  },
  {
   "cell_type": "code",
   "execution_count": null,
   "metadata": {},
   "outputs": [],
   "source": [
    "#cbs=pd.concat([Score1,Score2,Score3],axis=1)\n",
    "#cbs.columns=['I','V','A']"
   ]
  },
  {
   "cell_type": "code",
   "execution_count": null,
   "metadata": {},
   "outputs": [],
   "source": [
    "#cbs.to_csv('cbs.csv')"
   ]
  },
  {
   "cell_type": "markdown",
   "metadata": {},
   "source": [
    "## brand+big "
   ]
  },
  {
   "cell_type": "markdown",
   "metadata": {},
   "source": [
    "### score 1"
   ]
  },
  {
   "cell_type": "code",
   "execution_count": 328,
   "metadata": {
    "ExecuteTime": {
     "end_time": "2021-10-29T06:49:06.208511Z",
     "start_time": "2021-10-29T06:49:06.183508Z"
    },
    "scrolled": true
   },
   "outputs": [
    {
     "data": {
      "text/plain": [
       "brand\n",
       "amore#catA        0.040168\n",
       "amore#catB        0.058101\n",
       "hanyul#catA      -0.061004\n",
       "hanyul#catB       0.073443\n",
       "hanyul#catC      -0.014464\n",
       "hanyul#catE      -0.046947\n",
       "hera#catA        -0.010271\n",
       "hera#catB        -0.091168\n",
       "hera#catC        -0.129826\n",
       "hera#catD        -0.013692\n",
       "iope#catA         0.034957\n",
       "iope#catB         0.120843\n",
       "iope#catE         0.002604\n",
       "laneige#catA     -0.002857\n",
       "laneige#catB     -0.020902\n",
       "laneige#catC      0.023187\n",
       "mamonde#catA     -0.038123\n",
       "mamonde#catB      0.060843\n",
       "mamonde#catC     -0.003139\n",
       "mamonde#catD     -0.120812\n",
       "mamonde#catE      0.033636\n",
       "primera#catA     -0.004527\n",
       "primera#catC     -0.023407\n",
       "primera#catE      0.048427\n",
       "sulhwasoo#catA   -0.027417\n",
       "sulhwasoo#catB    0.022501\n",
       "sulhwasoo#catE    0.089843\n",
       "Name: S2, dtype: float64"
      ]
     },
     "execution_count": 328,
     "metadata": {},
     "output_type": "execute_result"
    }
   ],
   "source": [
    "temp=pd.DataFrame(score1).reset_index()\n",
    "temp['brand'] = temp['name'].apply(lambda x:'#'.join(x.split('#')[0:2]))\n",
    "temp['weight']=df.groupby('name').count().iloc[:,0].values\n",
    "temp2=pd.DataFrame(temp.groupby('brand').sum()['weight']).reset_index()\n",
    "temp3=pd.merge(temp,temp2, how='left', left_on='brand', right_on='brand')\n",
    "temp3['weight']=temp3['weight_x']/temp3['weight_y']\n",
    "temp3['S2']=temp3['S2']*temp3['weight']\n",
    "temp4=temp3.groupby('brand').sum()['S2']\n",
    "Score1=temp4-temp4.mean()\n",
    "Score1"
   ]
  },
  {
   "cell_type": "markdown",
   "metadata": {},
   "source": [
    "### score 2"
   ]
  },
  {
   "cell_type": "code",
   "execution_count": 329,
   "metadata": {
    "ExecuteTime": {
     "end_time": "2021-10-29T06:49:32.837143Z",
     "start_time": "2021-10-29T06:49:32.800121Z"
    }
   },
   "outputs": [
    {
     "data": {
      "text/plain": [
       "brand\n",
       "amore#catA        0.041398\n",
       "amore#catB        0.045602\n",
       "hanyul#catA      -0.007843\n",
       "hanyul#catB       0.019337\n",
       "hanyul#catC       0.028217\n",
       "hanyul#catE      -0.104506\n",
       "hera#catA         0.005760\n",
       "hera#catB        -0.030414\n",
       "hera#catC        -0.015405\n",
       "hera#catD        -0.002438\n",
       "iope#catA         0.029559\n",
       "iope#catB         0.098571\n",
       "iope#catE        -0.162131\n",
       "laneige#catA      0.007203\n",
       "laneige#catB      0.010091\n",
       "laneige#catC      0.019103\n",
       "mamonde#catA     -0.000255\n",
       "mamonde#catB      0.021877\n",
       "mamonde#catC      0.027317\n",
       "mamonde#catD     -0.007225\n",
       "mamonde#catE     -0.066127\n",
       "primera#catA      0.007354\n",
       "primera#catC     -0.029240\n",
       "primera#catE     -0.036433\n",
       "sulhwasoo#catA   -0.008429\n",
       "sulhwasoo#catB    0.022181\n",
       "sulhwasoo#catE    0.086877\n",
       "Name: S3, dtype: float64"
      ]
     },
     "execution_count": 329,
     "metadata": {},
     "output_type": "execute_result"
    }
   ],
   "source": [
    "temp=pd.DataFrame(score2).reset_index()\n",
    "temp['brand'] = temp['name'].apply(lambda x:'#'.join(x.split('#')[0:2]))\n",
    "temp['weight']=df.groupby('name').count().iloc[:,0].values\n",
    "temp2=pd.DataFrame(temp.groupby('brand').sum()['weight']).reset_index()\n",
    "temp3=pd.merge(temp,temp2, how='left', left_on='brand', right_on='brand')\n",
    "temp3['weight']=temp3['weight_x']/temp3['weight_y']\n",
    "temp3['S3']=temp3['S3']*temp3['weight']\n",
    "temp4=temp3.groupby('brand').sum()['S3']\n",
    "Score2=temp4-temp4.mean()\n",
    "Score2"
   ]
  },
  {
   "cell_type": "markdown",
   "metadata": {},
   "source": [
    "### score 3"
   ]
  },
  {
   "cell_type": "code",
   "execution_count": 330,
   "metadata": {
    "ExecuteTime": {
     "end_time": "2021-10-29T06:49:39.763792Z",
     "start_time": "2021-10-29T06:49:39.759778Z"
    }
   },
   "outputs": [],
   "source": [
    "Score3=pd.Series(score3_brand_big)\n",
    "Score3=Score3.sort_index(ascending=True)"
   ]
  },
  {
   "cell_type": "markdown",
   "metadata": {},
   "source": [
    "### score 4"
   ]
  },
  {
   "cell_type": "code",
   "execution_count": null,
   "metadata": {},
   "outputs": [],
   "source": []
  },
  {
   "cell_type": "markdown",
   "metadata": {},
   "source": [
    "### concatenate"
   ]
  },
  {
   "cell_type": "code",
   "execution_count": 331,
   "metadata": {
    "ExecuteTime": {
     "end_time": "2021-10-29T06:49:40.399608Z",
     "start_time": "2021-10-29T06:49:40.386126Z"
    }
   },
   "outputs": [],
   "source": [
    "#cbs2=pd.concat([Score1,Score2,Score3],axis=1)\n",
    "#cbs2.columns=['I','V','A']"
   ]
  },
  {
   "cell_type": "code",
   "execution_count": 333,
   "metadata": {
    "ExecuteTime": {
     "end_time": "2021-10-29T06:49:43.489081Z",
     "start_time": "2021-10-29T06:49:43.470054Z"
    }
   },
   "outputs": [],
   "source": [
    "#cbs2.to_csv('cbs2.csv')"
   ]
  },
  {
   "cell_type": "code",
   "execution_count": null,
   "metadata": {},
   "outputs": [],
   "source": []
  }
 ],
 "metadata": {
  "hide_input": false,
  "kernelspec": {
   "display_name": "Python 3 (ipykernel)",
   "language": "python",
   "name": "python3"
  },
  "language_info": {
   "codemirror_mode": {
    "name": "ipython",
    "version": 3
   },
   "file_extension": ".py",
   "mimetype": "text/x-python",
   "name": "python",
   "nbconvert_exporter": "python",
   "pygments_lexer": "ipython3",
   "version": "3.8.3"
  },
  "nbTranslate": {
   "displayLangs": [
    "*"
   ],
   "hotkey": "alt-t",
   "langInMainMenu": true,
   "sourceLang": "en",
   "targetLang": "fr",
   "useGoogleTranslate": true
  },
  "toc": {
   "base_numbering": 1,
   "nav_menu": {},
   "number_sections": true,
   "sideBar": true,
   "skip_h1_title": false,
   "title_cell": "Table of Contents",
   "title_sidebar": "Contents",
   "toc_cell": false,
   "toc_position": {},
   "toc_section_display": true,
   "toc_window_display": true
  },
  "varInspector": {
   "cols": {
    "lenName": 16,
    "lenType": 16,
    "lenVar": 40
   },
   "kernels_config": {
    "python": {
     "delete_cmd_postfix": "",
     "delete_cmd_prefix": "del ",
     "library": "var_list.py",
     "varRefreshCmd": "print(var_dic_list())"
    },
    "r": {
     "delete_cmd_postfix": ") ",
     "delete_cmd_prefix": "rm(",
     "library": "var_list.r",
     "varRefreshCmd": "cat(var_dic_list()) "
    }
   },
   "types_to_exclude": [
    "module",
    "function",
    "builtin_function_or_method",
    "instance",
    "_Feature"
   ],
   "window_display": false
  }
 },
 "nbformat": 4,
 "nbformat_minor": 4
}
