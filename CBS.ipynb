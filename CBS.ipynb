{
 "cells": [
  {
   "cell_type": "markdown",
   "metadata": {},
   "source": [
    "# Import Data & Packages"
   ]
  },
  {
   "cell_type": "code",
   "execution_count": 1,
   "metadata": {
    "ExecuteTime": {
     "end_time": "2021-10-28T03:35:14.791733Z",
     "start_time": "2021-10-28T03:35:12.751931Z"
    }
   },
   "outputs": [],
   "source": [
    "import pandas as pd\n",
    "import numpy as np\n",
    "import datetime\n",
    "from ast import literal_eval\n",
    "import konlpy\n",
    "from collections import Counter\n",
    "import time\n",
    "import networkx as nx\n",
    "import matplotlib.pyplot as plt"
   ]
  },
  {
   "cell_type": "code",
   "execution_count": 2,
   "metadata": {
    "ExecuteTime": {
     "end_time": "2021-10-28T03:35:47.138807Z",
     "start_time": "2021-10-28T03:35:14.826738Z"
    }
   },
   "outputs": [
    {
     "name": "stdout",
     "output_type": "stream",
     "text": [
      "(50183, 50)\n"
     ]
    }
   ],
   "source": [
    "df_whole=pd.read_json('amore_data_detected_bert.json')\n",
    "df_whole['review_split_string']=df_whole['review_split'].copy()\n",
    "df_whole['review_split']=df_whole['review_split_string'].apply(literal_eval)\n",
    "print(df_whole.shape)"
   ]
  },
  {
   "cell_type": "code",
   "execution_count": 3,
   "metadata": {
    "ExecuteTime": {
     "end_time": "2021-10-28T03:35:57.260388Z",
     "start_time": "2021-10-28T03:35:47.285968Z"
    }
   },
   "outputs": [
    {
     "ename": "NameError",
     "evalue": "name 'df' is not defined",
     "output_type": "error",
     "traceback": [
      "\u001b[1;31m---------------------------------------------------------------------------\u001b[0m",
      "\u001b[1;31mNameError\u001b[0m                                 Traceback (most recent call last)",
      "\u001b[1;32m<ipython-input-3-d3f5dd492e01>\u001b[0m in \u001b[0;36m<module>\u001b[1;34m\u001b[0m\n\u001b[0;32m      2\u001b[0m \u001b[0mdf_whole\u001b[0m\u001b[1;33m[\u001b[0m\u001b[1;34m'name_sub'\u001b[0m\u001b[1;33m]\u001b[0m\u001b[1;33m=\u001b[0m\u001b[0mdf_whole\u001b[0m\u001b[1;33m[\u001b[0m\u001b[1;33m[\u001b[0m\u001b[1;34m'brand'\u001b[0m\u001b[1;33m,\u001b[0m\u001b[1;34m'big_category'\u001b[0m\u001b[1;33m]\u001b[0m\u001b[1;33m]\u001b[0m\u001b[1;33m.\u001b[0m\u001b[0magg\u001b[0m\u001b[1;33m(\u001b[0m\u001b[1;34m'#'\u001b[0m\u001b[1;33m.\u001b[0m\u001b[0mjoin\u001b[0m\u001b[1;33m,\u001b[0m \u001b[0maxis\u001b[0m\u001b[1;33m=\u001b[0m\u001b[1;36m1\u001b[0m\u001b[1;33m)\u001b[0m\u001b[1;33m\u001b[0m\u001b[1;33m\u001b[0m\u001b[0m\n\u001b[0;32m      3\u001b[0m \u001b[1;33m\u001b[0m\u001b[0m\n\u001b[1;32m----> 4\u001b[1;33m \u001b[0mbrand\u001b[0m\u001b[1;33m=\u001b[0m\u001b[0mlist\u001b[0m\u001b[1;33m(\u001b[0m\u001b[0mset\u001b[0m\u001b[1;33m(\u001b[0m\u001b[0mdf\u001b[0m\u001b[1;33m[\u001b[0m\u001b[1;34m'brand'\u001b[0m\u001b[1;33m]\u001b[0m\u001b[1;33m)\u001b[0m\u001b[1;33m)\u001b[0m\u001b[1;33m\u001b[0m\u001b[1;33m\u001b[0m\u001b[0m\n\u001b[0m\u001b[0;32m      5\u001b[0m \u001b[0mprod_name\u001b[0m\u001b[1;33m=\u001b[0m\u001b[0mlist\u001b[0m\u001b[1;33m(\u001b[0m\u001b[0mset\u001b[0m\u001b[1;33m(\u001b[0m\u001b[0mdf\u001b[0m\u001b[1;33m[\u001b[0m\u001b[1;34m'name'\u001b[0m\u001b[1;33m]\u001b[0m\u001b[1;33m)\u001b[0m\u001b[1;33m)\u001b[0m\u001b[1;33m\u001b[0m\u001b[1;33m\u001b[0m\u001b[0m\n\u001b[0;32m      6\u001b[0m \u001b[0mprod_name_sub\u001b[0m\u001b[1;33m=\u001b[0m\u001b[0mlist\u001b[0m\u001b[1;33m(\u001b[0m\u001b[0mset\u001b[0m\u001b[1;33m(\u001b[0m\u001b[0mdf\u001b[0m\u001b[1;33m[\u001b[0m\u001b[1;34m'name_sub'\u001b[0m\u001b[1;33m]\u001b[0m\u001b[1;33m)\u001b[0m\u001b[1;33m)\u001b[0m\u001b[1;33m\u001b[0m\u001b[1;33m\u001b[0m\u001b[0m\n",
      "\u001b[1;31mNameError\u001b[0m: name 'df' is not defined"
     ]
    }
   ],
   "source": [
    "df_whole['name']=df_whole[['brand','big_category','prod_nm']].agg('#'.join, axis=1)\n",
    "df_whole['name_sub']=df_whole[['brand','big_category']].agg('#'.join, axis=1)\n",
    "\n",
    "brand=list(set(df['brand']))\n",
    "prod_name=list(set(df['name']))\n",
    "prod_name_sub=list(set(df['name_sub']))"
   ]
  },
  {
   "cell_type": "code",
   "execution_count": null,
   "metadata": {
    "ExecuteTime": {
     "end_time": "2021-10-28T03:35:57.265386Z",
     "start_time": "2021-10-28T03:35:15.774Z"
    }
   },
   "outputs": [],
   "source": [
    "df_whole.head(2)"
   ]
  },
  {
   "cell_type": "markdown",
   "metadata": {},
   "source": [
    "# Functions"
   ]
  },
  {
   "cell_type": "code",
   "execution_count": null,
   "metadata": {
    "ExecuteTime": {
     "end_time": "2021-10-28T03:35:57.271384Z",
     "start_time": "2021-10-28T03:35:16.349Z"
    }
   },
   "outputs": [],
   "source": [
    "def S1_number_func(x):\n",
    "    return(sum([len(x[i].split(' ')) for i in range(len(x))]))\n",
    "\n",
    "def S1_duplicate_func(x):\n",
    "    return(len(set(x))/len(x))\n",
    "    \n",
    "def NVA(x):    \n",
    "    total_words=[]\n",
    "    for i, document in enumerate(list(set(x))):\n",
    "        okt = konlpy.tag.Okt()\n",
    "        clean_words = []\n",
    "        for word in okt.pos(document, stem=True): \n",
    "            if word[1] in ['Noun', 'Verb', 'Adjective']: \n",
    "                clean_words.append(word[0])\n",
    "        total_words.append(clean_words)\n",
    "    result = []\n",
    "    for x in total_words:\n",
    "        result.extend(x)\n",
    "    return result\n",
    "\n",
    "\n",
    "def S1_diversity_func(NVA):  \n",
    "    return(len(set(NVA))/len(NVA))\n",
    "    \n",
    "\n",
    "\n",
    "def s1_recency_func(x,date):\n",
    "    return((date-x.date()).days)\n",
    "\n",
    "def S1_recency_func(x,max_date,window):\n",
    "    \"\"\"\n",
    "    max=50 ( 50,49,,...1 )\n",
    "    ----------------------------------------\n",
    "    50,49,48,47,46 .... (max-0)~(max-window+1)\n",
    "    49,48,47,46,45 .... (max-1)~(max-window+0)\n",
    "    48,47,46,45,44 .... (max-2)~(max-window-1)\n",
    "    ...\n",
    "    5,4,3,2,1 ...,,,,,,. (max-45)~(max-window-44)\n",
    "    ----------------------------------------\n",
    "    max-45가 window가 될 때 까지\n",
    "    \"\"\"\n",
    "    lower = max_date\n",
    "    upper = max_date-window+1\n",
    "    lower_sign=(x<=lower)\n",
    "    upper_sign=(x>=upper)\n",
    "    sign=lower_sign*upper_sign\n",
    "    return sign\n",
    "\n",
    "def s1_recency_list_func(prod_nm):\n",
    "    tmp=S1_recency[S1_recency['prod_nm']==prod_nm]\n",
    "    MA_list=[]\n",
    "    for i in date_range:\n",
    "        window_count = len(tmp['s1_recency'][tmp['s1_recency'].apply((lambda x: S1_recency_func(x,max_date-i,recency_window)))>0])\n",
    "        window_count_mean = window_count/recency_window\n",
    "        MA_list.append(window_count_mean)\n",
    "    return MA_list"
   ]
  },
  {
   "cell_type": "markdown",
   "metadata": {},
   "source": [
    "# CBS"
   ]
  },
  {
   "cell_type": "markdown",
   "metadata": {},
   "source": [
    "각 요소는 0~1사이 값을 가지도록 구성한다"
   ]
  },
  {
   "cell_type": "markdown",
   "metadata": {},
   "source": [
    "## 날짜 범위 설정"
   ]
  },
  {
   "cell_type": "markdown",
   "metadata": {},
   "source": [
    "- 점수 계산 날짜 : (x)일\n",
    "- 점수 계산 대상 날짜 : (x-14)일~ (x)일"
   ]
  },
  {
   "cell_type": "code",
   "execution_count": 15,
   "metadata": {
    "ExecuteTime": {
     "end_time": "2021-10-28T01:57:02.081602Z",
     "start_time": "2021-10-28T01:57:02.067391Z"
    }
   },
   "outputs": [],
   "source": [
    "def get_current_Kdays(df,current_Y,current_M,current_D,K=14):\n",
    "    eval_date = datetime.date(current_Y,current_M,current_D)\n",
    "    df['recency']=df['date'].apply((lambda x: s1_recency_func(x,eval_date)))\n",
    "    return df[df['recency']<K]"
   ]
  },
  {
   "cell_type": "code",
   "execution_count": 16,
   "metadata": {
    "ExecuteTime": {
     "end_time": "2021-10-28T01:57:14.239449Z",
     "start_time": "2021-10-28T01:57:14.015294Z"
    }
   },
   "outputs": [],
   "source": [
    "df = get_current_Kdays(df_whole,2021,7,31,K=14)"
   ]
  },
  {
   "cell_type": "code",
   "execution_count": 17,
   "metadata": {
    "ExecuteTime": {
     "end_time": "2021-10-28T01:57:19.855973Z",
     "start_time": "2021-10-28T01:57:19.848966Z"
    }
   },
   "outputs": [
    {
     "data": {
      "text/plain": [
       "(1036, 53)"
      ]
     },
     "execution_count": 17,
     "metadata": {},
     "output_type": "execute_result"
    }
   ],
   "source": [
    "df.shape"
   ]
  },
  {
   "cell_type": "markdown",
   "metadata": {},
   "source": [
    "## (score 1) Prevalence"
   ]
  },
  {
   "cell_type": "code",
   "execution_count": 19,
   "metadata": {
    "ExecuteTime": {
     "end_time": "2021-10-28T01:57:26.921305Z",
     "start_time": "2021-10-28T01:57:26.893350Z"
    }
   },
   "outputs": [],
   "source": [
    "score1 = df['name'].value_counts()\n",
    "score1 = score1/score1.max()"
   ]
  },
  {
   "cell_type": "code",
   "execution_count": 38,
   "metadata": {
    "ExecuteTime": {
     "end_time": "2021-10-28T02:03:34.952013Z",
     "start_time": "2021-10-28T02:03:34.732965Z"
    }
   },
   "outputs": [
    {
     "data": {
      "text/plain": [
       "<matplotlib.axes._subplots.AxesSubplot at 0x226b49afc70>"
      ]
     },
     "execution_count": 38,
     "metadata": {},
     "output_type": "execute_result"
    },
    {
     "data": {
      "image/png": "[encoded data removed]",
      "text/plain": [
       "<Figure size 432x288 with 1 Axes>"
      ]
     },
     "metadata": {
      "needs_background": "light"
     },
     "output_type": "display_data"
    }
   ],
   "source": [
    "score1.plot(kind='hist',bins=100,title='[score 1] Prevalence')"
   ]
  },
  {
   "cell_type": "markdown",
   "metadata": {},
   "source": [
    "## (score 2) Diversity"
   ]
  },
  {
   "cell_type": "markdown",
   "metadata": {},
   "source": [
    "- nva : Noun + Verb + Adjective\n",
    "- 소요 시간 : **0.04초/1개 리뷰**"
   ]
  },
  {
   "cell_type": "code",
   "execution_count": 86,
   "metadata": {
    "ExecuteTime": {
     "end_time": "2021-10-28T02:15:01.872237Z",
     "start_time": "2021-10-28T02:14:04.737644Z"
    }
   },
   "outputs": [],
   "source": [
    "nva=df['review_split'].apply(NVA)"
   ]
  },
  {
   "cell_type": "code",
   "execution_count": 28,
   "metadata": {
    "ExecuteTime": {
     "end_time": "2021-10-28T02:01:00.338363Z",
     "start_time": "2021-10-28T02:01:00.329362Z"
    }
   },
   "outputs": [
    {
     "name": "stderr",
     "output_type": "stream",
     "text": [
      "<ipython-input-28-0a59c65ad644>:1: SettingWithCopyWarning: \n",
      "A value is trying to be set on a copy of a slice from a DataFrame.\n",
      "Try using .loc[row_indexer,col_indexer] = value instead\n",
      "\n",
      "See the caveats in the documentation: https://pandas.pydata.org/pandas-docs/stable/user_guide/indexing.html#returning-a-view-versus-a-copy\n",
      "  df['diversity'] = nva.apply(S1_diversity_func)\n"
     ]
    }
   ],
   "source": [
    "df['diversity'] = nva.apply(S1_diversity_func)"
   ]
  },
  {
   "cell_type": "code",
   "execution_count": 31,
   "metadata": {
    "ExecuteTime": {
     "end_time": "2021-10-28T02:02:21.441595Z",
     "start_time": "2021-10-28T02:02:21.423166Z"
    }
   },
   "outputs": [],
   "source": [
    "score2=df.groupby('name').mean()['diversity']"
   ]
  },
  {
   "cell_type": "code",
   "execution_count": 39,
   "metadata": {
    "ExecuteTime": {
     "end_time": "2021-10-28T02:03:48.124325Z",
     "start_time": "2021-10-28T02:03:47.907443Z"
    }
   },
   "outputs": [
    {
     "data": {
      "text/plain": [
       "<matplotlib.axes._subplots.AxesSubplot at 0x226b4b409d0>"
      ]
     },
     "execution_count": 39,
     "metadata": {},
     "output_type": "execute_result"
    },
    {
     "data": {
      "image/png": "[encoded data removed]",
      "text/plain": [
       "<Figure size 432x288 with 1 Axes>"
      ]
     },
     "metadata": {
      "needs_background": "light"
     },
     "output_type": "display_data"
    }
   ],
   "source": [
    "score2.plot(kind='hist',bins=100,title='[score 2] Diversity')"
   ]
  },
  {
   "cell_type": "markdown",
   "metadata": {},
   "source": [
    "## (score 3) Connectivity"
   ]
  },
  {
   "cell_type": "markdown",
   "metadata": {},
   "source": [
    "- connectivity의 network 구성에는 너무 많은 연산량이 소요된다.\n",
    "- 많이 등장한 top K word만을 대상으로 네트워크를 구성한다\n",
    "- (주의) 제품명 텍스트 (prod_name)은 반드시 포함해야!\n",
    "- 모든 \"review text\"앞에 \"브랜드#대제품군#제품명\" 붙이기"
   ]
  },
  {
   "cell_type": "code",
   "execution_count": 444,
   "metadata": {
    "ExecuteTime": {
     "end_time": "2021-10-28T03:23:28.205836Z",
     "start_time": "2021-10-28T03:23:28.185179Z"
    }
   },
   "outputs": [],
   "source": [
    "def top_K_words(nva,prod_name_sub,K,thres=10,node='brand'):\n",
    "    \n",
    "    assert node in ['brand','brand+big','brand+big+prd']\n",
    "    top_K=[]\n",
    "    \n",
    "    if node=='brand':\n",
    "        tmp=list(df['brand'])\n",
    "        top_K.extend(list(set(df['brand'])))\n",
    "    elif node=='brand+big':\n",
    "        tmp=list(df['name_sub'])\n",
    "        top_K.extend(list(set(df['name_sub'])))\n",
    "    else:\n",
    "        tmp=list(df['name'])\n",
    "        top_K.extend(list(set(df['name'])))\n",
    "    \n",
    "    nva_list=list(nva)\n",
    "    for i in range(len(nva_list)):\n",
    "        nva_list[i]=[tmp[i]]+nva_list[i]\n",
    "\n",
    "    concat_list = np.concatenate(nva_list)\n",
    "\n",
    "        \n",
    "    cnt = Counter(concat_list)\n",
    "    list_sorted = sorted(list(cnt.items()), key=lambda x: [-x[1], x[0]])\n",
    "    \n",
    "    nva_topK = []\n",
    "    \n",
    "    for i in range(2*K): \n",
    "        top_K.append(list_sorted[i][0])\n",
    "    top_K = top_K[thres:K+thres]\n",
    "    top_K = [word for word in top_K if len(word)>1]\n",
    "    \n",
    "    for idx in range(len(nva.index)):\n",
    "        nva_topK.append([word for word in nva_list[idx] if word in top_K])\n",
    "\n",
    "    before=len(np.concatenate(nva.values))\n",
    "    after=len(np.concatenate(nva_topK))\n",
    "    print(np.round(after/before,3)*100,'% 만큼의 단어 생존')\n",
    "    \n",
    "    return nva_topK"
   ]
  },
  {
   "cell_type": "code",
   "execution_count": 445,
   "metadata": {
    "ExecuteTime": {
     "end_time": "2021-10-28T03:23:28.677366Z",
     "start_time": "2021-10-28T03:23:28.663316Z"
    }
   },
   "outputs": [],
   "source": [
    "def get_coocmat(nva_topK):\n",
    "    u = (pd.get_dummies(pd.DataFrame(nva_topK), prefix='', prefix_sep='')\n",
    "       .groupby(level=0, axis=1)\n",
    "       .sum())\n",
    "\n",
    "    cooc_mat = u.T.dot(u)\n",
    "    cooc_mat.values[(np.r_[:len(cooc_mat)], ) * 2] = 0\n",
    "    return cooc_mat\n",
    "    "
   ]
  },
  {
   "cell_type": "code",
   "execution_count": 468,
   "metadata": {
    "ExecuteTime": {
     "end_time": "2021-10-28T03:31:57.671421Z",
     "start_time": "2021-10-28T03:31:57.656423Z"
    }
   },
   "outputs": [],
   "source": [
    "def connectivity_from_cooc(coocurence_mat):\n",
    "    cooc_mat = coocurence_mat.copy()\n",
    "    print('shape of coocurrence matrix :',cooc_mat.shape)\n",
    "    time1 = time.time()\n",
    "    conn = cooc_mat.stack()\n",
    "    conn=conn.rename_axis(('source','target')).reset_index(name='weight')\n",
    "    G = nx.from_pandas_edgelist(conn,edge_attr=True)\n",
    "    time2 = time.time()\n",
    "    print('Constructing Graph took {} secs'.format(time2-time1))\n",
    "    for u,v,data in G.edges(data=True):\n",
    "        if 'weight' in data and data['weight']!=0:\n",
    "            data['inverse']=1/data['weight']\n",
    "        else:\n",
    "            data['inverse']=1\n",
    "    connectivity = nx.betweenness_centrality(G,normalized=False,weight='inverse',endpoints =True)\n",
    "    time3 = time.time()\n",
    "    print('Calculating Connectivity took {} secs'.format(time3-time2))\n",
    "    return connectivity"
   ]
  },
  {
   "cell_type": "code",
   "execution_count": 449,
   "metadata": {
    "ExecuteTime": {
     "end_time": "2021-10-28T03:24:36.158991Z",
     "start_time": "2021-10-28T03:24:26.583274Z"
    }
   },
   "outputs": [
    {
     "name": "stdout",
     "output_type": "stream",
     "text": [
      "45.6 % 만큼의 단어 생존\n",
      "shape of coocurrence matrix : (237, 237)\n",
      "Constructing Graph took 0.1560349464416504 secs\n",
      "Calculating Connectivity took 9.116677045822144 secs\n"
     ]
    }
   ],
   "source": [
    "# ['brand','brand+big','brand+big+prd']\n",
    "nva_topK = top_K_words(nva,list(set(df['brand'])),K=300,thres=15,node='brand')\n",
    "cooc_mat=get_coocmat(nva_topK)\n",
    "connectivity_tmp = connectivity_from_cooc(cooc_mat)\n",
    "\n",
    "tmp=[]\n",
    "for b in brand:\n",
    "    tmp.append(connectivity_tmp[b])\n",
    "connectivity=tmp/max(np.array(tmp))"
   ]
  },
  {
   "cell_type": "code",
   "execution_count": 455,
   "metadata": {
    "ExecuteTime": {
     "end_time": "2021-10-28T03:28:24.158100Z",
     "start_time": "2021-10-28T03:28:24.143886Z"
    }
   },
   "outputs": [
    {
     "data": {
      "text/plain": [
       "{'amore': 0.008438818565400845,\n",
       " 'hanyul': 0.008581849388543231,\n",
       " 'hera': 0.0357219480798112,\n",
       " 'iope': 0.008438818565400845,\n",
       " 'laneige': 0.010190946148895088,\n",
       " 'mamonde': 0.0123006507902453,\n",
       " 'primera': 0.008546091682757636,\n",
       " 'sulhwasoo': 0.00847457627118644,\n",
       " '가격': 0.008438818565400845,\n",
       " '가다': 0.008438818565400845,\n",
       " '가볍다': 0.008438818565400845,\n",
       " '가장': 0.008438818565400845,\n",
       " '각질': 0.008438818565400845,\n",
       " '감다': 0.008438818565400845,\n",
       " '강하다': 0.008438818565400845,\n",
       " '개선': 0.008438818565400845,\n",
       " '거리': 0.008438818565400845,\n",
       " '거의': 0.008438818565400845,\n",
       " '거품': 0.008438818565400845,\n",
       " '걱정': 0.008438818565400845,\n",
       " '건성': 0.008438818565400845,\n",
       " '건조하다': 0.008438818565400845,\n",
       " '겨울': 0.008438818565400845,\n",
       " '계속': 0.008438818565400845,\n",
       " '고민': 0.008438818565400845,\n",
       " '괜찮다': 0.008438818565400845,\n",
       " '구매': 0.09089608810698706,\n",
       " '구입': 0.008438818565400845,\n",
       " '그냥': 0.008438818565400845,\n",
       " '그렇다': 0.008438818565400845,\n",
       " '기능': 0.008438818565400845,\n",
       " '기분': 0.008438818565400845,\n",
       " '기초': 0.008438818565400845,\n",
       " '꾸준하다': 0.008438818565400845,\n",
       " '나다': 0.008438818565400845,\n",
       " '나서다': 0.008438818565400845,\n",
       " '나오다': 0.008438818565400845,\n",
       " '넉넉하다': 0.008438818565400845,\n",
       " '넘다': 0.008438818565400845,\n",
       " '느껴지다': 0.008438818565400845,\n",
       " '느끼다': 0.008438818565400845,\n",
       " '느낌': 0.008438818565400845,\n",
       " '다른': 0.008438818565400845,\n",
       " '다시': 0.008438818565400845,\n",
       " '다음': 0.008438818565400845,\n",
       " '닦다': 0.008438818565400845,\n",
       " '당기다': 0.008438818565400845,\n",
       " '덥다': 0.008438818565400845,\n",
       " '돼다': 0.008438818565400845,\n",
       " '되다': 0.24864120718014734,\n",
       " '되어다': 0.008438818565400845,\n",
       " '두다': 0.008438818565400845,\n",
       " '드리다': 0.008438818565400845,\n",
       " '들다': 0.014017020667953945,\n",
       " '들어서다': 0.008438818565400845,\n",
       " '듭니': 0.008438818565400845,\n",
       " '딱이다': 0.008438818565400845,\n",
       " '때문': 0.008438818565400845,\n",
       " '라네즈': 0.008438818565400845,\n",
       " '라인': 0.008438818565400845,\n",
       " '로우': 0.008438818565400845,\n",
       " '리필': 0.008438818565400845,\n",
       " '립스틱': 0.008438818565400845,\n",
       " '마몽드': 0.008438818565400845,\n",
       " '마무리': 0.008438818565400845,\n",
       " '마스크': 0.017145819924193666,\n",
       " '마음': 0.008438818565400845,\n",
       " '만족스럽다': 0.008438818565400845,\n",
       " '만족하다': 0.008438818565400845,\n",
       " '많다': 0.008438818565400845,\n",
       " '맞다': 0.008438818565400845,\n",
       " '매트': 0.008438818565400845,\n",
       " '메라': 0.008438818565400845,\n",
       " '모르다': 0.008438818565400845,\n",
       " '무겁다': 0.008438818565400845,\n",
       " '무난': 0.008438818565400845,\n",
       " '무너지다': 0.008438818565400845,\n",
       " '묻다': 0.008438818565400845,\n",
       " '민감': 0.008438818565400845,\n",
       " '민감하다': 0.008438818565400845,\n",
       " '바꾸다': 0.008438818565400845,\n",
       " '바로': 0.008438818565400845,\n",
       " '바르다': 0.4132339269112494,\n",
       " '받다': 0.008438818565400845,\n",
       " '발라': 0.008438818565400845,\n",
       " '발리': 0.008438818565400845,\n",
       " '발리다': 0.008438818565400845,\n",
       " '발림': 0.008438818565400845,\n",
       " '발색': 0.008438818565400845,\n",
       " '밝다': 0.008438818565400845,\n",
       " '배송': 0.008438818565400845,\n",
       " '별로': 0.008438818565400845,\n",
       " '보고': 0.008438818565400845,\n",
       " '보다': 0.0178788528927984,\n",
       " '보습': 0.008438818565400845,\n",
       " '보이다': 0.008438818565400845,\n",
       " '부담': 0.008438818565400845,\n",
       " '부드럽다': 0.008438818565400845,\n",
       " '부분': 0.008438818565400845,\n",
       " '분기': 0.008438818565400845,\n",
       " '블랙': 0.008438818565400845,\n",
       " '비싸다': 0.008438818565400845,\n",
       " '빠르다': 0.008438818565400845,\n",
       " '빨갛다': 0.008438818565400845,\n",
       " '사다': 0.008438818565400845,\n",
       " '사보다': 0.008438818565400845,\n",
       " '사은': 0.008438818565400845,\n",
       " '산뜻하다': 0.008438818565400845,\n",
       " '살짝': 0.008438818565400845,\n",
       " '색도': 0.008438818565400845,\n",
       " '색상': 0.008438818565400845,\n",
       " '샘플': 0.008438818565400845,\n",
       " '생각': 0.008438818565400845,\n",
       " '생기다': 0.008438818565400845,\n",
       " '선물': 0.008438818565400845,\n",
       " '선크림': 0.008438818565400845,\n",
       " '설화수': 0.008438818565400845,\n",
       " '성도': 0.008438818565400845,\n",
       " '성분': 0.008438818565400845,\n",
       " '세안': 0.016377029249803336,\n",
       " '수분': 0.008438818565400845,\n",
       " '수분크림': 0.008438818565400845,\n",
       " '순하다': 0.00847457627118644,\n",
       " '스며들다': 0.008438818565400845,\n",
       " '스킨': 0.008438818565400845,\n",
       " '시원하다': 0.008438818565400845,\n",
       " '심하다': 0.008438818565400845,\n",
       " '싶다': 0.008438818565400845,\n",
       " '써다': 0.0323964814417507,\n",
       " '쓰기': 0.008438818565400845,\n",
       " '쓰다': 0.07628906529357077,\n",
       " '쓸다': 0.008438818565400845,\n",
       " '아니다': 0.008438818565400845,\n",
       " '아쉽다': 0.008438818565400845,\n",
       " '아이': 0.011335192734034185,\n",
       " '아주': 0.008438818565400845,\n",
       " '아침': 0.008438818565400845,\n",
       " '않다': 0.3250733032968605,\n",
       " '알다': 0.008438818565400845,\n",
       " '앰플': 0.008438818565400845,\n",
       " '약간': 0.008438818565400845,\n",
       " '얇다': 0.008438818565400845,\n",
       " '어울리다': 0.008438818565400845,\n",
       " '얼굴': 0.008438818565400845,\n",
       " '엄마': 0.008438818565400845,\n",
       " '없다': 0.01083458485303583,\n",
       " '에센스': 0.008438818565400845,\n",
       " '여름': 0.016841879425016092,\n",
       " '여름철': 0.008438818565400845,\n",
       " '역시': 0.008438818565400845,\n",
       " '예쁘다': 0.008438818565400845,\n",
       " '오다': 0.008438818565400845,\n",
       " '오페': 0.008438818565400845,\n",
       " '올라오다': 0.008438818565400845,\n",
       " '요즘': 0.008438818565400845,\n",
       " '용감': 0.008438818565400845,\n",
       " '용량': 0.008438818565400845,\n",
       " '우선': 0.008438818565400845,\n",
       " '워터': 0.008438818565400845,\n",
       " '원래': 0.008438818565400845,\n",
       " '유지': 0.008438818565400845,\n",
       " '은은하다': 0.008438818565400845,\n",
       " '이건': 0.008438818565400845,\n",
       " '이다': 0.03384466852606737,\n",
       " '이번': 0.008438818565400845,\n",
       " '이쁘다': 0.008438818565400845,\n",
       " '일단': 0.008438818565400845,\n",
       " '입술': 0.008438818565400845,\n",
       " '자극': 0.008438818565400845,\n",
       " '자다': 0.13643352642494458,\n",
       " '자연': 0.008438818565400845,\n",
       " '자연스럽다': 0.008438818565400845,\n",
       " '자외선': 0.008438818565400845,\n",
       " '자주': 0.008438818565400845,\n",
       " '잡티': 0.008438818565400845,\n",
       " '재다': 0.008438818565400845,\n",
       " '저녁': 0.008438818565400845,\n",
       " '저렴하다': 0.008438818565400845,\n",
       " '적다': 0.008438818565400845,\n",
       " '적당하다': 0.008438818565400845,\n",
       " '적임': 0.008438818565400845,\n",
       " '정도': 0.008438818565400845,\n",
       " '정말': 0.008438818565400845,\n",
       " '제일': 0.008438818565400845,\n",
       " '조금': 0.008438818565400845,\n",
       " '종류': 0.008438818565400845,\n",
       " '좋아지다': 0.008438818565400845,\n",
       " '좋아하다': 0.008438818565400845,\n",
       " '주다': 0.008438818565400845,\n",
       " '주름': 0.008438818565400845,\n",
       " '주문': 0.008438818565400845,\n",
       " '지금': 0.008438818565400845,\n",
       " '지속': 0.008438818565400845,\n",
       " '진정': 0.008438818565400845,\n",
       " '진짜': 0.008438818565400845,\n",
       " '진하다': 0.008438818565400845,\n",
       " '찾다': 0.008438818565400845,\n",
       " '처음': 0.008438818565400845,\n",
       " '촉촉하다': 0.016841879425016092,\n",
       " '최고': 0.008438818565400845,\n",
       " '추천': 0.016806121719230495,\n",
       " '출시': 0.008438818565400845,\n",
       " '커버': 0.021597654294500467,\n",
       " '컬러': 0.008438818565400845,\n",
       " '쿠션': 0.09575913609382823,\n",
       " '크다': 0.008438818565400845,\n",
       " '크림': 0.01655581777873132,\n",
       " '타입': 0.008438818565400845,\n",
       " '토너': 0.015876421368804978,\n",
       " '톤업': 0.008438818565400845,\n",
       " '트러블': 0.00872488021168562,\n",
       " '파다': 0.008438818565400845,\n",
       " '파운데이션': 0.008438818565400845,\n",
       " '패키지': 0.008438818565400845,\n",
       " '편이': 0.008438818565400845,\n",
       " '편하다': 0.008438818565400845,\n",
       " '표현': 0.008438818565400845,\n",
       " '프리': 0.008438818565400845,\n",
       " '필요하다': 0.008438818565400845,\n",
       " '핑크': 0.008438818565400845,\n",
       " '하나': 0.008438818565400845,\n",
       " '하루': 0.008438818565400845,\n",
       " '한번': 0.008438818565400845,\n",
       " '할인': 0.008438818565400845,\n",
       " '항상': 0.008438818565400845,\n",
       " '해보다': 0.008438818565400845,\n",
       " '해봤다': 0.008438818565400845,\n",
       " '해주다': 0.008438818565400845,\n",
       " '행사': 0.008438818565400845,\n",
       " '헤라': 0.008438818565400845,\n",
       " '화사하다': 0.008438818565400845,\n",
       " '화장': 0.008438818565400845,\n",
       " '화장품': 0.008438818565400845,\n",
       " '확실하다': 0.008438818565400845,\n",
       " '효과': 0.008438818565400845,\n",
       " '후기': 0.008438818565400845,\n",
       " '흡수': 0.008438818565400845}"
      ]
     },
     "execution_count": 455,
     "metadata": {},
     "output_type": "execute_result"
    }
   ],
   "source": [
    "connectivity_tmp"
   ]
  },
  {
   "cell_type": "code",
   "execution_count": 453,
   "metadata": {
    "ExecuteTime": {
     "end_time": "2021-10-28T03:25:03.649670Z",
     "start_time": "2021-10-28T03:25:03.638436Z"
    }
   },
   "outputs": [
    {
     "data": {
      "text/plain": [
       "array([0.28528529, 0.23923924, 0.24024024, 0.34434434, 0.23623624,\n",
       "       0.23623624, 0.23723724, 1.        ])"
      ]
     },
     "execution_count": 453,
     "metadata": {},
     "output_type": "execute_result"
    }
   ],
   "source": [
    "connectivity"
   ]
  },
  {
   "cell_type": "code",
   "execution_count": 450,
   "metadata": {
    "ExecuteTime": {
     "end_time": "2021-10-28T03:24:36.627775Z",
     "start_time": "2021-10-28T03:24:36.614307Z"
    }
   },
   "outputs": [
    {
     "name": "stdout",
     "output_type": "stream",
     "text": [
      "sparsity of cooccurence matrix : 0.2065\n"
     ]
    }
   ],
   "source": [
    "print('sparsity of cooccurence matrix :',np.round(sum(sum((cooc_mat==0).values))/(cooc_mat.shape[0]**2),4))"
   ]
  }
 ],
 "metadata": {
  "hide_input": false,
  "kernelspec": {
   "display_name": "Python 3",
   "language": "python",
   "name": "python3"
  },
  "language_info": {
   "codemirror_mode": {
    "name": "ipython",
    "version": 3
   },
   "file_extension": ".py",
   "mimetype": "text/x-python",
   "name": "python",
   "nbconvert_exporter": "python",
   "pygments_lexer": "ipython3",
   "version": "3.8.3"
  },
  "toc": {
   "base_numbering": 1,
   "nav_menu": {},
   "number_sections": true,
   "sideBar": true,
   "skip_h1_title": false,
   "title_cell": "Table of Contents",
   "title_sidebar": "Contents",
   "toc_cell": false,
   "toc_position": {},
   "toc_section_display": true,
   "toc_window_display": false
  },
  "varInspector": {
   "cols": {
    "lenName": 16,
    "lenType": 16,
    "lenVar": 40
   },
   "kernels_config": {
    "python": {
     "delete_cmd_postfix": "",
     "delete_cmd_prefix": "del ",
     "library": "var_list.py",
     "varRefreshCmd": "print(var_dic_list())"
    },
    "r": {
     "delete_cmd_postfix": ") ",
     "delete_cmd_prefix": "rm(",
     "library": "var_list.r",
     "varRefreshCmd": "cat(var_dic_list()) "
    }
   },
   "types_to_exclude": [
    "module",
    "function",
    "builtin_function_or_method",
    "instance",
    "_Feature"
   ],
   "window_display": false
  }
 },
 "nbformat": 4,
 "nbformat_minor": 4
}
