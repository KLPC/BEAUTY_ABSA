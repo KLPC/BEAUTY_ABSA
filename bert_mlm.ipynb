{
 "cells": [
  {
   "cell_type": "markdown",
   "metadata": {},
   "source": [
    "### Import packages"
   ]
  },
  {
   "cell_type": "code",
   "execution_count": null,
   "metadata": {},
   "outputs": [],
   "source": [
    "import pandas as pd\n",
    "from tqdm.auto import tqdm\n",
    "import re\n",
    "import emoji\n",
    "from soynlp.normalizer import repeat_normalize\n",
    "from kss import split_sentences\n",
    "import os"
   ]
  },
  {
   "cell_type": "markdown",
   "metadata": {},
   "source": [
    "### Load Dataset"
   ]
  },
  {
   "cell_type": "code",
   "execution_count": null,
   "metadata": {},
   "outputs": [],
   "source": [
    "DATASET_PATH = '/content/drive/Shareddrives/AmorePacific2021/5.newcode/dataset/'\n",
    "DATA_NAME = 'amore_data_above8_rating.csv'\n",
    "df = pd.read_csv(DATASET_PATH + DATA_NAME)\n",
    "\n",
    "## Review Text data\n",
    "reviews = df.review_split.to_list()"
   ]
  },
  {
   "cell_type": "markdown",
   "metadata": {},
   "source": [
    "### Preprocessing"
   ]
  },
  {
   "cell_type": "code",
   "execution_count": null,
   "metadata": {},
   "outputs": [],
   "source": [
    "emojis = ''.join(emoji.UNICODE_EMOJI.keys())\n",
    "pattern = re.compile(f'[^ .,?!/@$%~％·∼()\\x00-\\x7Fㄱ-ㅣ가-힣{emojis}]+')\n",
    "\n",
    "'''\n",
    "전처리: 이모지 처리, 문장부호 대체 등 기본적인 전처리만 수행\n",
    "'''\n",
    "def clean(x):\n",
    "    x = pattern.sub(' ', x)\n",
    "    x = x.strip()\n",
    "    x = repeat_normalize(x, num_repeats=2)\n",
    "    return x\n",
    "\n",
    "contents = [clean(x) for x in reviews]\n",
    "\n",
    "## Save preprocessed data\n",
    "if not os.path.exists('amore_clean_reviews.txt'):\n",
    "    with open('amore_clean_reviews.txt', 'w') as f:\n",
    "        for doc in tqdm(contents):\n",
    "            for line in split_sentences(doc):       ## Split reviews by sentences\n",
    "                f.write(line+'\\n')\n",
    "            f.write('\\n')"
   ]
  },
  {
   "cell_type": "markdown",
   "metadata": {},
   "source": [
    "### Domain Adaptation by MLM"
   ]
  },
  {
   "cell_type": "code",
   "execution_count": null,
   "metadata": {},
   "outputs": [],
   "source": [
    "'''\n",
    "You can run the below codes on command prompt\n",
    "This is for adapting general KOREAN Bert model(based on Wikipedia) to BEAUTY domain(by using Amore review data)\n",
    "\n",
    "Reference : https://github.com/Beomi/KcBERT & https://beomi.github.io/2021/03/15/KcBERT-MLM-Finetune/\n",
    "Output : https://huggingface.co/Kyoungmin/beauty-base-KLCP2\n",
    "'''\n",
    "!mkdir ./test-mlm-amore\n",
    "\n",
    "!python run_mlm.py \\\n",
    "    --model_name_or_path beomi/kcbert-base \\\n",
    "    --train_file amore_clean_reviews.txt \\\n",
    "    --do_train \\\n",
    "    --output_dir ./test-mlm-amore"
   ]
  }
 ],
 "metadata": {
  "kernelspec": {
   "display_name": "Python 3",
   "language": "python",
   "name": "python3"
  },
  "language_info": {
   "codemirror_mode": {
    "name": "ipython",
    "version": 3
   },
   "file_extension": ".py",
   "mimetype": "text/x-python",
   "name": "python",
   "nbconvert_exporter": "python",
   "pygments_lexer": "ipython3",
   "version": "3.8.3"
  }
 },
 "nbformat": 4,
 "nbformat_minor": 2
}
