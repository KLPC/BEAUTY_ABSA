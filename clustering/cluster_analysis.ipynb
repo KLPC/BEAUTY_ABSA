{
 "cells": [
  {
   "cell_type": "code",
   "execution_count": 1,
   "id": "208bd82d",
   "metadata": {
    "ExecuteTime": {
     "end_time": "2021-11-14T04:32:28.256640Z",
     "start_time": "2021-11-14T04:32:27.649047Z"
    }
   },
   "outputs": [],
   "source": [
    "import pandas as pd\n",
    "import numpy as np\n",
    "from ast import literal_eval"
   ]
  },
  {
   "cell_type": "code",
   "execution_count": 5,
   "id": "b091f3d6",
   "metadata": {
    "ExecuteTime": {
     "end_time": "2021-11-14T04:32:32.093131Z",
     "start_time": "2021-11-14T04:32:32.085131Z"
    }
   },
   "outputs": [],
   "source": [
    "pd.set_option('display.max_rows', 500)\n",
    "pd.set_option('display.max_columns', 500)\n",
    "pd.set_option('display.width', 1000)"
   ]
  },
  {
   "cell_type": "code",
   "execution_count": 6,
   "id": "ec3787b4",
   "metadata": {
    "ExecuteTime": {
     "end_time": "2021-11-14T04:32:32.276612Z",
     "start_time": "2021-11-14T04:32:32.255320Z"
    }
   },
   "outputs": [],
   "source": [
    "cluster_idx=pd.read_csv('review_cluster.csv')\n"
   ]
  },
  {
   "cell_type": "code",
   "execution_count": 7,
   "id": "05e9c928",
   "metadata": {
    "ExecuteTime": {
     "end_time": "2021-11-14T04:32:52.215762Z",
     "start_time": "2021-11-14T04:32:32.423594Z"
    }
   },
   "outputs": [],
   "source": [
    "review = pd.read_csv('df_for_cbs.csv')\n",
    "review['nva']=review['nva'].apply(literal_eval)"
   ]
  },
  {
   "cell_type": "code",
   "execution_count": 8,
   "id": "3123a3d6",
   "metadata": {
    "ExecuteTime": {
     "end_time": "2021-11-14T04:32:52.370512Z",
     "start_time": "2021-11-14T04:32:52.357753Z"
    }
   },
   "outputs": [],
   "source": [
    "review['cluster']=cluster_idx['cluster']\n",
    "review['len']=cluster_idx['len']"
   ]
  },
  {
   "cell_type": "code",
   "execution_count": 9,
   "id": "c4318299",
   "metadata": {
    "ExecuteTime": {
     "end_time": "2021-11-14T04:32:52.570558Z",
     "start_time": "2021-11-14T04:32:52.511539Z"
    }
   },
   "outputs": [],
   "source": [
    "cluster1=review[review['cluster']==1]\n",
    "cluster2=review[review['cluster']==2]"
   ]
  },
  {
   "cell_type": "markdown",
   "id": "1c9302e0",
   "metadata": {},
   "source": [
    "# Questions"
   ]
  },
  {
   "cell_type": "markdown",
   "id": "1b030dd8",
   "metadata": {},
   "source": [
    "1. 평균 리뷰 길이 수는?\n",
    "2. 주요 부여 평점은?\n",
    "3. 주로 구매하는 브랜드/대제품/소제품 군은?\n",
    "4. 표현력은? 1 ( exCBS의 4요소 (2) expressitivity )\n",
    "5. 표현력은? 2 ( 사용한 token의 절대적인 개수 )"
   ]
  },
  {
   "cell_type": "code",
   "execution_count": 10,
   "id": "7bf248f5",
   "metadata": {
    "ExecuteTime": {
     "end_time": "2021-11-14T04:32:52.902286Z",
     "start_time": "2021-11-14T04:32:52.887377Z"
    }
   },
   "outputs": [
    {
     "data": {
      "text/plain": [
       "count    45129.000000\n",
       "mean       113.963549\n",
       "std         38.050950\n",
       "min          9.000000\n",
       "25%         90.000000\n",
       "50%        124.000000\n",
       "75%        136.000000\n",
       "max        187.000000\n",
       "Name: len, dtype: float64"
      ]
     },
     "execution_count": 10,
     "metadata": {},
     "output_type": "execute_result"
    }
   ],
   "source": [
    "cluster1.len.describe()"
   ]
  },
  {
   "cell_type": "code",
   "execution_count": 11,
   "id": "b8044ace",
   "metadata": {
    "ExecuteTime": {
     "end_time": "2021-11-14T04:32:53.248973Z",
     "start_time": "2021-11-14T04:32:53.235585Z"
    }
   },
   "outputs": [
    {
     "data": {
      "text/plain": [
       "count    5054.000000\n",
       "mean      281.068263\n",
       "std       126.667616\n",
       "min       188.000000\n",
       "25%       205.000000\n",
       "50%       232.000000\n",
       "75%       301.000000\n",
       "max       804.000000\n",
       "Name: len, dtype: float64"
      ]
     },
     "execution_count": 11,
     "metadata": {},
     "output_type": "execute_result"
    }
   ],
   "source": [
    "cluster2.len.describe()"
   ]
  },
  {
   "cell_type": "code",
   "execution_count": null,
   "id": "f9273473",
   "metadata": {},
   "outputs": [],
   "source": []
  },
  {
   "cell_type": "code",
   "execution_count": 12,
   "id": "86e78750",
   "metadata": {
    "ExecuteTime": {
     "end_time": "2021-11-14T04:32:53.565015Z",
     "start_time": "2021-11-14T04:32:53.551614Z"
    }
   },
   "outputs": [
    {
     "data": {
      "text/plain": [
       "count    45129.000000\n",
       "mean         4.666955\n",
       "std          0.795756\n",
       "min          1.000000\n",
       "25%          5.000000\n",
       "50%          5.000000\n",
       "75%          5.000000\n",
       "max          5.000000\n",
       "Name: rating, dtype: float64"
      ]
     },
     "execution_count": 12,
     "metadata": {},
     "output_type": "execute_result"
    }
   ],
   "source": [
    "cluster1.rating.describe()"
   ]
  },
  {
   "cell_type": "code",
   "execution_count": 13,
   "id": "288e6317",
   "metadata": {
    "ExecuteTime": {
     "end_time": "2021-11-14T04:32:53.911923Z",
     "start_time": "2021-11-14T04:32:53.898921Z"
    }
   },
   "outputs": [
    {
     "data": {
      "text/plain": [
       "count    5054.000000\n",
       "mean        4.643649\n",
       "std         0.862988\n",
       "min         1.000000\n",
       "25%         5.000000\n",
       "50%         5.000000\n",
       "75%         5.000000\n",
       "max         5.000000\n",
       "Name: rating, dtype: float64"
      ]
     },
     "execution_count": 13,
     "metadata": {},
     "output_type": "execute_result"
    }
   ],
   "source": [
    "cluster2.rating.describe()"
   ]
  },
  {
   "cell_type": "code",
   "execution_count": null,
   "id": "cfa1671c",
   "metadata": {},
   "outputs": [],
   "source": []
  },
  {
   "cell_type": "code",
   "execution_count": 14,
   "id": "9ba28e24",
   "metadata": {
    "ExecuteTime": {
     "end_time": "2021-11-14T04:32:54.274788Z",
     "start_time": "2021-11-14T04:32:54.244781Z"
    }
   },
   "outputs": [
    {
     "data": {
      "text/plain": [
       "hanyul       0.208203\n",
       "primera      0.196437\n",
       "mamonde      0.178222\n",
       "hera         0.150701\n",
       "sulhwasoo    0.092801\n",
       "iope         0.079372\n",
       "laneige      0.064327\n",
       "amore        0.029936\n",
       "Name: brand, dtype: float64"
      ]
     },
     "execution_count": 14,
     "metadata": {},
     "output_type": "execute_result"
    }
   ],
   "source": [
    "cluster1['brand'].value_counts()/cluster1['brand'].shape[0]"
   ]
  },
  {
   "cell_type": "code",
   "execution_count": 15,
   "id": "2581bfc5",
   "metadata": {
    "ExecuteTime": {
     "end_time": "2021-11-14T04:32:54.626149Z",
     "start_time": "2021-11-14T04:32:54.612139Z"
    }
   },
   "outputs": [
    {
     "data": {
      "text/plain": [
       "hera         0.191531\n",
       "hanyul       0.158488\n",
       "primera      0.152750\n",
       "mamonde      0.145034\n",
       "iope         0.117729\n",
       "sulhwasoo    0.105461\n",
       "laneige      0.075979\n",
       "amore        0.053027\n",
       "Name: brand, dtype: float64"
      ]
     },
     "execution_count": 15,
     "metadata": {},
     "output_type": "execute_result"
    }
   ],
   "source": [
    "cluster2['brand'].value_counts()/cluster2['brand'].shape[0]"
   ]
  },
  {
   "cell_type": "code",
   "execution_count": null,
   "id": "ac91b99f",
   "metadata": {},
   "outputs": [],
   "source": []
  },
  {
   "cell_type": "code",
   "execution_count": 16,
   "id": "aa91cb08",
   "metadata": {
    "ExecuteTime": {
     "end_time": "2021-11-14T04:32:54.971817Z",
     "start_time": "2021-11-14T04:32:54.957799Z"
    }
   },
   "outputs": [
    {
     "data": {
      "text/plain": [
       "catA    0.730351\n",
       "catC    0.157548\n",
       "catE    0.065590\n",
       "catD    0.028806\n",
       "catB    0.017705\n",
       "Name: big_category, dtype: float64"
      ]
     },
     "execution_count": 16,
     "metadata": {},
     "output_type": "execute_result"
    }
   ],
   "source": [
    "cluster1['big_category'].value_counts()/cluster1['big_category'].shape[0]"
   ]
  },
  {
   "cell_type": "code",
   "execution_count": 17,
   "id": "e8b18bb9",
   "metadata": {
    "ExecuteTime": {
     "end_time": "2021-11-14T04:32:55.318200Z",
     "start_time": "2021-11-14T04:32:55.304348Z"
    },
    "scrolled": true
   },
   "outputs": [
    {
     "data": {
      "text/plain": [
       "catA    0.719034\n",
       "catC    0.194499\n",
       "catE    0.037792\n",
       "catB    0.032845\n",
       "catD    0.015829\n",
       "Name: big_category, dtype: float64"
      ]
     },
     "execution_count": 17,
     "metadata": {},
     "output_type": "execute_result"
    }
   ],
   "source": [
    "cluster2['big_category'].value_counts()/cluster2['big_category'].shape[0]"
   ]
  },
  {
   "cell_type": "code",
   "execution_count": null,
   "id": "2025e99c",
   "metadata": {},
   "outputs": [],
   "source": []
  },
  {
   "cell_type": "code",
   "execution_count": 18,
   "id": "f362c326",
   "metadata": {
    "ExecuteTime": {
     "end_time": "2021-11-14T04:32:55.658598Z",
     "start_time": "2021-11-14T04:32:55.645588Z"
    }
   },
   "outputs": [
    {
     "data": {
      "text/plain": [
       "cat2                 0.580647\n",
       "cat5                 0.157548\n",
       "cat1                 0.088613\n",
       "cat3                 0.061092\n",
       "cat9                 0.057879\n",
       "cat6                 0.028208\n",
       "cat4                 0.017705\n",
       "cat10                0.007711\n",
       "cat7                 0.000532\n",
       "[#BFF] 아이 팔레트 11g    0.000066\n",
       "Name: small_category, dtype: float64"
      ]
     },
     "execution_count": 18,
     "metadata": {},
     "output_type": "execute_result"
    }
   ],
   "source": [
    "cluster1['small_category'].value_counts()/cluster1['small_category'].shape[0]"
   ]
  },
  {
   "cell_type": "code",
   "execution_count": 19,
   "id": "237ef96d",
   "metadata": {
    "ExecuteTime": {
     "end_time": "2021-11-14T04:32:55.988519Z",
     "start_time": "2021-11-14T04:32:55.975083Z"
    }
   },
   "outputs": [
    {
     "data": {
      "text/plain": [
       "cat2     0.561733\n",
       "cat5     0.194499\n",
       "cat1     0.088643\n",
       "cat3     0.068658\n",
       "cat4     0.032845\n",
       "cat9     0.031856\n",
       "cat6     0.015829\n",
       "cat10    0.005936\n",
       "Name: small_category, dtype: float64"
      ]
     },
     "execution_count": 19,
     "metadata": {},
     "output_type": "execute_result"
    }
   ],
   "source": [
    "cluster2['small_category'].value_counts()/cluster2['small_category'].shape[0]"
   ]
  },
  {
   "cell_type": "code",
   "execution_count": null,
   "id": "8aa3582f",
   "metadata": {},
   "outputs": [],
   "source": []
  },
  {
   "cell_type": "code",
   "execution_count": 20,
   "id": "229cf58a",
   "metadata": {
    "ExecuteTime": {
     "end_time": "2021-11-14T04:32:56.318996Z",
     "start_time": "2021-11-14T04:32:56.305993Z"
    },
    "scrolled": true
   },
   "outputs": [
    {
     "data": {
      "text/plain": [
       "count    45129.000000\n",
       "mean         0.990308\n",
       "std          0.013327\n",
       "min          0.888889\n",
       "25%          0.982456\n",
       "50%          1.000000\n",
       "75%          1.000000\n",
       "max          1.000000\n",
       "Name: expressivity, dtype: float64"
      ]
     },
     "execution_count": 20,
     "metadata": {},
     "output_type": "execute_result"
    }
   ],
   "source": [
    "cluster1.expressivity.describe()"
   ]
  },
  {
   "cell_type": "code",
   "execution_count": 21,
   "id": "f0d38d16",
   "metadata": {
    "ExecuteTime": {
     "end_time": "2021-11-14T04:32:56.657573Z",
     "start_time": "2021-11-14T04:32:56.644128Z"
    }
   },
   "outputs": [
    {
     "data": {
      "text/plain": [
       "count    5054.000000\n",
       "mean        0.982839\n",
       "std         0.012380\n",
       "min         0.930693\n",
       "25%         0.974790\n",
       "50%         0.985559\n",
       "75%         0.989899\n",
       "max         1.000000\n",
       "Name: expressivity, dtype: float64"
      ]
     },
     "execution_count": 21,
     "metadata": {},
     "output_type": "execute_result"
    }
   ],
   "source": [
    "cluster2.expressivity.describe()"
   ]
  },
  {
   "cell_type": "code",
   "execution_count": 22,
   "id": "611498a2",
   "metadata": {
    "ExecuteTime": {
     "end_time": "2021-11-14T04:32:56.989728Z",
     "start_time": "2021-11-14T04:32:56.977013Z"
    }
   },
   "outputs": [],
   "source": [
    "#set(cluster1.nva[0])"
   ]
  },
  {
   "cell_type": "code",
   "execution_count": 25,
   "id": "d5857722",
   "metadata": {
    "ExecuteTime": {
     "end_time": "2021-11-14T04:33:25.574215Z",
     "start_time": "2021-11-14T04:33:25.455442Z"
    }
   },
   "outputs": [],
   "source": [
    "cluster1_tokens=cluster1.nva.apply(lambda x:len(set(x)))\n",
    "cluster2_tokens=cluster2.nva.apply(lambda x:len(set(x)))"
   ]
  },
  {
   "cell_type": "code",
   "execution_count": 36,
   "id": "0692b803",
   "metadata": {
    "ExecuteTime": {
     "end_time": "2021-11-14T04:34:34.610519Z",
     "start_time": "2021-11-14T04:34:34.407673Z"
    }
   },
   "outputs": [
    {
     "data": {
      "text/plain": [
       "<matplotlib.legend.Legend at 0x1ef3f9a6d60>"
      ]
     },
     "execution_count": 36,
     "metadata": {},
     "output_type": "execute_result"
    },
    {
     "data": {
      "image/png": "[encoded data removed]",
      "text/plain": [
       "<Figure size 432x288 with 1 Axes>"
      ]
     },
     "metadata": {
      "needs_background": "light"
     },
     "output_type": "display_data"
    }
   ],
   "source": [
    "import matplotlib.pyplot as plt\n",
    "plt.hist(cluster1_tokens,bins=30,label='cluster1')\n",
    "plt.hist(cluster2_tokens,bins=30,label='cluster2')\n",
    "plt.legend()"
   ]
  },
  {
   "cell_type": "code",
   "execution_count": null,
   "id": "a0fffd8f",
   "metadata": {},
   "outputs": [],
   "source": []
  },
  {
   "cell_type": "code",
   "execution_count": 37,
   "id": "3139d785",
   "metadata": {
    "ExecuteTime": {
     "end_time": "2021-11-14T04:34:45.672040Z",
     "start_time": "2021-11-14T04:34:45.652010Z"
    }
   },
   "outputs": [
    {
     "data": {
      "text/plain": [
       "count    45129.000000\n",
       "mean        25.883955\n",
       "std          8.428747\n",
       "min          1.000000\n",
       "25%         21.000000\n",
       "50%         28.000000\n",
       "75%         32.000000\n",
       "max         50.000000\n",
       "Name: nva, dtype: float64"
      ]
     },
     "execution_count": 37,
     "metadata": {},
     "output_type": "execute_result"
    }
   ],
   "source": [
    "cluster1_tokens.describe()"
   ]
  },
  {
   "cell_type": "code",
   "execution_count": 38,
   "id": "5b5b4aba",
   "metadata": {
    "ExecuteTime": {
     "end_time": "2021-11-14T04:34:49.739077Z",
     "start_time": "2021-11-14T04:34:49.717046Z"
    }
   },
   "outputs": [
    {
     "data": {
      "text/plain": [
       "count    5054.000000\n",
       "mean       56.500594\n",
       "std        20.938005\n",
       "min         3.000000\n",
       "25%        44.000000\n",
       "50%        50.000000\n",
       "75%        62.000000\n",
       "max       155.000000\n",
       "Name: nva, dtype: float64"
      ]
     },
     "execution_count": 38,
     "metadata": {},
     "output_type": "execute_result"
    }
   ],
   "source": [
    "cluster2_tokens.describe()"
   ]
  },
  {
   "cell_type": "code",
   "execution_count": null,
   "id": "a9162303",
   "metadata": {},
   "outputs": [],
   "source": []
  }
 ],
 "metadata": {
  "hide_input": false,
  "kernelspec": {
   "display_name": "Python 3 (ipykernel)",
   "language": "python",
   "name": "python3"
  },
  "language_info": {
   "codemirror_mode": {
    "name": "ipython",
    "version": 3
   },
   "file_extension": ".py",
   "mimetype": "text/x-python",
   "name": "python",
   "nbconvert_exporter": "python",
   "pygments_lexer": "ipython3",
   "version": "3.8.3"
  },
  "toc": {
   "base_numbering": 1,
   "nav_menu": {},
   "number_sections": true,
   "sideBar": true,
   "skip_h1_title": false,
   "title_cell": "Table of Contents",
   "title_sidebar": "Contents",
   "toc_cell": false,
   "toc_position": {},
   "toc_section_display": true,
   "toc_window_display": false
  },
  "varInspector": {
   "cols": {
    "lenName": 16,
    "lenType": 16,
    "lenVar": 40
   },
   "kernels_config": {
    "python": {
     "delete_cmd_postfix": "",
     "delete_cmd_prefix": "del ",
     "library": "var_list.py",
     "varRefreshCmd": "print(var_dic_list())"
    },
    "r": {
     "delete_cmd_postfix": ") ",
     "delete_cmd_prefix": "rm(",
     "library": "var_list.r",
     "varRefreshCmd": "cat(var_dic_list()) "
    }
   },
   "types_to_exclude": [
    "module",
    "function",
    "builtin_function_or_method",
    "instance",
    "_Feature"
   ],
   "window_display": false
  }
 },
 "nbformat": 4,
 "nbformat_minor": 5
}
