{
 "cells": [
  {
   "cell_type": "markdown",
   "metadata": {},
   "source": [
    "# Import Data & Packages"
   ]
  },
  {
   "cell_type": "code",
   "execution_count": 1,
   "metadata": {
    "ExecuteTime": {
     "end_time": "2021-11-08T03:33:39.688853Z",
     "start_time": "2021-11-08T03:33:37.098630Z"
    }
   },
   "outputs": [],
   "source": [
    "import pandas as pd\n",
    "import numpy as np\n",
    "import datetime\n",
    "from ast import literal_eval\n",
    "import konlpy\n",
    "from collections import Counter\n",
    "import time\n",
    "import networkx as nx\n",
    "import matplotlib.pyplot as plt\n",
    "import re\n",
    "import torch\n",
    "from tqdm import tqdm\n",
    "import warnings\n",
    "warnings.filterwarnings(\"ignore\")\n",
    "from gensim.models import Word2Vec\n",
    "from gensim.models import KeyedVectors\n",
    "import copy"
   ]
  },
  {
   "cell_type": "code",
   "execution_count": 200,
   "metadata": {
    "ExecuteTime": {
     "end_time": "2021-11-08T11:38:17.556156Z",
     "start_time": "2021-11-08T11:36:20.651738Z"
    }
   },
   "outputs": [],
   "source": [
    "df_whole=pd.read_json('amore_data_detected_bert.json')\n",
    "df_whole['review_split_string']=df_whole['review_split'].copy()\n",
    "df_whole['review_split']=df_whole['review_split_string'].apply(literal_eval)\n",
    "df_whole['name']=df_whole[['brand','big_category','prod_nm']].agg('#'.join, axis=1)\n",
    "df_whole['name_sub']=df_whole[['brand','big_category']].agg('#'.join, axis=1)\n",
    "\n",
    "df_whole['name']=df_whole['name'].str.replace('ml', '')\n",
    "df_whole['name']=df_whole['name'].str.replace('g', '')\n",
    "df_whole['name']=df_whole['name'].str.replace('\\d+', 'kk').str.replace('\\d+', 'kk')\n",
    "df_whole['name']=df_whole['name'].str.replace('kk매', '')\n",
    "df_whole['name']=df_whole['name'].str.replace('kk호', '')\n",
    "df_whole['name']=df_whole['name'].str.replace('kk', '')\n",
    "df_whole['name']=df_whole['name'].str.replace('%', '')\n",
    "df_whole['name']=df_whole['name'].str.replace('*', '')\n",
    "df_whole['name']=df_whole['name'].str.replace('.', '')\n",
    "df_whole['name']=df_whole['name'].apply(lambda x: re.sub('\\[ ?(.*?)]', '', x,  flags=re.DOTALL))\n",
    "df_whole['name']=df_whole['name'].apply(lambda x: re.sub('\\( ?(.*?)\\)', '', x,  flags=re.DOTALL))\n",
    "df_whole['name']=df_whole['name'].apply(lambda x: x.strip())\n",
    "\n",
    "df_whole['name']=df_whole['name'].str.replace('ml', '')\n",
    "df_whole['name']=df_whole['name'].str.replace('g', '')"
   ]
  },
  {
   "cell_type": "markdown",
   "metadata": {},
   "source": [
    "# Functions"
   ]
  },
  {
   "cell_type": "code",
   "execution_count": 6,
   "metadata": {
    "ExecuteTime": {
     "end_time": "2021-11-08T03:35:28.361051Z",
     "start_time": "2021-11-08T03:35:28.350251Z"
    }
   },
   "outputs": [],
   "source": [
    "def S1_number_func(x):\n",
    "    return(sum([len(x[i].split(' ')) for i in range(len(x))]))\n",
    "\n",
    "def S1_duplicate_func(x):\n",
    "    return(len(set(x))/len(x))\n",
    "    \n",
    "def NVA(x):    \n",
    "    total_words=[]\n",
    "    for i, document in enumerate(list(set(x))):\n",
    "        okt = konlpy.tag.Okt()\n",
    "        clean_words = []\n",
    "        for word in okt.pos(document, stem=True): \n",
    "            if word[1] in ['Noun', 'Verb', 'Adjective']: \n",
    "                clean_words.append(word[0])\n",
    "        total_words.append(clean_words)\n",
    "    result = []\n",
    "    for x in total_words:\n",
    "        result.extend(x)\n",
    "    return result\n",
    "\n",
    "\n",
    "def S1_diversity_func(NVA):  \n",
    "    return(len(set(NVA))/len(NVA))\n",
    "    \n",
    "\n",
    "def S1_recency_func(x,max_date,window):\n",
    "    \"\"\"\n",
    "    max=50 ( 50,49,,...1 )\n",
    "    ----------------------------------------\n",
    "    50,49,48,47,46 .... (max-0)~(max-window+1)\n",
    "    49,48,47,46,45 .... (max-1)~(max-window+0)\n",
    "    48,47,46,45,44 .... (max-2)~(max-window-1)\n",
    "    ...\n",
    "    5,4,3,2,1 ...,,,,,,. (max-45)~(max-window-44)\n",
    "    ----------------------------------------\n",
    "    max-45가 window가 될 때 까지\n",
    "    \"\"\"\n",
    "    lower = max_date\n",
    "    upper = max_date-window+1\n",
    "    lower_sign=(x<=lower)\n",
    "    upper_sign=(x>=upper)\n",
    "    sign=lower_sign*upper_sign\n",
    "    return sign\n",
    "\n",
    "def s1_recency_list_func(prod_nm):\n",
    "    tmp=S1_recency[S1_recency['prod_nm']==prod_nm]\n",
    "    MA_list=[]\n",
    "    for i in date_range:\n",
    "        window_count = len(tmp['s1_recency'][tmp['s1_recency'].apply((lambda x: S1_recency_func(x,max_date-i,recency_window)))>0])\n",
    "        window_count_mean = window_count/recency_window\n",
    "        MA_list.append(window_count_mean)\n",
    "    return MA_list"
   ]
  },
  {
   "cell_type": "code",
   "execution_count": 250,
   "metadata": {
    "ExecuteTime": {
     "end_time": "2021-11-08T12:24:16.912594Z",
     "start_time": "2021-11-08T12:24:16.883055Z"
    },
    "code_folding": []
   },
   "outputs": [],
   "source": [
    "# def get_current_Kdays(df_,current_Y,current_M,current_D,K=14):\n",
    "#     def recency_func(x,date):\n",
    "#         return((date-x.date()).days)\n",
    "#     df = copy.deepcopy(df_)\n",
    "#     eval_date = datetime.date(current_Y,current_M,current_D)\n",
    "#     df['recency']=df['date'].apply((lambda x: recency_func(x,eval_date)))\n",
    "#     return_df=pd.DataFrame(df[(df['recency']<K)&(df['recency']>0)])\n",
    "#     return eval_date, return_df\n",
    "\n",
    "def get_current_k (df, Y, M, D, K = 60 ):\n",
    "    from datetime import datetime\n",
    "    eval_date = datetime(Y,M,D)\n",
    "    from_date = datetime(Y,M,D) - timedelta(days = K )\n",
    "    df =  df[ df['date'] >= from_date]\n",
    "    df = df[ df['date'] < eval_date]\n",
    "    return eval_date, df\n",
    "\n",
    "def softmax(x):\n",
    "    return (torch.exp(x) / torch.exp(x).sum()).flatten()\n",
    "\n",
    "\n",
    "def fill_mtl_output(model, df):\n",
    "    temp_cols=[\"overall({})\".format(i) for i in [0,0.5,1]]+[c + '(0)' for c in cols1]+[c + '(0.5)' for c in cols1]+[c + '(1)' for c in cols1]+['ATT_'+c for c in cols1]\n",
    "    df_temp=pd.DataFrame(index=df.index,columns=temp_cols)\n",
    "    for ind in tqdm(df.index):\n",
    "        \n",
    "        review = torch.FloatTensor( df['embed_sents'][ind])\n",
    "        num_sents = torch.tensor( len(review) )\n",
    "        small_task= cat_task[ df['category'][ind] ]\n",
    "        detect = df['mask'][ind]\n",
    "        deteted_aspect= df.loc[ind,cols2][ df.loc[ind,cols2] == 1 ].index.values.tolist()\n",
    "        deteted_aspect_ind = np.array( small_cat_indices[ small_task - 1 ] )[detect].tolist()\n",
    "        deteted_aspect_target = np.array(cols1)[deteted_aspect_ind].tolist()\n",
    "        model.eval()\n",
    "        model.to('cpu')\n",
    "        with torch.no_grad():\n",
    "            out = model(review.unsqueeze(0), num_sents.unsqueeze(0))\n",
    "        tg, ts, a1, a2, a3, a4, a5, a_g = out\n",
    "\n",
    "\n",
    "        att_a = [a1[:3], a1[3:6],a1[6:], a2, a3, a4[:3], a4[4:], a5[:3], a5[3:]]\n",
    "\n",
    "        overall_pred = dict( zip( ['5', '4', '1~3'], list(softmax(tg[small_task-1] )[[2,1,0]].data.numpy().round(3)) ) )\n",
    "\n",
    "        df_temp.loc[ind,['overall(1)','overall(0.5)','overall(0)']]=list(overall_pred.values())\n",
    "\n",
    "        calibrated_imp = a_g[small_task-1].flatten()[[df['mask'][ind]]].numpy() / sum(a_g[small_task-1].flatten()[[df['mask'][ind]]].numpy() )\n",
    "        aspect_imps = dict( zip( deteted_aspect_target, calibrated_imp) )\n",
    "\n",
    "        for id_, (aspect_ind, aspect_name,aspect_imp) in enumerate(zip(deteted_aspect_ind, deteted_aspect_target,aspect_imps.values())):\n",
    "        \n",
    "            a_index = np.where( (np.array(small_cat_indices[small_task-1]) == aspect_ind))[0][0]\n",
    "            aspect_pred = dict(zip(['1','0.5', '0'], list(softmax(ts[small_task-1][a_index] )[[2,1,0]].data.numpy().round(3)) ))\n",
    "            df_temp.loc[ind,aspect_name + '(1)']=aspect_pred['1']\n",
    "            df_temp.loc[ind,aspect_name + '(0.5)']=aspect_pred['0.5']\n",
    "            df_temp.loc[ind,aspect_name + '(0)']=aspect_pred['0']\n",
    "            df_temp.loc[ind,'ATT_'+aspect_name]=aspect_imp\n",
    "            \n",
    "    df_temp = pd.concat([df_temp, df[['name','review_split_string','date']]],axis=1)\n",
    "    return df_temp\n"
   ]
  },
  {
   "cell_type": "markdown",
   "metadata": {},
   "source": [
    "# CBS I&V 계산"
   ]
  },
  {
   "cell_type": "markdown",
   "metadata": {},
   "source": [
    "### 계산준비"
   ]
  },
  {
   "cell_type": "code",
   "execution_count": 9,
   "metadata": {
    "ExecuteTime": {
     "end_time": "2021-11-08T03:35:33.621818Z",
     "start_time": "2021-11-08T03:35:33.504892Z"
    }
   },
   "outputs": [],
   "source": [
    "model = torch.load('checkpoint39.pt',map_location='cpu')"
   ]
  },
  {
   "cell_type": "code",
   "execution_count": 15,
   "metadata": {
    "ExecuteTime": {
     "end_time": "2021-11-08T03:38:29.061345Z",
     "start_time": "2021-11-08T03:38:29.056533Z"
    }
   },
   "outputs": [],
   "source": [
    "cat_task = {'cat1': 1, 'cat2': 2,'cat3': 3,'cat4': 4,'cat5': 5,'cat6': 6,'cat7': 7,'cat9': 8,'cat10': 9}\n",
    "cols1 = ['용량','민감성','향기','커버력','지속력','피부톤',\n",
    "         '보습감','향','사용감','발림성','세정력', # 10\n",
    "         '촉촉함','유분기','발색감','제형']#,'보습력']\n",
    "cols2= df_whole.columns[25:48]\n",
    "small_cat_indices = [[1, 10, 11],\n",
    "                     [1, 6, 7],\n",
    "                     [1, 8, 9],\n",
    "\n",
    "                     [3, 4, 5],\n",
    "\n",
    "                     [4, 5, 11, 12, 13, 14],\n",
    "\n",
    "                     [4, 8, 13],\n",
    "                     [4, 8, 13],\n",
    "\n",
    "                     [2, 1, 0],\n",
    "                     [2, 1, 0]]\n",
    "cat_dict = dict(zip(['catA','catB','catC','catD','catE'], [3,3,6,3,3]))"
   ]
  },
  {
   "cell_type": "code",
   "execution_count": null,
   "metadata": {},
   "outputs": [],
   "source": [
    "df_filled = fill_mtl_output(model, df_whole)"
   ]
  },
  {
   "cell_type": "markdown",
   "metadata": {},
   "source": [
    "### 날짜"
   ]
  },
  {
   "cell_type": "markdown",
   "metadata": {},
   "source": [
    "* 윈도우 : 60일\n",
    "* 계산하는 날짜 : 6/1~7/31"
   ]
  },
  {
   "cell_type": "code",
   "execution_count": 294,
   "metadata": {
    "ExecuteTime": {
     "end_time": "2021-11-08T12:56:43.454054Z",
     "start_time": "2021-11-08T12:56:43.438641Z"
    },
    "scrolled": true
   },
   "outputs": [],
   "source": [
    "def get_CBS(df_filled, start_date, end_date, window):\n",
    "    def daterange(start_date, end_date):\n",
    "        for n in range(int((end_date - start_date).days)):\n",
    "            yield start_date + timedelta(n)\n",
    "            \n",
    "    lst = []\n",
    "    for single_date in tqdm(daterange(start_date, end_date)):\n",
    "        current_=single_date.strftime(\"%Y, %m, %d\")\n",
    "        current_=current_.split(',')\n",
    "\n",
    "        date, df = get_current_k(df_filled, int(current_[0]),int(current_[1]),int(current_[2]),K=window)\n",
    "\n",
    "        # (score1) Impression\n",
    "        S1=df[['overall(0)','overall(0.5)','overall(1)','name']]\n",
    "        S1['score']=(S1['overall(0.5)']*0.5 + S1['overall(1)']).astype('float')\n",
    "        score1 = S1.groupby('name').mean()['score']\n",
    "\n",
    "        # (score2) Variety\n",
    "        df['detect_counts']=(df[df.columns[df.columns.str.contains('ATT_')]].isna()==False).sum(axis=1)\n",
    "        df.fillna(0, inplace=True)\n",
    "        emotion_mat = pd.concat([0.5*df[df.columns[(df.columns.str.contains('(0.5)'))&(~df.columns.str.contains('overall'))]], df[df.columns[(df.columns.str.contains('(1)'))&(~df.columns.str.contains('overall'))]]], axis=1)\n",
    "        att_mat = pd.concat([df[df.columns[df.columns.str.contains('ATT_')]], df[df.columns[df.columns.str.contains('ATT_')]]], axis=1)\n",
    "        df['variety_emotion']=np.multiply(np.array(emotion_mat), np.array(att_mat)).sum(axis=1)\n",
    "        df['max_aspect']=df['name'].apply(lambda x: cat_dict[x.split('#')[1]])\n",
    "        df['variety_calc']=df['detect_counts']*df['variety_emotion']/df['max_aspect']\n",
    "        score2 = df.groupby('name').sum()['variety_calc']\n",
    "        score2 = score2 / df.groupby('name').count().iloc[:,1]\n",
    "\n",
    "        # (score3) Association\n",
    "\n",
    "\n",
    "        # Final DataFrame\n",
    "        df['brand'] = df['name'].apply(lambda x: x.split('#')[0])\n",
    "        df['category'] = df['name'].apply(lambda x: x.split('#')[1])\n",
    "        df['product'] = df['name'].apply(lambda x: x.split('#')[2])\n",
    "\n",
    "        final=pd.DataFrame(df.groupby(['brand', 'category', 'product']).count().iloc[:,1]).reset_index()\n",
    "        final.rename(columns={'overall(0.5)':'review_counts'}, inplace=True)\n",
    "        final['date']=date\n",
    "        final['score1']=score1.values\n",
    "        final['score2']=score2.values\n",
    "    #     final['score3']=score3.values\n",
    "\n",
    "        lst.append(final)\n",
    "        CBS = pd.concat([item for item in lst])\n",
    "        \n",
    "    return CBS"
   ]
  },
  {
   "cell_type": "code",
   "execution_count": 295,
   "metadata": {
    "ExecuteTime": {
     "end_time": "2021-11-08T12:56:44.610797Z",
     "start_time": "2021-11-08T12:56:44.026809Z"
    },
    "scrolled": true
   },
   "outputs": [
    {
     "name": "stderr",
     "output_type": "stream",
     "text": [
      "2it [00:00, 14.25it/s]"
     ]
    },
    {
     "name": "stdout",
     "output_type": "stream",
     "text": [
      "(4945, 71)\n",
      "(4977, 71)\n",
      "(4960, 71)\n",
      "(4933, 71)\n"
     ]
    },
    {
     "name": "stderr",
     "output_type": "stream",
     "text": [
      "6it [00:00, 15.24it/s]"
     ]
    },
    {
     "name": "stdout",
     "output_type": "stream",
     "text": [
      "(4918, 71)\n",
      "(4918, 71)\n",
      "(4899, 71)\n",
      "(4863, 71)\n"
     ]
    },
    {
     "name": "stderr",
     "output_type": "stream",
     "text": [
      "9it [00:00, 15.56it/s]"
     ]
    },
    {
     "name": "stdout",
     "output_type": "stream",
     "text": [
      "(4838, 71)\n"
     ]
    },
    {
     "name": "stderr",
     "output_type": "stream",
     "text": [
      "\n"
     ]
    }
   ],
   "source": [
    "from datetime import date, timedelta\n",
    "\n",
    "start_date = date(2021, 7, 1)\n",
    "end_date = date(2021, 7, 10)\n",
    "\n",
    "cbs = get_CBS(S23_org, start_date, end_date, 60)"
   ]
  },
  {
   "cell_type": "code",
   "execution_count": 296,
   "metadata": {
    "ExecuteTime": {
     "end_time": "2021-11-08T12:56:48.095492Z",
     "start_time": "2021-11-08T12:56:48.082220Z"
    }
   },
   "outputs": [
    {
     "data": {
      "text/html": [
       "<div>\n",
       "<style scoped>\n",
       "    .dataframe tbody tr th:only-of-type {\n",
       "        vertical-align: middle;\n",
       "    }\n",
       "\n",
       "    .dataframe tbody tr th {\n",
       "        vertical-align: top;\n",
       "    }\n",
       "\n",
       "    .dataframe thead th {\n",
       "        text-align: right;\n",
       "    }\n",
       "</style>\n",
       "<table border=\"1\" class=\"dataframe\">\n",
       "  <thead>\n",
       "    <tr style=\"text-align: right;\">\n",
       "      <th></th>\n",
       "      <th>brand</th>\n",
       "      <th>category</th>\n",
       "      <th>product</th>\n",
       "      <th>review_counts</th>\n",
       "      <th>date</th>\n",
       "      <th>score1</th>\n",
       "      <th>score2</th>\n",
       "    </tr>\n",
       "  </thead>\n",
       "  <tbody>\n",
       "    <tr>\n",
       "      <th>0</th>\n",
       "      <td>amore</td>\n",
       "      <td>catA</td>\n",
       "      <td>모이스춰 플럼핑 듀이 미스트</td>\n",
       "      <td>8</td>\n",
       "      <td>2021-07-01</td>\n",
       "      <td>0.535125</td>\n",
       "      <td>2.963116</td>\n",
       "    </tr>\n",
       "    <tr>\n",
       "      <th>1</th>\n",
       "      <td>amore</td>\n",
       "      <td>catA</td>\n",
       "      <td>더 에센셜 크림 플루이드</td>\n",
       "      <td>3</td>\n",
       "      <td>2021-07-01</td>\n",
       "      <td>0.583167</td>\n",
       "      <td>3.061066</td>\n",
       "    </tr>\n",
       "    <tr>\n",
       "      <th>2</th>\n",
       "      <td>amore</td>\n",
       "      <td>catA</td>\n",
       "      <td>라인에이징 코렉터</td>\n",
       "      <td>26</td>\n",
       "      <td>2021-07-01</td>\n",
       "      <td>0.556846</td>\n",
       "      <td>3.121141</td>\n",
       "    </tr>\n",
       "    <tr>\n",
       "      <th>3</th>\n",
       "      <td>amore</td>\n",
       "      <td>catA</td>\n",
       "      <td>모이스춰 플럼핑 넥타 크림</td>\n",
       "      <td>9</td>\n",
       "      <td>2021-07-01</td>\n",
       "      <td>0.558333</td>\n",
       "      <td>3.172879</td>\n",
       "    </tr>\n",
       "    <tr>\n",
       "      <th>4</th>\n",
       "      <td>amore</td>\n",
       "      <td>catA</td>\n",
       "      <td>모이스춰 플럼핑 듀이 미스트</td>\n",
       "      <td>19</td>\n",
       "      <td>2021-07-01</td>\n",
       "      <td>0.528711</td>\n",
       "      <td>3.205043</td>\n",
       "    </tr>\n",
       "    <tr>\n",
       "      <th>...</th>\n",
       "      <td>...</td>\n",
       "      <td>...</td>\n",
       "      <td>...</td>\n",
       "      <td>...</td>\n",
       "      <td>...</td>\n",
       "      <td>...</td>\n",
       "      <td>...</td>\n",
       "    </tr>\n",
       "    <tr>\n",
       "      <th>338</th>\n",
       "      <td>sulhwasoo</td>\n",
       "      <td>catC</td>\n",
       "      <td>에센셜 립세럼 스틱</td>\n",
       "      <td>4</td>\n",
       "      <td>2021-07-09</td>\n",
       "      <td>0.409000</td>\n",
       "      <td>1.365738</td>\n",
       "    </tr>\n",
       "    <tr>\n",
       "      <th>339</th>\n",
       "      <td>sulhwasoo</td>\n",
       "      <td>catE</td>\n",
       "      <td>동백윤모오일</td>\n",
       "      <td>2</td>\n",
       "      <td>2021-07-09</td>\n",
       "      <td>0.529500</td>\n",
       "      <td>2.768750</td>\n",
       "    </tr>\n",
       "    <tr>\n",
       "      <th>340</th>\n",
       "      <td>sulhwasoo</td>\n",
       "      <td>catE</td>\n",
       "      <td>바디로션 백은향</td>\n",
       "      <td>1</td>\n",
       "      <td>2021-07-09</td>\n",
       "      <td>0.523500</td>\n",
       "      <td>3.164900</td>\n",
       "    </tr>\n",
       "    <tr>\n",
       "      <th>341</th>\n",
       "      <td>sulhwasoo</td>\n",
       "      <td>catE</td>\n",
       "      <td>트래블키트 백은향</td>\n",
       "      <td>1</td>\n",
       "      <td>2021-07-09</td>\n",
       "      <td>0.562500</td>\n",
       "      <td>3.270000</td>\n",
       "    </tr>\n",
       "    <tr>\n",
       "      <th>342</th>\n",
       "      <td>sulhwasoo</td>\n",
       "      <td>catE</td>\n",
       "      <td>핸드크림 백은향</td>\n",
       "      <td>2</td>\n",
       "      <td>2021-07-09</td>\n",
       "      <td>0.550000</td>\n",
       "      <td>3.273750</td>\n",
       "    </tr>\n",
       "  </tbody>\n",
       "</table>\n",
       "<p>3093 rows × 7 columns</p>\n",
       "</div>"
      ],
      "text/plain": [
       "         brand category           product  review_counts       date    score1  \\\n",
       "0        amore     catA   모이스춰 플럼핑 듀이 미스트              8 2021-07-01  0.535125   \n",
       "1        amore     catA     더 에센셜 크림 플루이드              3 2021-07-01  0.583167   \n",
       "2        amore     catA         라인에이징 코렉터             26 2021-07-01  0.556846   \n",
       "3        amore     catA    모이스춰 플럼핑 넥타 크림              9 2021-07-01  0.558333   \n",
       "4        amore     catA   모이스춰 플럼핑 듀이 미스트             19 2021-07-01  0.528711   \n",
       "..         ...      ...               ...            ...        ...       ...   \n",
       "338  sulhwasoo     catC        에센셜 립세럼 스틱              4 2021-07-09  0.409000   \n",
       "339  sulhwasoo     catE            동백윤모오일              2 2021-07-09  0.529500   \n",
       "340  sulhwasoo     catE          바디로션 백은향              1 2021-07-09  0.523500   \n",
       "341  sulhwasoo     catE         트래블키트 백은향              1 2021-07-09  0.562500   \n",
       "342  sulhwasoo     catE          핸드크림 백은향              2 2021-07-09  0.550000   \n",
       "\n",
       "       score2  \n",
       "0    2.963116  \n",
       "1    3.061066  \n",
       "2    3.121141  \n",
       "3    3.172879  \n",
       "4    3.205043  \n",
       "..        ...  \n",
       "338  1.365738  \n",
       "339  2.768750  \n",
       "340  3.164900  \n",
       "341  3.270000  \n",
       "342  3.273750  \n",
       "\n",
       "[3093 rows x 7 columns]"
      ]
     },
     "execution_count": 296,
     "metadata": {},
     "output_type": "execute_result"
    }
   ],
   "source": [
    "cbs"
   ]
  },
  {
   "cell_type": "code",
   "execution_count": 291,
   "metadata": {
    "ExecuteTime": {
     "end_time": "2021-11-08T12:55:12.069789Z",
     "start_time": "2021-11-08T12:55:12.055759Z"
    }
   },
   "outputs": [
    {
     "data": {
      "text/html": [
       "<div>\n",
       "<style scoped>\n",
       "    .dataframe tbody tr th:only-of-type {\n",
       "        vertical-align: middle;\n",
       "    }\n",
       "\n",
       "    .dataframe tbody tr th {\n",
       "        vertical-align: top;\n",
       "    }\n",
       "\n",
       "    .dataframe thead th {\n",
       "        text-align: right;\n",
       "    }\n",
       "</style>\n",
       "<table border=\"1\" class=\"dataframe\">\n",
       "  <thead>\n",
       "    <tr style=\"text-align: right;\">\n",
       "      <th></th>\n",
       "      <th>review_counts</th>\n",
       "      <th>score1</th>\n",
       "      <th>score2</th>\n",
       "    </tr>\n",
       "    <tr>\n",
       "      <th>date</th>\n",
       "      <th></th>\n",
       "      <th></th>\n",
       "      <th></th>\n",
       "    </tr>\n",
       "  </thead>\n",
       "  <tbody>\n",
       "    <tr>\n",
       "      <th>2021-07-01</th>\n",
       "      <td>326</td>\n",
       "      <td>11.808573</td>\n",
       "      <td>69.174280</td>\n",
       "    </tr>\n",
       "    <tr>\n",
       "      <th>2021-07-02</th>\n",
       "      <td>326</td>\n",
       "      <td>11.806723</td>\n",
       "      <td>69.258934</td>\n",
       "    </tr>\n",
       "    <tr>\n",
       "      <th>2021-07-03</th>\n",
       "      <td>330</td>\n",
       "      <td>11.811404</td>\n",
       "      <td>69.216674</td>\n",
       "    </tr>\n",
       "    <tr>\n",
       "      <th>2021-07-04</th>\n",
       "      <td>328</td>\n",
       "      <td>11.807444</td>\n",
       "      <td>69.207605</td>\n",
       "    </tr>\n",
       "    <tr>\n",
       "      <th>2021-07-05</th>\n",
       "      <td>329</td>\n",
       "      <td>11.816733</td>\n",
       "      <td>69.681494</td>\n",
       "    </tr>\n",
       "    <tr>\n",
       "      <th>2021-07-06</th>\n",
       "      <td>331</td>\n",
       "      <td>11.821639</td>\n",
       "      <td>69.726581</td>\n",
       "    </tr>\n",
       "    <tr>\n",
       "      <th>2021-07-07</th>\n",
       "      <td>332</td>\n",
       "      <td>11.795578</td>\n",
       "      <td>69.754274</td>\n",
       "    </tr>\n",
       "    <tr>\n",
       "      <th>2021-07-08</th>\n",
       "      <td>326</td>\n",
       "      <td>11.786201</td>\n",
       "      <td>69.724435</td>\n",
       "    </tr>\n",
       "    <tr>\n",
       "      <th>2021-07-09</th>\n",
       "      <td>326</td>\n",
       "      <td>11.755814</td>\n",
       "      <td>69.816242</td>\n",
       "    </tr>\n",
       "  </tbody>\n",
       "</table>\n",
       "</div>"
      ],
      "text/plain": [
       "            review_counts     score1     score2\n",
       "date                                           \n",
       "2021-07-01            326  11.808573  69.174280\n",
       "2021-07-02            326  11.806723  69.258934\n",
       "2021-07-03            330  11.811404  69.216674\n",
       "2021-07-04            328  11.807444  69.207605\n",
       "2021-07-05            329  11.816733  69.681494\n",
       "2021-07-06            331  11.821639  69.726581\n",
       "2021-07-07            332  11.795578  69.754274\n",
       "2021-07-08            326  11.786201  69.724435\n",
       "2021-07-09            326  11.755814  69.816242"
      ]
     },
     "execution_count": 291,
     "metadata": {},
     "output_type": "execute_result"
    }
   ],
   "source": [
    "cbs.groupby(['brand','category']).get_group(('amore','catA')).groupby('date').sum()"
   ]
  },
  {
   "cell_type": "code",
   "execution_count": 297,
   "metadata": {
    "ExecuteTime": {
     "end_time": "2021-11-08T12:56:51.353221Z",
     "start_time": "2021-11-08T12:56:51.339732Z"
    }
   },
   "outputs": [
    {
     "data": {
      "text/html": [
       "<div>\n",
       "<style scoped>\n",
       "    .dataframe tbody tr th:only-of-type {\n",
       "        vertical-align: middle;\n",
       "    }\n",
       "\n",
       "    .dataframe tbody tr th {\n",
       "        vertical-align: top;\n",
       "    }\n",
       "\n",
       "    .dataframe thead th {\n",
       "        text-align: right;\n",
       "    }\n",
       "</style>\n",
       "<table border=\"1\" class=\"dataframe\">\n",
       "  <thead>\n",
       "    <tr style=\"text-align: right;\">\n",
       "      <th></th>\n",
       "      <th>review_counts</th>\n",
       "      <th>score1</th>\n",
       "      <th>score2</th>\n",
       "    </tr>\n",
       "    <tr>\n",
       "      <th>date</th>\n",
       "      <th></th>\n",
       "      <th></th>\n",
       "      <th></th>\n",
       "    </tr>\n",
       "  </thead>\n",
       "  <tbody>\n",
       "    <tr>\n",
       "      <th>2021-07-01</th>\n",
       "      <td>326</td>\n",
       "      <td>11.808573</td>\n",
       "      <td>69.174280</td>\n",
       "    </tr>\n",
       "    <tr>\n",
       "      <th>2021-07-02</th>\n",
       "      <td>329</td>\n",
       "      <td>11.811253</td>\n",
       "      <td>69.191990</td>\n",
       "    </tr>\n",
       "    <tr>\n",
       "      <th>2021-07-03</th>\n",
       "      <td>331</td>\n",
       "      <td>11.809536</td>\n",
       "      <td>69.235915</td>\n",
       "    </tr>\n",
       "    <tr>\n",
       "      <th>2021-07-04</th>\n",
       "      <td>330</td>\n",
       "      <td>11.811404</td>\n",
       "      <td>69.216674</td>\n",
       "    </tr>\n",
       "    <tr>\n",
       "      <th>2021-07-05</th>\n",
       "      <td>332</td>\n",
       "      <td>11.817916</td>\n",
       "      <td>69.480010</td>\n",
       "    </tr>\n",
       "    <tr>\n",
       "      <th>2021-07-06</th>\n",
       "      <td>333</td>\n",
       "      <td>11.820439</td>\n",
       "      <td>69.721894</td>\n",
       "    </tr>\n",
       "    <tr>\n",
       "      <th>2021-07-07</th>\n",
       "      <td>336</td>\n",
       "      <td>11.817189</td>\n",
       "      <td>69.685858</td>\n",
       "    </tr>\n",
       "    <tr>\n",
       "      <th>2021-07-08</th>\n",
       "      <td>332</td>\n",
       "      <td>11.795578</td>\n",
       "      <td>69.754274</td>\n",
       "    </tr>\n",
       "    <tr>\n",
       "      <th>2021-07-09</th>\n",
       "      <td>331</td>\n",
       "      <td>11.764147</td>\n",
       "      <td>69.808179</td>\n",
       "    </tr>\n",
       "  </tbody>\n",
       "</table>\n",
       "</div>"
      ],
      "text/plain": [
       "            review_counts     score1     score2\n",
       "date                                           \n",
       "2021-07-01            326  11.808573  69.174280\n",
       "2021-07-02            329  11.811253  69.191990\n",
       "2021-07-03            331  11.809536  69.235915\n",
       "2021-07-04            330  11.811404  69.216674\n",
       "2021-07-05            332  11.817916  69.480010\n",
       "2021-07-06            333  11.820439  69.721894\n",
       "2021-07-07            336  11.817189  69.685858\n",
       "2021-07-08            332  11.795578  69.754274\n",
       "2021-07-09            331  11.764147  69.808179"
      ]
     },
     "execution_count": 297,
     "metadata": {},
     "output_type": "execute_result"
    }
   ],
   "source": [
    "cbs.groupby(['brand','category']).get_group(('amore','catA')).groupby('date').sum()"
   ]
  },
  {
   "cell_type": "code",
   "execution_count": null,
   "metadata": {},
   "outputs": [],
   "source": []
  }
 ],
 "metadata": {
  "hide_input": false,
  "kernelspec": {
   "display_name": "Python 3",
   "language": "python",
   "name": "python3"
  },
  "language_info": {
   "codemirror_mode": {
    "name": "ipython",
    "version": 3
   },
   "file_extension": ".py",
   "mimetype": "text/x-python",
   "name": "python",
   "nbconvert_exporter": "python",
   "pygments_lexer": "ipython3",
   "version": "3.8.5"
  },
  "nbTranslate": {
   "displayLangs": [
    "*"
   ],
   "hotkey": "alt-t",
   "langInMainMenu": true,
   "sourceLang": "en",
   "targetLang": "fr",
   "useGoogleTranslate": true
  },
  "toc": {
   "base_numbering": 1,
   "nav_menu": {},
   "number_sections": true,
   "sideBar": true,
   "skip_h1_title": false,
   "title_cell": "Table of Contents",
   "title_sidebar": "Contents",
   "toc_cell": false,
   "toc_position": {},
   "toc_section_display": true,
   "toc_window_display": false
  }
 },
 "nbformat": 4,
 "nbformat_minor": 4
}
