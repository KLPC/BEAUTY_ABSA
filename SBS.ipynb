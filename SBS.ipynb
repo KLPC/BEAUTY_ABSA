{
 "cells": [
  {
   "cell_type": "markdown",
   "metadata": {},
   "source": [
    "# Import Data & Packages"
   ]
  },
  {
   "cell_type": "code",
   "execution_count": 1,
   "metadata": {
    "ExecuteTime": {
     "end_time": "2021-11-06T04:08:22.158883Z",
     "start_time": "2021-11-06T04:08:20.335284Z"
    }
   },
   "outputs": [],
   "source": [
    "import pandas as pd\n",
    "import numpy as np\n",
    "import datetime\n",
    "from ast import literal_eval\n",
    "import konlpy\n",
    "from collections import Counter\n",
    "import time\n",
    "import networkx as nx\n",
    "import matplotlib.pyplot as plt"
   ]
  },
  {
   "cell_type": "code",
   "execution_count": 3,
   "metadata": {
    "ExecuteTime": {
     "end_time": "2021-11-06T04:08:42.048850Z",
     "start_time": "2021-11-06T04:08:24.683871Z"
    }
   },
   "outputs": [
    {
     "name": "stdout",
     "output_type": "stream",
     "text": [
      "(50183, 50)\n"
     ]
    }
   ],
   "source": [
    "df_whole=pd.read_json('amore_data_detected_bert.json')\n",
    "df_whole['review_split_string']=df_whole['review_split'].copy()\n",
    "df_whole['review_split']=df_whole['review_split_string'].apply(literal_eval)\n",
    "print(df_whole.shape)"
   ]
  },
  {
   "cell_type": "code",
   "execution_count": 4,
   "metadata": {
    "ExecuteTime": {
     "end_time": "2021-11-06T04:08:48.274320Z",
     "start_time": "2021-11-06T04:08:42.191831Z"
    }
   },
   "outputs": [],
   "source": [
    "df_whole['name']=df_whole[['brand','big_category','prod_nm']].agg('#'.join, axis=1)\n",
    "df_whole['name_sub']=df_whole[['brand','big_category']].agg('#'.join, axis=1)"
   ]
  },
  {
   "cell_type": "code",
   "execution_count": 5,
   "metadata": {
    "ExecuteTime": {
     "end_time": "2021-11-06T04:08:48.464436Z",
     "start_time": "2021-11-06T04:08:48.434029Z"
    }
   },
   "outputs": [
    {
     "data": {
      "text/html": [
       "<div>\n",
       "<style scoped>\n",
       "    .dataframe tbody tr th:only-of-type {\n",
       "        vertical-align: middle;\n",
       "    }\n",
       "\n",
       "    .dataframe tbody tr th {\n",
       "        vertical-align: top;\n",
       "    }\n",
       "\n",
       "    .dataframe thead th {\n",
       "        text-align: right;\n",
       "    }\n",
       "</style>\n",
       "<table border=\"1\" class=\"dataframe\">\n",
       "  <thead>\n",
       "    <tr style=\"text-align: right;\">\n",
       "      <th></th>\n",
       "      <th>A용량</th>\n",
       "      <th>A민감성</th>\n",
       "      <th>A향기</th>\n",
       "      <th>A커버력</th>\n",
       "      <th>A지속력</th>\n",
       "      <th>A피부톤</th>\n",
       "      <th>A보습감</th>\n",
       "      <th>A향</th>\n",
       "      <th>A사용감</th>\n",
       "      <th>A발림성</th>\n",
       "      <th>...</th>\n",
       "      <th>트러블</th>\n",
       "      <th>표현력</th>\n",
       "      <th>품질</th>\n",
       "      <th>향기</th>\n",
       "      <th>효과</th>\n",
       "      <th>휴대성</th>\n",
       "      <th>mask</th>\n",
       "      <th>review_split_string</th>\n",
       "      <th>name</th>\n",
       "      <th>name_sub</th>\n",
       "    </tr>\n",
       "  </thead>\n",
       "  <tbody>\n",
       "    <tr>\n",
       "      <th>0</th>\n",
       "      <td>0</td>\n",
       "      <td>0</td>\n",
       "      <td>1</td>\n",
       "      <td>0</td>\n",
       "      <td>0</td>\n",
       "      <td>0</td>\n",
       "      <td>0</td>\n",
       "      <td>0</td>\n",
       "      <td>0</td>\n",
       "      <td>0</td>\n",
       "      <td>...</td>\n",
       "      <td>0</td>\n",
       "      <td>0</td>\n",
       "      <td>0</td>\n",
       "      <td>1</td>\n",
       "      <td>0</td>\n",
       "      <td>0</td>\n",
       "      <td>[True, False, False]</td>\n",
       "      <td>['바디워시 쓰고 반해서 핸드워시도 사게 됬어요', '바디워시와 같은향이라 그런지 ...</td>\n",
       "      <td>sulhwasoo#catE#핸드워시 백은향 300ml</td>\n",
       "      <td>sulhwasoo#catE</td>\n",
       "    </tr>\n",
       "    <tr>\n",
       "      <th>1</th>\n",
       "      <td>1</td>\n",
       "      <td>1</td>\n",
       "      <td>1</td>\n",
       "      <td>0</td>\n",
       "      <td>0</td>\n",
       "      <td>0</td>\n",
       "      <td>0</td>\n",
       "      <td>0</td>\n",
       "      <td>0</td>\n",
       "      <td>0</td>\n",
       "      <td>...</td>\n",
       "      <td>0</td>\n",
       "      <td>0</td>\n",
       "      <td>0</td>\n",
       "      <td>1</td>\n",
       "      <td>0</td>\n",
       "      <td>0</td>\n",
       "      <td>[True, False, False]</td>\n",
       "      <td>['선물하기에 너무 좋아용 사실 내돈주고 사기엔 아깝구 선물 받은 좋은 아이템 ㅎㅎ...</td>\n",
       "      <td>sulhwasoo#catE#핸드워시 백은향 300ml</td>\n",
       "      <td>sulhwasoo#catE</td>\n",
       "    </tr>\n",
       "  </tbody>\n",
       "</table>\n",
       "<p>2 rows × 52 columns</p>\n",
       "</div>"
      ],
      "text/plain": [
       "   A용량  A민감성  A향기  A커버력  A지속력  A피부톤  A보습감  A향  A사용감  A발림성  ...  트러블  표현력  품질  \\\n",
       "0    0     0    1     0     0     0     0   0     0     0  ...    0    0   0   \n",
       "1    1     1    1     0     0     0     0   0     0     0  ...    0    0   0   \n",
       "\n",
       "   향기  효과  휴대성                  mask  \\\n",
       "0   1   0    0  [True, False, False]   \n",
       "1   1   0    0  [True, False, False]   \n",
       "\n",
       "                                 review_split_string  \\\n",
       "0  ['바디워시 쓰고 반해서 핸드워시도 사게 됬어요', '바디워시와 같은향이라 그런지 ...   \n",
       "1  ['선물하기에 너무 좋아용 사실 내돈주고 사기엔 아깝구 선물 받은 좋은 아이템 ㅎㅎ...   \n",
       "\n",
       "                            name        name_sub  \n",
       "0  sulhwasoo#catE#핸드워시 백은향 300ml  sulhwasoo#catE  \n",
       "1  sulhwasoo#catE#핸드워시 백은향 300ml  sulhwasoo#catE  \n",
       "\n",
       "[2 rows x 52 columns]"
      ]
     },
     "execution_count": 5,
     "metadata": {},
     "output_type": "execute_result"
    }
   ],
   "source": [
    "df_whole.head(2)"
   ]
  },
  {
   "cell_type": "markdown",
   "metadata": {},
   "source": [
    "# Functions"
   ]
  },
  {
   "cell_type": "code",
   "execution_count": 6,
   "metadata": {
    "ExecuteTime": {
     "end_time": "2021-11-06T04:08:48.654422Z",
     "start_time": "2021-11-06T04:08:48.640401Z"
    }
   },
   "outputs": [],
   "source": [
    "def S1_number_func(x):\n",
    "    return(sum([len(x[i].split(' ')) for i in range(len(x))]))\n",
    "\n",
    "def S1_duplicate_func(x):\n",
    "    return(len(set(x))/len(x))\n",
    "    \n",
    "def NVA(x):    \n",
    "    total_words=[]\n",
    "    for i, document in enumerate(list(set(x))):\n",
    "        okt = konlpy.tag.Okt()\n",
    "        clean_words = []\n",
    "        for word in okt.pos(document, stem=True): \n",
    "            if word[1] in ['Noun', 'Verb', 'Adjective']: \n",
    "                clean_words.append(word[0])\n",
    "        total_words.append(clean_words)\n",
    "    result = []\n",
    "    for x in total_words:\n",
    "        result.extend(x)\n",
    "    return result\n",
    "\n",
    "\n",
    "def S1_diversity_func(NVA):  \n",
    "    return(len(set(NVA))/len(NVA))\n",
    "    \n",
    "\n",
    "\n",
    "def s1_recency_func(x,date):\n",
    "    return((date-x.date()).days)\n",
    "\n",
    "def S1_recency_func(x,max_date,window):\n",
    "    \"\"\"\n",
    "    max=50 ( 50,49,,...1 )\n",
    "    ----------------------------------------\n",
    "    50,49,48,47,46 .... (max-0)~(max-window+1)\n",
    "    49,48,47,46,45 .... (max-1)~(max-window+0)\n",
    "    48,47,46,45,44 .... (max-2)~(max-window-1)\n",
    "    ...\n",
    "    5,4,3,2,1 ...,,,,,,. (max-45)~(max-window-44)\n",
    "    ----------------------------------------\n",
    "    max-45가 window가 될 때 까지\n",
    "    \"\"\"\n",
    "    lower = max_date\n",
    "    upper = max_date-window+1\n",
    "    lower_sign=(x<=lower)\n",
    "    upper_sign=(x>=upper)\n",
    "    sign=lower_sign*upper_sign\n",
    "    return sign\n",
    "\n",
    "def s1_recency_list_func(prod_nm):\n",
    "    tmp=S1_recency[S1_recency['prod_nm']==prod_nm]\n",
    "    MA_list=[]\n",
    "    for i in date_range:\n",
    "        window_count = len(tmp['s1_recency'][tmp['s1_recency'].apply((lambda x: S1_recency_func(x,max_date-i,recency_window)))>0])\n",
    "        window_count_mean = window_count/recency_window\n",
    "        MA_list.append(window_count_mean)\n",
    "    return MA_list"
   ]
  },
  {
   "cell_type": "markdown",
   "metadata": {},
   "source": [
    "# SBS"
   ]
  },
  {
   "cell_type": "markdown",
   "metadata": {},
   "source": [
    "각 요소는 0~1사이 값을 가지도록 구성한다"
   ]
  },
  {
   "cell_type": "markdown",
   "metadata": {},
   "source": [
    "## 날짜 범위 설정"
   ]
  },
  {
   "cell_type": "markdown",
   "metadata": {},
   "source": [
    "- 점수 계산 날짜 : (x)일\n",
    "- 점수 계산 대상 날짜 : (x-14)일~ (x)일"
   ]
  },
  {
   "cell_type": "code",
   "execution_count": 7,
   "metadata": {
    "ExecuteTime": {
     "end_time": "2021-11-06T04:08:48.828793Z",
     "start_time": "2021-11-06T04:08:48.814441Z"
    }
   },
   "outputs": [],
   "source": [
    "def get_current_Kdays(df,current_Y,current_M,current_D,K=14):\n",
    "    eval_date = datetime.date(current_Y,current_M,current_D)\n",
    "    df['recency']=df['date'].apply((lambda x: s1_recency_func(x,eval_date)))\n",
    "    return df[df['recency']<K]"
   ]
  },
  {
   "cell_type": "code",
   "execution_count": 72,
   "metadata": {
    "ExecuteTime": {
     "end_time": "2021-11-06T04:36:41.977765Z",
     "start_time": "2021-11-06T04:36:41.808784Z"
    }
   },
   "outputs": [],
   "source": [
    "df = get_current_Kdays(df_whole,2021,7,31,K=60)"
   ]
  },
  {
   "cell_type": "code",
   "execution_count": 73,
   "metadata": {
    "ExecuteTime": {
     "end_time": "2021-11-06T04:36:42.263001Z",
     "start_time": "2021-11-06T04:36:42.248478Z"
    }
   },
   "outputs": [
    {
     "data": {
      "text/plain": [
       "(4239, 53)"
      ]
     },
     "execution_count": 73,
     "metadata": {},
     "output_type": "execute_result"
    }
   ],
   "source": [
    "df.shape"
   ]
  },
  {
   "cell_type": "code",
   "execution_count": 74,
   "metadata": {
    "ExecuteTime": {
     "end_time": "2021-11-06T04:36:42.638769Z",
     "start_time": "2021-11-06T04:36:42.623145Z"
    }
   },
   "outputs": [],
   "source": [
    "brand=list(set(df['brand']))\n",
    "prod_name=list(set(df['name']))\n",
    "prod_name_sub=list(set(df['name_sub']))"
   ]
  },
  {
   "cell_type": "markdown",
   "metadata": {},
   "source": [
    "## (score 1) Prevalence"
   ]
  },
  {
   "cell_type": "code",
   "execution_count": 75,
   "metadata": {
    "ExecuteTime": {
     "end_time": "2021-11-06T04:36:44.141073Z",
     "start_time": "2021-11-06T04:36:44.130022Z"
    }
   },
   "outputs": [],
   "source": [
    "score1 = df['name'].value_counts()\n",
    "#score1 = score1/score1.max()"
   ]
  },
  {
   "cell_type": "code",
   "execution_count": 76,
   "metadata": {
    "ExecuteTime": {
     "end_time": "2021-11-06T04:36:49.036478Z",
     "start_time": "2021-11-06T04:36:48.998438Z"
    }
   },
   "outputs": [
    {
     "data": {
      "text/html": [
       "<div>\n",
       "<style scoped>\n",
       "    .dataframe tbody tr th:only-of-type {\n",
       "        vertical-align: middle;\n",
       "    }\n",
       "\n",
       "    .dataframe tbody tr th {\n",
       "        vertical-align: top;\n",
       "    }\n",
       "\n",
       "    .dataframe thead th {\n",
       "        text-align: right;\n",
       "    }\n",
       "</style>\n",
       "<table border=\"1\" class=\"dataframe\">\n",
       "  <thead>\n",
       "    <tr style=\"text-align: right;\">\n",
       "      <th></th>\n",
       "      <th>A용량</th>\n",
       "      <th>A민감성</th>\n",
       "      <th>A향기</th>\n",
       "      <th>A커버력</th>\n",
       "      <th>A지속력</th>\n",
       "      <th>A피부톤</th>\n",
       "      <th>A보습감</th>\n",
       "      <th>A향</th>\n",
       "      <th>A사용감</th>\n",
       "      <th>A발림성</th>\n",
       "      <th>...</th>\n",
       "      <th>표현력</th>\n",
       "      <th>품질</th>\n",
       "      <th>향기</th>\n",
       "      <th>효과</th>\n",
       "      <th>휴대성</th>\n",
       "      <th>mask</th>\n",
       "      <th>review_split_string</th>\n",
       "      <th>name</th>\n",
       "      <th>name_sub</th>\n",
       "      <th>recency</th>\n",
       "    </tr>\n",
       "  </thead>\n",
       "  <tbody>\n",
       "    <tr>\n",
       "      <th>22</th>\n",
       "      <td>0</td>\n",
       "      <td>0</td>\n",
       "      <td>0</td>\n",
       "      <td>1</td>\n",
       "      <td>0</td>\n",
       "      <td>0</td>\n",
       "      <td>0</td>\n",
       "      <td>0</td>\n",
       "      <td>0</td>\n",
       "      <td>0</td>\n",
       "      <td>...</td>\n",
       "      <td>1</td>\n",
       "      <td>1</td>\n",
       "      <td>0</td>\n",
       "      <td>0</td>\n",
       "      <td>0</td>\n",
       "      <td>[True, True, False]</td>\n",
       "      <td>['제품이 좋아서 항상 사용하고 있습니다.', '커버력도 좋고 지속력도 좋아요']</td>\n",
       "      <td>sulhwasoo#catB#[리필] 퍼펙팅 쿠션 SPF50+/PA+++ 15g</td>\n",
       "      <td>sulhwasoo#catB</td>\n",
       "      <td>17</td>\n",
       "    </tr>\n",
       "    <tr>\n",
       "      <th>23</th>\n",
       "      <td>0</td>\n",
       "      <td>0</td>\n",
       "      <td>0</td>\n",
       "      <td>0</td>\n",
       "      <td>0</td>\n",
       "      <td>0</td>\n",
       "      <td>0</td>\n",
       "      <td>0</td>\n",
       "      <td>0</td>\n",
       "      <td>0</td>\n",
       "      <td>...</td>\n",
       "      <td>1</td>\n",
       "      <td>0</td>\n",
       "      <td>0</td>\n",
       "      <td>0</td>\n",
       "      <td>0</td>\n",
       "      <td>[True, False, True]</td>\n",
       "      <td>['톤 21호 잘맞아요', '촉촉해서 커버는 아쉽지만 건성피부에 잘 맞는것 같아요'...</td>\n",
       "      <td>sulhwasoo#catB#[리필] 퍼펙팅 쿠션 SPF50+/PA+++ 15g</td>\n",
       "      <td>sulhwasoo#catB</td>\n",
       "      <td>20</td>\n",
       "    </tr>\n",
       "    <tr>\n",
       "      <th>24</th>\n",
       "      <td>0</td>\n",
       "      <td>0</td>\n",
       "      <td>0</td>\n",
       "      <td>0</td>\n",
       "      <td>0</td>\n",
       "      <td>1</td>\n",
       "      <td>0</td>\n",
       "      <td>0</td>\n",
       "      <td>0</td>\n",
       "      <td>0</td>\n",
       "      <td>...</td>\n",
       "      <td>1</td>\n",
       "      <td>1</td>\n",
       "      <td>0</td>\n",
       "      <td>0</td>\n",
       "      <td>0</td>\n",
       "      <td>[True, True, False]</td>\n",
       "      <td>['출시된 직후 10통 정도 사용할 만큼 만족도고좋은 제품이예요.', '솔직히 파데...</td>\n",
       "      <td>sulhwasoo#catB#[리필] 퍼펙팅 쿠션 SPF50+/PA+++ 15g</td>\n",
       "      <td>sulhwasoo#catB</td>\n",
       "      <td>30</td>\n",
       "    </tr>\n",
       "    <tr>\n",
       "      <th>25</th>\n",
       "      <td>0</td>\n",
       "      <td>0</td>\n",
       "      <td>0</td>\n",
       "      <td>0</td>\n",
       "      <td>0</td>\n",
       "      <td>0</td>\n",
       "      <td>0</td>\n",
       "      <td>0</td>\n",
       "      <td>0</td>\n",
       "      <td>0</td>\n",
       "      <td>...</td>\n",
       "      <td>1</td>\n",
       "      <td>1</td>\n",
       "      <td>1</td>\n",
       "      <td>1</td>\n",
       "      <td>0</td>\n",
       "      <td>[True, False, False]</td>\n",
       "      <td>['특유의 매화향이 나서 쿠션 두들길때마다 기분좋게 해주는 쿠션입니다.', '다소 ...</td>\n",
       "      <td>sulhwasoo#catB#[리필] 퍼펙팅 쿠션 SPF50+/PA+++ 15g</td>\n",
       "      <td>sulhwasoo#catB</td>\n",
       "      <td>41</td>\n",
       "    </tr>\n",
       "    <tr>\n",
       "      <th>26</th>\n",
       "      <td>0</td>\n",
       "      <td>0</td>\n",
       "      <td>0</td>\n",
       "      <td>1</td>\n",
       "      <td>1</td>\n",
       "      <td>1</td>\n",
       "      <td>0</td>\n",
       "      <td>0</td>\n",
       "      <td>0</td>\n",
       "      <td>0</td>\n",
       "      <td>...</td>\n",
       "      <td>1</td>\n",
       "      <td>1</td>\n",
       "      <td>0</td>\n",
       "      <td>1</td>\n",
       "      <td>0</td>\n",
       "      <td>[True, True, False]</td>\n",
       "      <td>['탄력이 없는 피부라 화장이 들뜬 느낌이 드는데 이제품은 커버력이 뛰어나 만족합니다']</td>\n",
       "      <td>sulhwasoo#catB#[리필] 퍼펙팅 쿠션 SPF50+/PA+++ 15g</td>\n",
       "      <td>sulhwasoo#catB</td>\n",
       "      <td>43</td>\n",
       "    </tr>\n",
       "    <tr>\n",
       "      <th>...</th>\n",
       "      <td>...</td>\n",
       "      <td>...</td>\n",
       "      <td>...</td>\n",
       "      <td>...</td>\n",
       "      <td>...</td>\n",
       "      <td>...</td>\n",
       "      <td>...</td>\n",
       "      <td>...</td>\n",
       "      <td>...</td>\n",
       "      <td>...</td>\n",
       "      <td>...</td>\n",
       "      <td>...</td>\n",
       "      <td>...</td>\n",
       "      <td>...</td>\n",
       "      <td>...</td>\n",
       "      <td>...</td>\n",
       "      <td>...</td>\n",
       "      <td>...</td>\n",
       "      <td>...</td>\n",
       "      <td>...</td>\n",
       "      <td>...</td>\n",
       "    </tr>\n",
       "    <tr>\n",
       "      <th>48459</th>\n",
       "      <td>0</td>\n",
       "      <td>1</td>\n",
       "      <td>0</td>\n",
       "      <td>0</td>\n",
       "      <td>0</td>\n",
       "      <td>0</td>\n",
       "      <td>1</td>\n",
       "      <td>1</td>\n",
       "      <td>0</td>\n",
       "      <td>0</td>\n",
       "      <td>...</td>\n",
       "      <td>0</td>\n",
       "      <td>0</td>\n",
       "      <td>0</td>\n",
       "      <td>1</td>\n",
       "      <td>0</td>\n",
       "      <td>[True, True, False]</td>\n",
       "      <td>['얼굴 열감때문에 진정용도로 마스크팩을 자주 쓰는 편이라 아주 잘 사용했습니다',...</td>\n",
       "      <td>hanyul#catA#자연을 닮은 시트마스크 1매</td>\n",
       "      <td>hanyul#catA</td>\n",
       "      <td>57</td>\n",
       "    </tr>\n",
       "    <tr>\n",
       "      <th>48460</th>\n",
       "      <td>0</td>\n",
       "      <td>1</td>\n",
       "      <td>0</td>\n",
       "      <td>0</td>\n",
       "      <td>0</td>\n",
       "      <td>0</td>\n",
       "      <td>1</td>\n",
       "      <td>1</td>\n",
       "      <td>0</td>\n",
       "      <td>0</td>\n",
       "      <td>...</td>\n",
       "      <td>0</td>\n",
       "      <td>0</td>\n",
       "      <td>0</td>\n",
       "      <td>1</td>\n",
       "      <td>0</td>\n",
       "      <td>[False, True, False]</td>\n",
       "      <td>['촉촉한 워터 타입이 에센스가 넉넉하게 들어 있습니다', '피부에 흡수가 잘 되는...</td>\n",
       "      <td>hanyul#catA#자연을 닮은 시트마스크 1매</td>\n",
       "      <td>hanyul#catA</td>\n",
       "      <td>57</td>\n",
       "    </tr>\n",
       "    <tr>\n",
       "      <th>48461</th>\n",
       "      <td>0</td>\n",
       "      <td>0</td>\n",
       "      <td>0</td>\n",
       "      <td>0</td>\n",
       "      <td>0</td>\n",
       "      <td>0</td>\n",
       "      <td>0</td>\n",
       "      <td>0</td>\n",
       "      <td>0</td>\n",
       "      <td>0</td>\n",
       "      <td>...</td>\n",
       "      <td>0</td>\n",
       "      <td>1</td>\n",
       "      <td>0</td>\n",
       "      <td>0</td>\n",
       "      <td>0</td>\n",
       "      <td>[False, True, False]</td>\n",
       "      <td>['제품은 빠르고 이상없이 잘 도착했습니다.', '항상 쓰던 제품이라 할인을 해서 ...</td>\n",
       "      <td>hanyul#catA#자연을 닮은 시트마스크 1매</td>\n",
       "      <td>hanyul#catA</td>\n",
       "      <td>58</td>\n",
       "    </tr>\n",
       "    <tr>\n",
       "      <th>48462</th>\n",
       "      <td>0</td>\n",
       "      <td>1</td>\n",
       "      <td>0</td>\n",
       "      <td>0</td>\n",
       "      <td>0</td>\n",
       "      <td>0</td>\n",
       "      <td>0</td>\n",
       "      <td>0</td>\n",
       "      <td>0</td>\n",
       "      <td>0</td>\n",
       "      <td>...</td>\n",
       "      <td>0</td>\n",
       "      <td>1</td>\n",
       "      <td>0</td>\n",
       "      <td>0</td>\n",
       "      <td>0</td>\n",
       "      <td>[False, True, False]</td>\n",
       "      <td>['제품은 빠르고 이상없이 잘 도착했습니다.', '항상 쓰던 제품이라 할인을 해서 ...</td>\n",
       "      <td>hanyul#catA#자연을 닮은 시트마스크 1매</td>\n",
       "      <td>hanyul#catA</td>\n",
       "      <td>58</td>\n",
       "    </tr>\n",
       "    <tr>\n",
       "      <th>48463</th>\n",
       "      <td>0</td>\n",
       "      <td>0</td>\n",
       "      <td>0</td>\n",
       "      <td>0</td>\n",
       "      <td>0</td>\n",
       "      <td>0</td>\n",
       "      <td>0</td>\n",
       "      <td>0</td>\n",
       "      <td>0</td>\n",
       "      <td>0</td>\n",
       "      <td>...</td>\n",
       "      <td>0</td>\n",
       "      <td>0</td>\n",
       "      <td>0</td>\n",
       "      <td>0</td>\n",
       "      <td>0</td>\n",
       "      <td>[False, True, False]</td>\n",
       "      <td>['1일1팩하기 나쁘지않은 팩 딱히 엄청 좋은건 모르겠고 무난하게 사용할 수 있는 ...</td>\n",
       "      <td>hanyul#catA#자연을 닮은 시트마스크 1매</td>\n",
       "      <td>hanyul#catA</td>\n",
       "      <td>59</td>\n",
       "    </tr>\n",
       "  </tbody>\n",
       "</table>\n",
       "<p>4239 rows × 53 columns</p>\n",
       "</div>"
      ],
      "text/plain": [
       "       A용량  A민감성  A향기  A커버력  A지속력  A피부톤  A보습감  A향  A사용감  A발림성  ...  표현력  품질  \\\n",
       "22       0     0    0     1     0     0     0   0     0     0  ...    1   1   \n",
       "23       0     0    0     0     0     0     0   0     0     0  ...    1   0   \n",
       "24       0     0    0     0     0     1     0   0     0     0  ...    1   1   \n",
       "25       0     0    0     0     0     0     0   0     0     0  ...    1   1   \n",
       "26       0     0    0     1     1     1     0   0     0     0  ...    1   1   \n",
       "...    ...   ...  ...   ...   ...   ...   ...  ..   ...   ...  ...  ...  ..   \n",
       "48459    0     1    0     0     0     0     1   1     0     0  ...    0   0   \n",
       "48460    0     1    0     0     0     0     1   1     0     0  ...    0   0   \n",
       "48461    0     0    0     0     0     0     0   0     0     0  ...    0   1   \n",
       "48462    0     1    0     0     0     0     0   0     0     0  ...    0   1   \n",
       "48463    0     0    0     0     0     0     0   0     0     0  ...    0   0   \n",
       "\n",
       "       향기  효과  휴대성                  mask  \\\n",
       "22      0   0    0   [True, True, False]   \n",
       "23      0   0    0   [True, False, True]   \n",
       "24      0   0    0   [True, True, False]   \n",
       "25      1   1    0  [True, False, False]   \n",
       "26      0   1    0   [True, True, False]   \n",
       "...    ..  ..  ...                   ...   \n",
       "48459   0   1    0   [True, True, False]   \n",
       "48460   0   1    0  [False, True, False]   \n",
       "48461   0   0    0  [False, True, False]   \n",
       "48462   0   0    0  [False, True, False]   \n",
       "48463   0   0    0  [False, True, False]   \n",
       "\n",
       "                                     review_split_string  \\\n",
       "22         ['제품이 좋아서 항상 사용하고 있습니다.', '커버력도 좋고 지속력도 좋아요']   \n",
       "23     ['톤 21호 잘맞아요', '촉촉해서 커버는 아쉽지만 건성피부에 잘 맞는것 같아요'...   \n",
       "24     ['출시된 직후 10통 정도 사용할 만큼 만족도고좋은 제품이예요.', '솔직히 파데...   \n",
       "25     ['특유의 매화향이 나서 쿠션 두들길때마다 기분좋게 해주는 쿠션입니다.', '다소 ...   \n",
       "26     ['탄력이 없는 피부라 화장이 들뜬 느낌이 드는데 이제품은 커버력이 뛰어나 만족합니다']   \n",
       "...                                                  ...   \n",
       "48459  ['얼굴 열감때문에 진정용도로 마스크팩을 자주 쓰는 편이라 아주 잘 사용했습니다',...   \n",
       "48460  ['촉촉한 워터 타입이 에센스가 넉넉하게 들어 있습니다', '피부에 흡수가 잘 되는...   \n",
       "48461  ['제품은 빠르고 이상없이 잘 도착했습니다.', '항상 쓰던 제품이라 할인을 해서 ...   \n",
       "48462  ['제품은 빠르고 이상없이 잘 도착했습니다.', '항상 쓰던 제품이라 할인을 해서 ...   \n",
       "48463  ['1일1팩하기 나쁘지않은 팩 딱히 엄청 좋은건 모르겠고 무난하게 사용할 수 있는 ...   \n",
       "\n",
       "                                              name        name_sub recency  \n",
       "22     sulhwasoo#catB#[리필] 퍼펙팅 쿠션 SPF50+/PA+++ 15g  sulhwasoo#catB      17  \n",
       "23     sulhwasoo#catB#[리필] 퍼펙팅 쿠션 SPF50+/PA+++ 15g  sulhwasoo#catB      20  \n",
       "24     sulhwasoo#catB#[리필] 퍼펙팅 쿠션 SPF50+/PA+++ 15g  sulhwasoo#catB      30  \n",
       "25     sulhwasoo#catB#[리필] 퍼펙팅 쿠션 SPF50+/PA+++ 15g  sulhwasoo#catB      41  \n",
       "26     sulhwasoo#catB#[리필] 퍼펙팅 쿠션 SPF50+/PA+++ 15g  sulhwasoo#catB      43  \n",
       "...                                            ...             ...     ...  \n",
       "48459                  hanyul#catA#자연을 닮은 시트마스크 1매     hanyul#catA      57  \n",
       "48460                  hanyul#catA#자연을 닮은 시트마스크 1매     hanyul#catA      57  \n",
       "48461                  hanyul#catA#자연을 닮은 시트마스크 1매     hanyul#catA      58  \n",
       "48462                  hanyul#catA#자연을 닮은 시트마스크 1매     hanyul#catA      58  \n",
       "48463                  hanyul#catA#자연을 닮은 시트마스크 1매     hanyul#catA      59  \n",
       "\n",
       "[4239 rows x 53 columns]"
      ]
     },
     "execution_count": 76,
     "metadata": {},
     "output_type": "execute_result"
    }
   ],
   "source": [
    "df"
   ]
  },
  {
   "cell_type": "code",
   "execution_count": 47,
   "metadata": {
    "ExecuteTime": {
     "end_time": "2021-11-06T04:17:09.268290Z",
     "start_time": "2021-11-06T04:17:09.252269Z"
    }
   },
   "outputs": [],
   "source": [
    "#f['name'].apply(lambda x:x.replace({'ml':''}))"
   ]
  },
  {
   "cell_type": "code",
   "execution_count": 70,
   "metadata": {
    "ExecuteTime": {
     "end_time": "2021-11-06T04:36:36.495586Z",
     "start_time": "2021-11-06T04:36:36.462234Z"
    },
    "scrolled": true
   },
   "outputs": [
    {
     "name": "stderr",
     "output_type": "stream",
     "text": [
      "C:\\Users\\LSH\\AppData\\Local\\Temp/ipykernel_4804/2492712262.py:1: SettingWithCopyWarning: \n",
      "A value is trying to be set on a copy of a slice from a DataFrame.\n",
      "Try using .loc[row_indexer,col_indexer] = value instead\n",
      "\n",
      "See the caveats in the documentation: https://pandas.pydata.org/pandas-docs/stable/user_guide/indexing.html#returning-a-view-versus-a-copy\n",
      "  df['name']=df['name'].str.replace('ml', '')\n",
      "C:\\Users\\LSH\\AppData\\Local\\Temp/ipykernel_4804/2492712262.py:2: SettingWithCopyWarning: \n",
      "A value is trying to be set on a copy of a slice from a DataFrame.\n",
      "Try using .loc[row_indexer,col_indexer] = value instead\n",
      "\n",
      "See the caveats in the documentation: https://pandas.pydata.org/pandas-docs/stable/user_guide/indexing.html#returning-a-view-versus-a-copy\n",
      "  df['name']=df['name'].str.replace('g', '')\n",
      "C:\\Users\\LSH\\AppData\\Local\\Temp/ipykernel_4804/2492712262.py:3: SettingWithCopyWarning: \n",
      "A value is trying to be set on a copy of a slice from a DataFrame.\n",
      "Try using .loc[row_indexer,col_indexer] = value instead\n",
      "\n",
      "See the caveats in the documentation: https://pandas.pydata.org/pandas-docs/stable/user_guide/indexing.html#returning-a-view-versus-a-copy\n",
      "  df['name']=df['name'].str.replace('\\d+', 'kk').str.replace('\\d+', 'kk')\n",
      "C:\\Users\\LSH\\AppData\\Local\\Temp/ipykernel_4804/2492712262.py:4: SettingWithCopyWarning: \n",
      "A value is trying to be set on a copy of a slice from a DataFrame.\n",
      "Try using .loc[row_indexer,col_indexer] = value instead\n",
      "\n",
      "See the caveats in the documentation: https://pandas.pydata.org/pandas-docs/stable/user_guide/indexing.html#returning-a-view-versus-a-copy\n",
      "  df['name']=df['name'].str.replace('kk매', '')\n",
      "C:\\Users\\LSH\\AppData\\Local\\Temp/ipykernel_4804/2492712262.py:5: SettingWithCopyWarning: \n",
      "A value is trying to be set on a copy of a slice from a DataFrame.\n",
      "Try using .loc[row_indexer,col_indexer] = value instead\n",
      "\n",
      "See the caveats in the documentation: https://pandas.pydata.org/pandas-docs/stable/user_guide/indexing.html#returning-a-view-versus-a-copy\n",
      "  df['name']=df['name'].str.replace('kk호', '')\n",
      "C:\\Users\\LSH\\AppData\\Local\\Temp/ipykernel_4804/2492712262.py:6: SettingWithCopyWarning: \n",
      "A value is trying to be set on a copy of a slice from a DataFrame.\n",
      "Try using .loc[row_indexer,col_indexer] = value instead\n",
      "\n",
      "See the caveats in the documentation: https://pandas.pydata.org/pandas-docs/stable/user_guide/indexing.html#returning-a-view-versus-a-copy\n",
      "  df['name']=df['name'].str.replace('kk', '')\n"
     ]
    }
   ],
   "source": [
    "df['name']=df['name'].str.replace('ml', '')\n",
    "df['name']=df['name'].str.replace('g', '')\n",
    "df['name']=df['name'].str.replace('\\d+', 'kk').str.replace('\\d+', 'kk')\n",
    "df['name']=df['name'].str.replace('kk매', '')\n",
    "df['name']=df['name'].str.replace('kk호', '')\n",
    "df['name']=df['name'].str.replace('kk', '')"
   ]
  },
  {
   "cell_type": "code",
   "execution_count": 62,
   "metadata": {
    "ExecuteTime": {
     "end_time": "2021-11-06T04:35:06.565055Z",
     "start_time": "2021-11-06T04:35:06.555857Z"
    }
   },
   "outputs": [],
   "source": [
    "min_review_thres=1"
   ]
  },
  {
   "cell_type": "code",
   "execution_count": 69,
   "metadata": {
    "ExecuteTime": {
     "end_time": "2021-11-06T04:35:51.647595Z",
     "start_time": "2021-11-06T04:35:51.632599Z"
    }
   },
   "outputs": [
    {
     "data": {
      "text/plain": [
       "22       sulhwasoo#catB#[리필] 퍼펙팅 쿠션 SPF+/PA+++ \n",
       "23       sulhwasoo#catB#[리필] 퍼펙팅 쿠션 SPF+/PA+++ \n",
       "24       sulhwasoo#catB#[리필] 퍼펙팅 쿠션 SPF+/PA+++ \n",
       "25       sulhwasoo#catB#[리필] 퍼펙팅 쿠션 SPF+/PA+++ \n",
       "26       sulhwasoo#catB#[리필] 퍼펙팅 쿠션 SPF+/PA+++ \n",
       "                          ...                  \n",
       "48459                 hanyul#catA#자연을 닮은 시트마스크 \n",
       "48460                 hanyul#catA#자연을 닮은 시트마스크 \n",
       "48461                 hanyul#catA#자연을 닮은 시트마스크 \n",
       "48462                 hanyul#catA#자연을 닮은 시트마스크 \n",
       "48463                 hanyul#catA#자연을 닮은 시트마스크 \n",
       "Name: name, Length: 4239, dtype: object"
      ]
     },
     "execution_count": 69,
     "metadata": {},
     "output_type": "execute_result"
    }
   ],
   "source": [
    "df['name']"
   ]
  },
  {
   "cell_type": "code",
   "execution_count": 67,
   "metadata": {
    "ExecuteTime": {
     "end_time": "2021-11-06T04:35:42.129045Z",
     "start_time": "2021-11-06T04:35:42.109868Z"
    }
   },
   "outputs": [
    {
     "data": {
      "text/plain": [
       "359"
      ]
     },
     "execution_count": 67,
     "metadata": {},
     "output_type": "execute_result"
    }
   ],
   "source": [
    "len(set(df['name']))"
   ]
  },
  {
   "cell_type": "code",
   "execution_count": 63,
   "metadata": {
    "ExecuteTime": {
     "end_time": "2021-11-06T04:35:06.863925Z",
     "start_time": "2021-11-06T04:35:06.854929Z"
    }
   },
   "outputs": [
    {
     "data": {
      "text/plain": [
       "0.8032345013477089"
      ]
     },
     "execution_count": 63,
     "metadata": {},
     "output_type": "execute_result"
    }
   ],
   "source": [
    "np.mean(score1>min_review_thres)"
   ]
  },
  {
   "cell_type": "code",
   "execution_count": 19,
   "metadata": {
    "ExecuteTime": {
     "end_time": "2021-11-06T04:09:39.853869Z",
     "start_time": "2021-11-06T04:09:39.598979Z"
    }
   },
   "outputs": [
    {
     "data": {
      "text/plain": [
       "<AxesSubplot:title={'center':'[score 1] Prevalence'}, ylabel='Frequency'>"
      ]
     },
     "execution_count": 19,
     "metadata": {},
     "output_type": "execute_result"
    },
    {
     "data": {
      "image/png": "[encoded data removed]",
      "text/plain": [
       "<Figure size 432x288 with 1 Axes>"
      ]
     },
     "metadata": {
      "needs_background": "light"
     },
     "output_type": "display_data"
    }
   ],
   "source": [
    "score1.plot(kind='hist',bins=100,title='[score 1] Prevalence')"
   ]
  },
  {
   "cell_type": "code",
   "execution_count": 20,
   "metadata": {
    "ExecuteTime": {
     "end_time": "2021-11-06T04:10:16.258607Z",
     "start_time": "2021-11-06T04:10:16.240359Z"
    }
   },
   "outputs": [
    {
     "data": {
      "text/plain": [
       "11.425876010781671"
      ]
     },
     "execution_count": 20,
     "metadata": {},
     "output_type": "execute_result"
    }
   ],
   "source": [
    "score1.mean()"
   ]
  },
  {
   "cell_type": "markdown",
   "metadata": {},
   "source": [
    "## (score 2) Diversity"
   ]
  },
  {
   "cell_type": "markdown",
   "metadata": {},
   "source": [
    "- nva : Noun + Verb + Adjective\n",
    "- 소요 시간 : **0.04초/1개 리뷰**"
   ]
  },
  {
   "cell_type": "code",
   "execution_count": 73,
   "metadata": {
    "ExecuteTime": {
     "end_time": "2021-11-01T03:04:24.145653Z",
     "start_time": "2021-11-01T03:03:27.481941Z"
    }
   },
   "outputs": [],
   "source": [
    "nva=df['review_split'].apply(NVA)"
   ]
  },
  {
   "cell_type": "code",
   "execution_count": 74,
   "metadata": {
    "ExecuteTime": {
     "end_time": "2021-11-01T03:04:24.239663Z",
     "start_time": "2021-11-01T03:04:24.225660Z"
    }
   },
   "outputs": [
    {
     "name": "stderr",
     "output_type": "stream",
     "text": [
      "<ipython-input-74-0a59c65ad644>:1: SettingWithCopyWarning: \n",
      "A value is trying to be set on a copy of a slice from a DataFrame.\n",
      "Try using .loc[row_indexer,col_indexer] = value instead\n",
      "\n",
      "See the caveats in the documentation: https://pandas.pydata.org/pandas-docs/stable/user_guide/indexing.html#returning-a-view-versus-a-copy\n",
      "  df['diversity'] = nva.apply(S1_diversity_func)\n"
     ]
    }
   ],
   "source": [
    "df['diversity'] = nva.apply(S1_diversity_func)"
   ]
  },
  {
   "cell_type": "code",
   "execution_count": 75,
   "metadata": {
    "ExecuteTime": {
     "end_time": "2021-11-01T03:04:24.335682Z",
     "start_time": "2021-11-01T03:04:24.322680Z"
    }
   },
   "outputs": [],
   "source": [
    "score2=df.groupby('name').mean()['diversity']"
   ]
  },
  {
   "cell_type": "code",
   "execution_count": 76,
   "metadata": {
    "ExecuteTime": {
     "end_time": "2021-11-01T03:04:24.413719Z",
     "start_time": "2021-11-01T03:04:24.400699Z"
    }
   },
   "outputs": [
    {
     "data": {
      "text/plain": [
       "name\n",
       "amore#catA#[리필] 모이스춰 플럼핑 듀이 미스트 100ml                  0.886282\n",
       "amore#catA#더 에센셜 크림 플루이드 90ml                          0.875850\n",
       "amore#catA#라인에이징 코렉터 30ml                              1.000000\n",
       "amore#catA#모이스춰 플럼핑 넥타 크림 30ml                         0.795139\n",
       "amore#catA#모이스춰 플럼핑 넥타 크림 50ml                         0.898349\n",
       "                                                         ...   \n",
       "sulhwasoo#catB#[설화수x피카소] 퍼펙팅파운데이션 17N + 산수화 브러쉬 세트     0.774194\n",
       "sulhwasoo#catB#[설화수x피카소] 퍼펙팅파운데이션 21N + 산수화 브러쉬 세트     0.827891\n",
       "sulhwasoo#catB#퍼펙팅 쿠션 SPF50+/PA+++ 15g*2(본품+리필)        0.779957\n",
       "sulhwasoo#catE#트래블키트 백은향 50ml*4                        0.909091\n",
       "sulhwasoo#catE#핸드크림 백은향 40ml                           0.931034\n",
       "Name: diversity, Length: 248, dtype: float64"
      ]
     },
     "execution_count": 76,
     "metadata": {},
     "output_type": "execute_result"
    }
   ],
   "source": [
    "score2"
   ]
  },
  {
   "cell_type": "code",
   "execution_count": 77,
   "metadata": {
    "ExecuteTime": {
     "end_time": "2021-11-01T03:04:24.701784Z",
     "start_time": "2021-11-01T03:04:24.479716Z"
    }
   },
   "outputs": [
    {
     "data": {
      "text/plain": [
       "<matplotlib.axes._subplots.AxesSubplot at 0x2b2733a91f0>"
      ]
     },
     "execution_count": 77,
     "metadata": {},
     "output_type": "execute_result"
    },
    {
     "data": {
      "image/png": "[encoded data removed]",
      "text/plain": [
       "<Figure size 432x288 with 1 Axes>"
      ]
     },
     "metadata": {
      "needs_background": "light"
     },
     "output_type": "display_data"
    }
   ],
   "source": [
    "score2.plot(kind='hist',bins=100,title='[score 2] Diversity')"
   ]
  },
  {
   "cell_type": "markdown",
   "metadata": {},
   "source": [
    "## (score 3) Connectivity"
   ]
  },
  {
   "cell_type": "markdown",
   "metadata": {},
   "source": [
    "- connectivity의 network 구성에는 너무 많은 연산량이 소요된다.\n",
    "- 많이 등장한 top K word만을 대상으로 네트워크를 구성한다\n",
    "- (주의) 제품명 텍스트 (prod_name)은 반드시 포함해야!\n",
    "- 모든 \"review text\"앞에 \"브랜드#대제품군#제품명\" 붙이기"
   ]
  },
  {
   "cell_type": "code",
   "execution_count": 98,
   "metadata": {
    "ExecuteTime": {
     "end_time": "2021-11-01T03:56:15.196620Z",
     "start_time": "2021-11-01T03:56:15.183619Z"
    }
   },
   "outputs": [],
   "source": [
    "def top_K_words(nva,prod_name_sub,K,node='brand'):\n",
    "    \n",
    "    assert node in ['brand','brand+big','brand+big+prd']\n",
    "    top_K=[]\n",
    "    \n",
    "    if node=='brand':\n",
    "        tmp=list(df['brand'])\n",
    "        top_K.extend(list(set(df['brand'])))\n",
    "    elif node=='brand+big':\n",
    "        tmp=list(df['name_sub'])\n",
    "        top_K.extend(list(set(df['name_sub'])))\n",
    "    else:\n",
    "        tmp=list(df['name'])\n",
    "        top_K.extend(list(set(df['name'])))\n",
    "    \n",
    "    nva_list=list(nva)\n",
    "    for i in range(len(nva_list)):\n",
    "        nva_list[i]=[tmp[i]]+nva_list[i]\n",
    "\n",
    "    concat_list = np.concatenate(nva_list)\n",
    "\n",
    "        \n",
    "    cnt = Counter(concat_list)\n",
    "    list_sorted = sorted(list(cnt.items()), key=lambda x: [-x[1], x[0]])\n",
    "    nva_topK = []\n",
    "    \n",
    "    for i in range(10*K): \n",
    "        top_K.append(list_sorted[i][0])\n",
    "    print(len(top_K))\n",
    "    top_K = [word for word in top_K if len(word)>1]\n",
    "    print(len(top_K))\n",
    "    top_K = [word for word in top_K if ((len(word)!=2)&(word[1]!='다'))]\n",
    "    print(len(top_K))\n",
    "    top_K = top_K[:K]\n",
    "    print(len(top_K))\n",
    "    for idx in range(len(nva.index)):\n",
    "        nva_topK.append([word for word in nva_list[idx] if word in top_K])\n",
    "\n",
    "    before=len(np.concatenate(nva.values))\n",
    "    after=len(np.concatenate(nva_topK))\n",
    "    print(np.round(after/before,3)*100,'% 만큼의 단어 생존')\n",
    "    \n",
    "    return nva_topK"
   ]
  },
  {
   "cell_type": "code",
   "execution_count": 99,
   "metadata": {
    "ExecuteTime": {
     "end_time": "2021-11-01T03:56:15.432340Z",
     "start_time": "2021-11-01T03:56:15.413334Z"
    }
   },
   "outputs": [],
   "source": [
    "def get_coocmat(nva_topK):\n",
    "    u = (pd.get_dummies(pd.DataFrame(nva_topK), prefix='', prefix_sep='')\n",
    "       .groupby(level=0, axis=1)\n",
    "       .sum())\n",
    "\n",
    "    cooc_mat = u.T.dot(u)\n",
    "    cooc_mat.values[(np.r_[:len(cooc_mat)], ) * 2] = 0\n",
    "    return cooc_mat\n",
    "    "
   ]
  },
  {
   "cell_type": "code",
   "execution_count": 100,
   "metadata": {
    "ExecuteTime": {
     "end_time": "2021-11-01T03:56:15.604236Z",
     "start_time": "2021-11-01T03:56:15.598237Z"
    }
   },
   "outputs": [],
   "source": [
    "def connectivity_from_cooc(coocurence_mat):\n",
    "    cooc_mat = coocurence_mat.copy()\n",
    "    print('shape of coocurrence matrix :',cooc_mat.shape)\n",
    "    time1 = time.time()\n",
    "    conn = cooc_mat.stack()\n",
    "    conn=conn.rename_axis(('source','target')).reset_index(name='weight')\n",
    "    G = nx.from_pandas_edgelist(conn,edge_attr=True)\n",
    "    time2 = time.time()\n",
    "    print('Constructing Graph took {} secs'.format(time2-time1))\n",
    "    for u,v,data in G.edges(data=True):\n",
    "        if 'weight' in data and data['weight']!=0:\n",
    "            data['inverse']=1/data['weight']\n",
    "        else:\n",
    "            data['inverse']=1\n",
    "    connectivity = nx.betweenness_centrality(G,normalized=False,weight='inverse',endpoints =True)\n",
    "    time3 = time.time()\n",
    "    print('Calculating Connectivity took {} secs'.format(time3-time2))\n",
    "    return connectivity"
   ]
  },
  {
   "cell_type": "markdown",
   "metadata": {},
   "source": [
    "### brand"
   ]
  },
  {
   "cell_type": "code",
   "execution_count": 101,
   "metadata": {
    "ExecuteTime": {
     "end_time": "2021-11-01T03:56:15.967964Z",
     "start_time": "2021-11-01T03:56:15.958861Z"
    }
   },
   "outputs": [],
   "source": [
    "#connectivity_tmp"
   ]
  },
  {
   "cell_type": "code",
   "execution_count": 102,
   "metadata": {
    "ExecuteTime": {
     "end_time": "2021-11-01T03:56:16.388626Z",
     "start_time": "2021-11-01T03:56:16.382624Z"
    }
   },
   "outputs": [],
   "source": [
    "tt=[]\n",
    "for i in nva_topK:\n",
    "    for j in i:\n",
    "        tt.append(j)"
   ]
  },
  {
   "cell_type": "code",
   "execution_count": 103,
   "metadata": {
    "ExecuteTime": {
     "end_time": "2021-11-01T03:56:16.751181Z",
     "start_time": "2021-11-01T03:56:16.743192Z"
    }
   },
   "outputs": [
    {
     "data": {
      "text/plain": [
       "78"
      ]
     },
     "execution_count": 103,
     "metadata": {},
     "output_type": "execute_result"
    }
   ],
   "source": [
    "len(set(tt))"
   ]
  },
  {
   "cell_type": "code",
   "execution_count": 104,
   "metadata": {
    "ExecuteTime": {
     "end_time": "2021-11-01T03:56:16.986844Z",
     "start_time": "2021-11-01T03:56:16.964599Z"
    }
   },
   "outputs": [
    {
     "data": {
      "text/plain": [
       "95       [저, 몇번, 사용, 해보다, 어마, 니, 왜, 계속, 사용, 하다, 알다, 같다,...\n",
       "206      [좋다, 사용, 하다, 되다, 또, 구입, 하다, 의향, 있다, 여름, 피부, 건조...\n",
       "207      [향, 윤조, 에센스, 자음, 생, 합치다, 은은하다, 지속, 되다, 것, 같다, ...\n",
       "278      [마스크, 착용, 지치다, 나, 피부, 촉촉하다, 피부, 자극, 사용, 하다, 좋다...\n",
       "279      [어른, 쓸다, 설화수, 화장품, 없다, 같다, 담, 진설, 라인, 사드, 리, 싶...\n",
       "                               ...                        \n",
       "48291    [종류, 별로, 구매, 하다, 보다, 구매, 하다, 보호, 적히다, 율, 마스크, ...\n",
       "48292    [율, 제품, 마스크, 팩, 좋다, 것, 같다, 시트, 얇다, 피부, 밀착, 자다,...\n",
       "48293    [마스크, 팩, 시트, 일단, 정, 도톰하다, 순하다, 촉촉하다, 쑥, 마스크, 팩...\n",
       "48294    [마스크, 팩, 꾸준하다, 사용, 하다, 더욱, 효과, 여서, 팩, 계속, 사용, ...\n",
       "48295    [애정, 하다, 팩, 보습, 쫀쫀하, 되다, 제품, 여름, 겨울, 하다, 더, 좋다...\n",
       "Name: review_split, Length: 1036, dtype: object"
      ]
     },
     "execution_count": 104,
     "metadata": {},
     "output_type": "execute_result"
    }
   ],
   "source": [
    "nva"
   ]
  },
  {
   "cell_type": "code",
   "execution_count": 105,
   "metadata": {
    "ExecuteTime": {
     "end_time": "2021-11-01T03:56:19.221496Z",
     "start_time": "2021-11-01T03:56:18.609596Z"
    }
   },
   "outputs": [
    {
     "name": "stdout",
     "output_type": "stream",
     "text": [
      "1008\n",
      "839\n",
      "293\n",
      "100\n",
      "15.7 % 만큼의 단어 생존\n",
      "shape of coocurrence matrix : (92, 92)\n",
      "Constructing Graph took 0.026525259017944336 secs\n",
      "Calculating Connectivity took 0.4490964412689209 secs\n"
     ]
    }
   ],
   "source": [
    "# ['brand','brand+big','brand+big+prd']\n",
    "nva_topK = top_K_words(nva,list(set(df['brand'])),K=100,node='brand')\n",
    "cooc_mat=get_coocmat(nva_topK)\n",
    "connectivity_tmp = connectivity_from_cooc(cooc_mat)\n",
    "\n",
    "tmp=[]\n",
    "for b in brand:\n",
    "    tmp.append(connectivity_tmp[b])\n",
    "connectivity=tmp/max(np.array(tmp))\n",
    "\n",
    "score3=dict(zip(brand,connectivity))"
   ]
  },
  {
   "cell_type": "code",
   "execution_count": 106,
   "metadata": {
    "ExecuteTime": {
     "end_time": "2021-11-01T03:56:36.496115Z",
     "start_time": "2021-11-01T03:56:36.468087Z"
    }
   },
   "outputs": [
    {
     "data": {
      "text/html": [
       "<div>\n",
       "<style scoped>\n",
       "    .dataframe tbody tr th:only-of-type {\n",
       "        vertical-align: middle;\n",
       "    }\n",
       "\n",
       "    .dataframe tbody tr th {\n",
       "        vertical-align: top;\n",
       "    }\n",
       "\n",
       "    .dataframe thead th {\n",
       "        text-align: right;\n",
       "    }\n",
       "</style>\n",
       "<table border=\"1\" class=\"dataframe\">\n",
       "  <thead>\n",
       "    <tr style=\"text-align: right;\">\n",
       "      <th></th>\n",
       "      <th>amore</th>\n",
       "      <th>hanyul</th>\n",
       "      <th>hera</th>\n",
       "      <th>iope</th>\n",
       "      <th>laneige</th>\n",
       "      <th>mamonde</th>\n",
       "      <th>primera</th>\n",
       "      <th>sulhwasoo</th>\n",
       "      <th>가볍다</th>\n",
       "      <th>간편하다</th>\n",
       "      <th>...</th>\n",
       "      <th>파운데이션</th>\n",
       "      <th>패키지</th>\n",
       "      <th>편하다</th>\n",
       "      <th>필요하다</th>\n",
       "      <th>해보다</th>\n",
       "      <th>해봤다</th>\n",
       "      <th>해주다</th>\n",
       "      <th>화사하다</th>\n",
       "      <th>화장품</th>\n",
       "      <th>확실하다</th>\n",
       "    </tr>\n",
       "  </thead>\n",
       "  <tbody>\n",
       "    <tr>\n",
       "      <th>amore</th>\n",
       "      <td>0</td>\n",
       "      <td>0</td>\n",
       "      <td>0</td>\n",
       "      <td>0</td>\n",
       "      <td>0</td>\n",
       "      <td>0</td>\n",
       "      <td>0</td>\n",
       "      <td>0</td>\n",
       "      <td>5</td>\n",
       "      <td>0</td>\n",
       "      <td>...</td>\n",
       "      <td>0</td>\n",
       "      <td>0</td>\n",
       "      <td>1</td>\n",
       "      <td>1</td>\n",
       "      <td>0</td>\n",
       "      <td>1</td>\n",
       "      <td>1</td>\n",
       "      <td>0</td>\n",
       "      <td>1</td>\n",
       "      <td>2</td>\n",
       "    </tr>\n",
       "    <tr>\n",
       "      <th>hanyul</th>\n",
       "      <td>0</td>\n",
       "      <td>0</td>\n",
       "      <td>0</td>\n",
       "      <td>0</td>\n",
       "      <td>0</td>\n",
       "      <td>0</td>\n",
       "      <td>0</td>\n",
       "      <td>0</td>\n",
       "      <td>10</td>\n",
       "      <td>0</td>\n",
       "      <td>...</td>\n",
       "      <td>1</td>\n",
       "      <td>6</td>\n",
       "      <td>5</td>\n",
       "      <td>5</td>\n",
       "      <td>16</td>\n",
       "      <td>9</td>\n",
       "      <td>10</td>\n",
       "      <td>1</td>\n",
       "      <td>7</td>\n",
       "      <td>8</td>\n",
       "    </tr>\n",
       "    <tr>\n",
       "      <th>hera</th>\n",
       "      <td>0</td>\n",
       "      <td>0</td>\n",
       "      <td>0</td>\n",
       "      <td>0</td>\n",
       "      <td>0</td>\n",
       "      <td>0</td>\n",
       "      <td>0</td>\n",
       "      <td>0</td>\n",
       "      <td>27</td>\n",
       "      <td>6</td>\n",
       "      <td>...</td>\n",
       "      <td>10</td>\n",
       "      <td>9</td>\n",
       "      <td>11</td>\n",
       "      <td>3</td>\n",
       "      <td>22</td>\n",
       "      <td>20</td>\n",
       "      <td>12</td>\n",
       "      <td>17</td>\n",
       "      <td>4</td>\n",
       "      <td>5</td>\n",
       "    </tr>\n",
       "    <tr>\n",
       "      <th>iope</th>\n",
       "      <td>0</td>\n",
       "      <td>0</td>\n",
       "      <td>0</td>\n",
       "      <td>0</td>\n",
       "      <td>0</td>\n",
       "      <td>0</td>\n",
       "      <td>0</td>\n",
       "      <td>0</td>\n",
       "      <td>5</td>\n",
       "      <td>2</td>\n",
       "      <td>...</td>\n",
       "      <td>1</td>\n",
       "      <td>0</td>\n",
       "      <td>5</td>\n",
       "      <td>1</td>\n",
       "      <td>6</td>\n",
       "      <td>3</td>\n",
       "      <td>5</td>\n",
       "      <td>0</td>\n",
       "      <td>3</td>\n",
       "      <td>5</td>\n",
       "    </tr>\n",
       "    <tr>\n",
       "      <th>laneige</th>\n",
       "      <td>0</td>\n",
       "      <td>0</td>\n",
       "      <td>0</td>\n",
       "      <td>0</td>\n",
       "      <td>0</td>\n",
       "      <td>0</td>\n",
       "      <td>0</td>\n",
       "      <td>0</td>\n",
       "      <td>16</td>\n",
       "      <td>2</td>\n",
       "      <td>...</td>\n",
       "      <td>25</td>\n",
       "      <td>4</td>\n",
       "      <td>10</td>\n",
       "      <td>4</td>\n",
       "      <td>12</td>\n",
       "      <td>8</td>\n",
       "      <td>13</td>\n",
       "      <td>13</td>\n",
       "      <td>3</td>\n",
       "      <td>11</td>\n",
       "    </tr>\n",
       "    <tr>\n",
       "      <th>...</th>\n",
       "      <td>...</td>\n",
       "      <td>...</td>\n",
       "      <td>...</td>\n",
       "      <td>...</td>\n",
       "      <td>...</td>\n",
       "      <td>...</td>\n",
       "      <td>...</td>\n",
       "      <td>...</td>\n",
       "      <td>...</td>\n",
       "      <td>...</td>\n",
       "      <td>...</td>\n",
       "      <td>...</td>\n",
       "      <td>...</td>\n",
       "      <td>...</td>\n",
       "      <td>...</td>\n",
       "      <td>...</td>\n",
       "      <td>...</td>\n",
       "      <td>...</td>\n",
       "      <td>...</td>\n",
       "      <td>...</td>\n",
       "      <td>...</td>\n",
       "    </tr>\n",
       "    <tr>\n",
       "      <th>해봤다</th>\n",
       "      <td>1</td>\n",
       "      <td>9</td>\n",
       "      <td>20</td>\n",
       "      <td>3</td>\n",
       "      <td>8</td>\n",
       "      <td>12</td>\n",
       "      <td>5</td>\n",
       "      <td>2</td>\n",
       "      <td>11</td>\n",
       "      <td>3</td>\n",
       "      <td>...</td>\n",
       "      <td>0</td>\n",
       "      <td>0</td>\n",
       "      <td>5</td>\n",
       "      <td>1</td>\n",
       "      <td>13</td>\n",
       "      <td>0</td>\n",
       "      <td>1</td>\n",
       "      <td>9</td>\n",
       "      <td>2</td>\n",
       "      <td>3</td>\n",
       "    </tr>\n",
       "    <tr>\n",
       "      <th>해주다</th>\n",
       "      <td>1</td>\n",
       "      <td>10</td>\n",
       "      <td>12</td>\n",
       "      <td>5</td>\n",
       "      <td>13</td>\n",
       "      <td>9</td>\n",
       "      <td>5</td>\n",
       "      <td>6</td>\n",
       "      <td>9</td>\n",
       "      <td>4</td>\n",
       "      <td>...</td>\n",
       "      <td>4</td>\n",
       "      <td>1</td>\n",
       "      <td>1</td>\n",
       "      <td>0</td>\n",
       "      <td>6</td>\n",
       "      <td>1</td>\n",
       "      <td>0</td>\n",
       "      <td>1</td>\n",
       "      <td>2</td>\n",
       "      <td>6</td>\n",
       "    </tr>\n",
       "    <tr>\n",
       "      <th>화사하다</th>\n",
       "      <td>0</td>\n",
       "      <td>1</td>\n",
       "      <td>17</td>\n",
       "      <td>0</td>\n",
       "      <td>13</td>\n",
       "      <td>1</td>\n",
       "      <td>0</td>\n",
       "      <td>6</td>\n",
       "      <td>12</td>\n",
       "      <td>0</td>\n",
       "      <td>...</td>\n",
       "      <td>8</td>\n",
       "      <td>0</td>\n",
       "      <td>1</td>\n",
       "      <td>2</td>\n",
       "      <td>2</td>\n",
       "      <td>9</td>\n",
       "      <td>1</td>\n",
       "      <td>0</td>\n",
       "      <td>2</td>\n",
       "      <td>2</td>\n",
       "    </tr>\n",
       "    <tr>\n",
       "      <th>화장품</th>\n",
       "      <td>1</td>\n",
       "      <td>7</td>\n",
       "      <td>4</td>\n",
       "      <td>3</td>\n",
       "      <td>3</td>\n",
       "      <td>9</td>\n",
       "      <td>4</td>\n",
       "      <td>3</td>\n",
       "      <td>3</td>\n",
       "      <td>0</td>\n",
       "      <td>...</td>\n",
       "      <td>0</td>\n",
       "      <td>0</td>\n",
       "      <td>5</td>\n",
       "      <td>1</td>\n",
       "      <td>4</td>\n",
       "      <td>2</td>\n",
       "      <td>2</td>\n",
       "      <td>2</td>\n",
       "      <td>0</td>\n",
       "      <td>3</td>\n",
       "    </tr>\n",
       "    <tr>\n",
       "      <th>확실하다</th>\n",
       "      <td>2</td>\n",
       "      <td>8</td>\n",
       "      <td>5</td>\n",
       "      <td>5</td>\n",
       "      <td>11</td>\n",
       "      <td>4</td>\n",
       "      <td>3</td>\n",
       "      <td>3</td>\n",
       "      <td>3</td>\n",
       "      <td>2</td>\n",
       "      <td>...</td>\n",
       "      <td>3</td>\n",
       "      <td>0</td>\n",
       "      <td>1</td>\n",
       "      <td>2</td>\n",
       "      <td>6</td>\n",
       "      <td>3</td>\n",
       "      <td>6</td>\n",
       "      <td>2</td>\n",
       "      <td>3</td>\n",
       "      <td>0</td>\n",
       "    </tr>\n",
       "  </tbody>\n",
       "</table>\n",
       "<p>92 rows × 92 columns</p>\n",
       "</div>"
      ],
      "text/plain": [
       "         amore  hanyul  hera  iope  laneige  mamonde  primera  sulhwasoo  가볍다  \\\n",
       "amore        0       0     0     0        0        0        0          0    5   \n",
       "hanyul       0       0     0     0        0        0        0          0   10   \n",
       "hera         0       0     0     0        0        0        0          0   27   \n",
       "iope         0       0     0     0        0        0        0          0    5   \n",
       "laneige      0       0     0     0        0        0        0          0   16   \n",
       "...        ...     ...   ...   ...      ...      ...      ...        ...  ...   \n",
       "해봤다          1       9    20     3        8       12        5          2   11   \n",
       "해주다          1      10    12     5       13        9        5          6    9   \n",
       "화사하다         0       1    17     0       13        1        0          6   12   \n",
       "화장품          1       7     4     3        3        9        4          3    3   \n",
       "확실하다         2       8     5     5       11        4        3          3    3   \n",
       "\n",
       "         간편하다  ...  파운데이션  패키지  편하다  필요하다  해보다  해봤다  해주다  화사하다  화장품  확실하다  \n",
       "amore       0  ...      0    0    1     1    0    1    1     0    1     2  \n",
       "hanyul      0  ...      1    6    5     5   16    9   10     1    7     8  \n",
       "hera        6  ...     10    9   11     3   22   20   12    17    4     5  \n",
       "iope        2  ...      1    0    5     1    6    3    5     0    3     5  \n",
       "laneige     2  ...     25    4   10     4   12    8   13    13    3    11  \n",
       "...       ...  ...    ...  ...  ...   ...  ...  ...  ...   ...  ...   ...  \n",
       "해봤다         3  ...      0    0    5     1   13    0    1     9    2     3  \n",
       "해주다         4  ...      4    1    1     0    6    1    0     1    2     6  \n",
       "화사하다        0  ...      8    0    1     2    2    9    1     0    2     2  \n",
       "화장품         0  ...      0    0    5     1    4    2    2     2    0     3  \n",
       "확실하다        2  ...      3    0    1     2    6    3    6     2    3     0  \n",
       "\n",
       "[92 rows x 92 columns]"
      ]
     },
     "execution_count": 106,
     "metadata": {},
     "output_type": "execute_result"
    }
   ],
   "source": [
    "cooc_mat"
   ]
  },
  {
   "cell_type": "code",
   "execution_count": 62,
   "metadata": {
    "ExecuteTime": {
     "end_time": "2021-10-29T05:46:12.621914Z",
     "start_time": "2021-10-29T05:46:12.617926Z"
    }
   },
   "outputs": [],
   "source": [
    "score3=dict(zip(brand,connectivity))"
   ]
  },
  {
   "cell_type": "markdown",
   "metadata": {},
   "source": [
    "### brand+big"
   ]
  },
  {
   "cell_type": "code",
   "execution_count": 63,
   "metadata": {
    "ExecuteTime": {
     "end_time": "2021-10-29T05:46:25.062081Z",
     "start_time": "2021-10-29T05:46:20.851030Z"
    }
   },
   "outputs": [
    {
     "name": "stdout",
     "output_type": "stream",
     "text": [
      "18.4 % 만큼의 단어 생존\n",
      "shape of coocurrence matrix : (181, 181)\n",
      "Constructing Graph took 0.0847468376159668 secs\n",
      "Calculating Connectivity took 3.9253315925598145 secs\n"
     ]
    }
   ],
   "source": [
    "# ['brand','brand+big','brand+big+prd']\n",
    "nva_topK_ = top_K_words(nva,list(set(df['brand'])),K=300,node='brand+big')\n",
    "cooc_mat_=get_coocmat(nva_topK_)\n",
    "connectivity_tmp_ = connectivity_from_cooc(cooc_mat_)\n",
    "\n",
    "\n",
    "tmp=[]\n",
    "for b in cooc_mat_.columns[cooc_mat_.columns.str.contains('cat')]:\n",
    "    tmp.append(connectivity_tmp_[b])\n",
    "connectivity_=tmp/max(np.array(tmp))\n",
    "\n",
    "score3_=dict(zip(cooc_mat_.columns[cooc_mat_.columns.str.contains('cat')],connectivity_))"
   ]
  },
  {
   "cell_type": "markdown",
   "metadata": {},
   "source": [
    "# 계산하기"
   ]
  },
  {
   "cell_type": "markdown",
   "metadata": {},
   "source": [
    "## brand"
   ]
  },
  {
   "cell_type": "code",
   "execution_count": 86,
   "metadata": {
    "ExecuteTime": {
     "end_time": "2021-10-29T06:50:37.411828Z",
     "start_time": "2021-10-29T06:50:37.357686Z"
    }
   },
   "outputs": [
    {
     "data": {
      "text/plain": [
       "brand\n",
       "amore        0.350334\n",
       "hanyul       1.000000\n",
       "hera         0.780329\n",
       "iope         0.456606\n",
       "laneige      0.512405\n",
       "mamonde      0.717716\n",
       "primera      0.735107\n",
       "sulhwasoo    0.425680\n",
       "Name: name, dtype: float64"
      ]
     },
     "execution_count": 86,
     "metadata": {},
     "output_type": "execute_result"
    }
   ],
   "source": [
    "temp=pd.DataFrame(score1).reset_index()\n",
    "temp['brand'] = temp['index'].apply(lambda x:x.split('#')[0])\n",
    "temp['weight']=df.groupby('name').count().iloc[:,0].values\n",
    "temp2=pd.DataFrame(temp.groupby('brand').sum()['weight']).reset_index()\n",
    "temp3=pd.merge(temp,temp2, how='left', left_on='brand', right_on='brand')\n",
    "temp3['weight']=temp3['weight_x']/temp3['weight_y']\n",
    "temp3['name']=temp3['name']*temp3['weight']\n",
    "temp4=temp3.groupby('brand').sum()['name']\n",
    "Score1=temp4/temp4.max()\n",
    "Score1"
   ]
  },
  {
   "cell_type": "code",
   "execution_count": 87,
   "metadata": {
    "ExecuteTime": {
     "end_time": "2021-10-29T06:51:25.085768Z",
     "start_time": "2021-10-29T06:51:25.056941Z"
    }
   },
   "outputs": [
    {
     "data": {
      "text/plain": [
       "brand\n",
       "amore        0.996875\n",
       "hanyul       0.966692\n",
       "hera         1.000000\n",
       "iope         0.991338\n",
       "laneige      0.970120\n",
       "mamonde      0.964541\n",
       "primera      0.990932\n",
       "sulhwasoo    0.988824\n",
       "Name: diversity, dtype: float64"
      ]
     },
     "execution_count": 87,
     "metadata": {},
     "output_type": "execute_result"
    }
   ],
   "source": [
    "temp=pd.DataFrame(score2).reset_index()\n",
    "temp['brand'] = temp['name'].apply(lambda x:x.split('#')[0])\n",
    "temp['weight']=df.groupby('name').count().iloc[:,0].values\n",
    "temp2=pd.DataFrame(temp.groupby('brand').sum()['weight']).reset_index()\n",
    "temp3=pd.merge(temp,temp2, how='left', left_on='brand', right_on='brand')\n",
    "temp3['weight']=temp3['weight_x']/temp3['weight_y']\n",
    "temp3['diversity']=temp3['diversity']*temp3['weight']\n",
    "temp4=temp3.groupby('brand').sum()['diversity']\n",
    "Score2=temp4/temp4.max()\n",
    "Score2"
   ]
  },
  {
   "cell_type": "code",
   "execution_count": 88,
   "metadata": {
    "ExecuteTime": {
     "end_time": "2021-10-29T06:51:31.782529Z",
     "start_time": "2021-10-29T06:51:31.773683Z"
    }
   },
   "outputs": [],
   "source": [
    "Score3=pd.Series(score3)"
   ]
  },
  {
   "cell_type": "code",
   "execution_count": 89,
   "metadata": {
    "ExecuteTime": {
     "end_time": "2021-10-29T06:51:32.093344Z",
     "start_time": "2021-10-29T06:51:32.079716Z"
    }
   },
   "outputs": [],
   "source": [
    "sbs=pd.concat([Score1,Score2,Score3],axis=1)\n",
    "sbs.columns=['P','D','C']"
   ]
  },
  {
   "cell_type": "code",
   "execution_count": 91,
   "metadata": {
    "ExecuteTime": {
     "end_time": "2021-10-29T06:51:37.940569Z",
     "start_time": "2021-10-29T06:51:37.931223Z"
    }
   },
   "outputs": [],
   "source": [
    "sbs.to_csv('sbs.csv')"
   ]
  },
  {
   "cell_type": "markdown",
   "metadata": {},
   "source": [
    "## brand + big"
   ]
  },
  {
   "cell_type": "code",
   "execution_count": 92,
   "metadata": {
    "ExecuteTime": {
     "end_time": "2021-10-29T06:51:49.798731Z",
     "start_time": "2021-10-29T06:51:49.761724Z"
    }
   },
   "outputs": [
    {
     "data": {
      "text/plain": [
       "brand\n",
       "amore#catA        0.207500\n",
       "amore#catB        0.160000\n",
       "hanyul#catA       0.592045\n",
       "hanyul#catB       0.100000\n",
       "hanyul#catC       0.600000\n",
       "hanyul#catE       0.416667\n",
       "hera#catA         0.335455\n",
       "hera#catB         0.455556\n",
       "hera#catC         0.651724\n",
       "hera#catD         0.189474\n",
       "iope#catA         0.260317\n",
       "iope#catB         0.100000\n",
       "iope#catE         1.000000\n",
       "laneige#catA      0.387179\n",
       "laneige#catB      0.191566\n",
       "laneige#catC      0.138462\n",
       "mamonde#catA      0.429412\n",
       "mamonde#catB      0.100000\n",
       "mamonde#catC      0.285714\n",
       "mamonde#catD      0.416667\n",
       "mamonde#catE      0.425000\n",
       "primera#catA      0.547945\n",
       "primera#catC      0.400000\n",
       "primera#catE      0.181081\n",
       "sulhwasoo#catA    0.260000\n",
       "sulhwasoo#catB    0.208696\n",
       "sulhwasoo#catE    0.100000\n",
       "Name: name, dtype: float64"
      ]
     },
     "execution_count": 92,
     "metadata": {},
     "output_type": "execute_result"
    }
   ],
   "source": [
    "temp=pd.DataFrame(score1).reset_index()\n",
    "temp['brand'] = temp['index'].apply(lambda x:'#'.join(x.split('#')[0:2]))\n",
    "temp['weight']=df.groupby('name').count().iloc[:,0].values\n",
    "temp2=pd.DataFrame(temp.groupby('brand').sum()['weight']).reset_index()\n",
    "temp3=pd.merge(temp,temp2, how='left', left_on='brand', right_on='brand')\n",
    "temp3['weight']=temp3['weight_x']/temp3['weight_y']\n",
    "temp3['name']=temp3['name']*temp3['weight']\n",
    "temp4=temp3.groupby('brand').sum()['name']\n",
    "Score1=temp4/temp4.max()\n",
    "Score1"
   ]
  },
  {
   "cell_type": "code",
   "execution_count": 93,
   "metadata": {
    "ExecuteTime": {
     "end_time": "2021-10-29T06:52:03.183842Z",
     "start_time": "2021-10-29T06:52:03.151820Z"
    }
   },
   "outputs": [
    {
     "data": {
      "text/plain": [
       "brand\n",
       "amore#catA        0.944338\n",
       "amore#catB        0.896933\n",
       "hanyul#catA       0.911677\n",
       "hanyul#catB       0.869506\n",
       "hanyul#catC       0.910380\n",
       "hanyul#catE       0.915820\n",
       "hera#catA         0.942241\n",
       "hera#catB         0.910128\n",
       "hera#catC         0.964946\n",
       "hera#catD         0.939852\n",
       "iope#catA         0.946009\n",
       "iope#catB         0.875544\n",
       "iope#catE         0.885270\n",
       "laneige#catA      0.933113\n",
       "laneige#catB      0.867928\n",
       "laneige#catC      0.960449\n",
       "mamonde#catA      0.905539\n",
       "mamonde#catB      0.869506\n",
       "mamonde#catC      0.966410\n",
       "mamonde#catD      0.910015\n",
       "mamonde#catE      0.921414\n",
       "primera#catA      0.934672\n",
       "primera#catC      0.985705\n",
       "primera#catE      0.924165\n",
       "sulhwasoo#catA    0.935502\n",
       "sulhwasoo#catB    0.904200\n",
       "sulhwasoo#catE    1.000000\n",
       "Name: diversity, dtype: float64"
      ]
     },
     "execution_count": 93,
     "metadata": {},
     "output_type": "execute_result"
    }
   ],
   "source": [
    "temp=pd.DataFrame(score2).reset_index()\n",
    "temp['brand'] = temp['name'].apply(lambda x:'#'.join(x.split('#')[0:2]))\n",
    "temp['weight']=df.groupby('name').count().iloc[:,0].values\n",
    "temp2=pd.DataFrame(temp.groupby('brand').sum()['weight']).reset_index()\n",
    "temp3=pd.merge(temp,temp2, how='left', left_on='brand', right_on='brand')\n",
    "temp3['weight']=temp3['weight_x']/temp3['weight_y']\n",
    "temp3['diversity']=temp3['diversity']*temp3['weight']\n",
    "temp4=temp3.groupby('brand').sum()['diversity']\n",
    "Score2=temp4/temp4.max()\n",
    "Score2"
   ]
  },
  {
   "cell_type": "code",
   "execution_count": null,
   "metadata": {},
   "outputs": [],
   "source": []
  },
  {
   "cell_type": "code",
   "execution_count": 94,
   "metadata": {
    "ExecuteTime": {
     "end_time": "2021-10-29T06:52:06.419003Z",
     "start_time": "2021-10-29T06:52:06.401525Z"
    }
   },
   "outputs": [],
   "source": [
    "Score3=pd.Series(score3_)\n",
    "Score3=Score3.sort_index(ascending=True)"
   ]
  },
  {
   "cell_type": "code",
   "execution_count": 95,
   "metadata": {
    "ExecuteTime": {
     "end_time": "2021-10-29T06:52:07.320159Z",
     "start_time": "2021-10-29T06:52:07.311961Z"
    }
   },
   "outputs": [],
   "source": [
    "sbs2=pd.concat([Score1,Score2,Score3],axis=1)\n",
    "sbs2.columns=['P','D','C']"
   ]
  },
  {
   "cell_type": "code",
   "execution_count": 97,
   "metadata": {
    "ExecuteTime": {
     "end_time": "2021-10-29T06:52:19.209115Z",
     "start_time": "2021-10-29T06:52:19.189572Z"
    }
   },
   "outputs": [],
   "source": [
    "sbs2.to_csv('sbs2.csv')"
   ]
  },
  {
   "cell_type": "code",
   "execution_count": null,
   "metadata": {},
   "outputs": [],
   "source": []
  }
 ],
 "metadata": {
  "hide_input": false,
  "kernelspec": {
   "display_name": "Python 3 (ipykernel)",
   "language": "python",
   "name": "python3"
  },
  "language_info": {
   "codemirror_mode": {
    "name": "ipython",
    "version": 3
   },
   "file_extension": ".py",
   "mimetype": "text/x-python",
   "name": "python",
   "nbconvert_exporter": "python",
   "pygments_lexer": "ipython3",
   "version": "3.8.3"
  },
  "toc": {
   "base_numbering": 1,
   "nav_menu": {},
   "number_sections": true,
   "sideBar": true,
   "skip_h1_title": false,
   "title_cell": "Table of Contents",
   "title_sidebar": "Contents",
   "toc_cell": false,
   "toc_position": {},
   "toc_section_display": true,
   "toc_window_display": true
  },
  "varInspector": {
   "cols": {
    "lenName": 16,
    "lenType": 16,
    "lenVar": 40
   },
   "kernels_config": {
    "python": {
     "delete_cmd_postfix": "",
     "delete_cmd_prefix": "del ",
     "library": "var_list.py",
     "varRefreshCmd": "print(var_dic_list())"
    },
    "r": {
     "delete_cmd_postfix": ") ",
     "delete_cmd_prefix": "rm(",
     "library": "var_list.r",
     "varRefreshCmd": "cat(var_dic_list()) "
    }
   },
   "types_to_exclude": [
    "module",
    "function",
    "builtin_function_or_method",
    "instance",
    "_Feature"
   ],
   "window_display": false
  }
 },
 "nbformat": 4,
 "nbformat_minor": 4
}
