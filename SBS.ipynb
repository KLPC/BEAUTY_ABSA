{
 "cells": [
  {
   "cell_type": "markdown",
   "metadata": {},
   "source": [
    "# Import Data & Packages"
   ]
  },
  {
   "cell_type": "code",
   "execution_count": 1,
   "metadata": {
    "ExecuteTime": {
     "end_time": "2021-10-28T03:40:40.526388Z",
     "start_time": "2021-10-28T03:40:37.390271Z"
    }
   },
   "outputs": [],
   "source": [
    "import pandas as pd\n",
    "import numpy as np\n",
    "import datetime\n",
    "from ast import literal_eval\n",
    "import konlpy\n",
    "from collections import Counter\n",
    "import time\n",
    "import networkx as nx\n",
    "import matplotlib.pyplot as plt"
   ]
  },
  {
   "cell_type": "code",
   "execution_count": 2,
   "metadata": {
    "ExecuteTime": {
     "end_time": "2021-10-28T03:40:59.676649Z",
     "start_time": "2021-10-28T03:40:40.528370Z"
    }
   },
   "outputs": [
    {
     "name": "stdout",
     "output_type": "stream",
     "text": [
      "(50183, 50)\n"
     ]
    }
   ],
   "source": [
    "df_whole=pd.read_json('amore_data_detected_bert.json')\n",
    "df_whole['review_split_string']=df_whole['review_split'].copy()\n",
    "df_whole['review_split']=df_whole['review_split_string'].apply(literal_eval)\n",
    "print(df_whole.shape)"
   ]
  },
  {
   "cell_type": "code",
   "execution_count": 4,
   "metadata": {
    "ExecuteTime": {
     "end_time": "2021-10-28T03:41:40.662077Z",
     "start_time": "2021-10-28T03:41:40.654074Z"
    }
   },
   "outputs": [],
   "source": [
    "df_whole['name']=df_whole[['brand','big_category','prod_nm']].agg('#'.join, axis=1)\n",
    "df_whole['name_sub']=df_whole[['brand','big_category']].agg('#'.join, axis=1)"
   ]
  },
  {
   "cell_type": "code",
   "execution_count": 5,
   "metadata": {
    "ExecuteTime": {
     "end_time": "2021-10-28T03:41:43.695997Z",
     "start_time": "2021-10-28T03:41:43.673000Z"
    }
   },
   "outputs": [
    {
     "data": {
      "text/html": [
       "<div>\n",
       "<style scoped>\n",
       "    .dataframe tbody tr th:only-of-type {\n",
       "        vertical-align: middle;\n",
       "    }\n",
       "\n",
       "    .dataframe tbody tr th {\n",
       "        vertical-align: top;\n",
       "    }\n",
       "\n",
       "    .dataframe thead th {\n",
       "        text-align: right;\n",
       "    }\n",
       "</style>\n",
       "<table border=\"1\" class=\"dataframe\">\n",
       "  <thead>\n",
       "    <tr style=\"text-align: right;\">\n",
       "      <th></th>\n",
       "      <th>A용량</th>\n",
       "      <th>A민감성</th>\n",
       "      <th>A향기</th>\n",
       "      <th>A커버력</th>\n",
       "      <th>A지속력</th>\n",
       "      <th>A피부톤</th>\n",
       "      <th>A보습감</th>\n",
       "      <th>A향</th>\n",
       "      <th>A사용감</th>\n",
       "      <th>A발림성</th>\n",
       "      <th>...</th>\n",
       "      <th>트러블</th>\n",
       "      <th>표현력</th>\n",
       "      <th>품질</th>\n",
       "      <th>향기</th>\n",
       "      <th>효과</th>\n",
       "      <th>휴대성</th>\n",
       "      <th>mask</th>\n",
       "      <th>review_split_string</th>\n",
       "      <th>name</th>\n",
       "      <th>name_sub</th>\n",
       "    </tr>\n",
       "  </thead>\n",
       "  <tbody>\n",
       "    <tr>\n",
       "      <th>0</th>\n",
       "      <td>0</td>\n",
       "      <td>0</td>\n",
       "      <td>1</td>\n",
       "      <td>0</td>\n",
       "      <td>0</td>\n",
       "      <td>0</td>\n",
       "      <td>0</td>\n",
       "      <td>0</td>\n",
       "      <td>0</td>\n",
       "      <td>0</td>\n",
       "      <td>...</td>\n",
       "      <td>0</td>\n",
       "      <td>0</td>\n",
       "      <td>0</td>\n",
       "      <td>1</td>\n",
       "      <td>0</td>\n",
       "      <td>0</td>\n",
       "      <td>[True, False, False]</td>\n",
       "      <td>['바디워시 쓰고 반해서 핸드워시도 사게 됬어요', '바디워시와 같은향이라 그런지 ...</td>\n",
       "      <td>sulhwasoo#catE#핸드워시 백은향 300ml</td>\n",
       "      <td>sulhwasoo#catE</td>\n",
       "    </tr>\n",
       "    <tr>\n",
       "      <th>1</th>\n",
       "      <td>1</td>\n",
       "      <td>1</td>\n",
       "      <td>1</td>\n",
       "      <td>0</td>\n",
       "      <td>0</td>\n",
       "      <td>0</td>\n",
       "      <td>0</td>\n",
       "      <td>0</td>\n",
       "      <td>0</td>\n",
       "      <td>0</td>\n",
       "      <td>...</td>\n",
       "      <td>0</td>\n",
       "      <td>0</td>\n",
       "      <td>0</td>\n",
       "      <td>1</td>\n",
       "      <td>0</td>\n",
       "      <td>0</td>\n",
       "      <td>[True, False, False]</td>\n",
       "      <td>['선물하기에 너무 좋아용 사실 내돈주고 사기엔 아깝구 선물 받은 좋은 아이템 ㅎㅎ...</td>\n",
       "      <td>sulhwasoo#catE#핸드워시 백은향 300ml</td>\n",
       "      <td>sulhwasoo#catE</td>\n",
       "    </tr>\n",
       "  </tbody>\n",
       "</table>\n",
       "<p>2 rows × 52 columns</p>\n",
       "</div>"
      ],
      "text/plain": [
       "   A용량  A민감성  A향기  A커버력  A지속력  A피부톤  A보습감  A향  A사용감  A발림성  ...  트러블  표현력  품질  \\\n",
       "0    0     0    1     0     0     0     0   0     0     0  ...    0    0   0   \n",
       "1    1     1    1     0     0     0     0   0     0     0  ...    0    0   0   \n",
       "\n",
       "   향기  효과  휴대성                  mask  \\\n",
       "0   1   0    0  [True, False, False]   \n",
       "1   1   0    0  [True, False, False]   \n",
       "\n",
       "                                 review_split_string  \\\n",
       "0  ['바디워시 쓰고 반해서 핸드워시도 사게 됬어요', '바디워시와 같은향이라 그런지 ...   \n",
       "1  ['선물하기에 너무 좋아용 사실 내돈주고 사기엔 아깝구 선물 받은 좋은 아이템 ㅎㅎ...   \n",
       "\n",
       "                            name        name_sub  \n",
       "0  sulhwasoo#catE#핸드워시 백은향 300ml  sulhwasoo#catE  \n",
       "1  sulhwasoo#catE#핸드워시 백은향 300ml  sulhwasoo#catE  \n",
       "\n",
       "[2 rows x 52 columns]"
      ]
     },
     "execution_count": 5,
     "metadata": {},
     "output_type": "execute_result"
    }
   ],
   "source": [
    "df_whole.head(2)"
   ]
  },
  {
   "cell_type": "markdown",
   "metadata": {},
   "source": [
    "# Functions"
   ]
  },
  {
   "cell_type": "code",
   "execution_count": 6,
   "metadata": {
    "ExecuteTime": {
     "end_time": "2021-10-28T03:41:44.104423Z",
     "start_time": "2021-10-28T03:41:44.076158Z"
    }
   },
   "outputs": [],
   "source": [
    "def S1_number_func(x):\n",
    "    return(sum([len(x[i].split(' ')) for i in range(len(x))]))\n",
    "\n",
    "def S1_duplicate_func(x):\n",
    "    return(len(set(x))/len(x))\n",
    "    \n",
    "def NVA(x):    \n",
    "    total_words=[]\n",
    "    for i, document in enumerate(list(set(x))):\n",
    "        okt = konlpy.tag.Okt()\n",
    "        clean_words = []\n",
    "        for word in okt.pos(document, stem=True): \n",
    "            if word[1] in ['Noun', 'Verb', 'Adjective']: \n",
    "                clean_words.append(word[0])\n",
    "        total_words.append(clean_words)\n",
    "    result = []\n",
    "    for x in total_words:\n",
    "        result.extend(x)\n",
    "    return result\n",
    "\n",
    "\n",
    "def S1_diversity_func(NVA):  \n",
    "    return(len(set(NVA))/len(NVA))\n",
    "    \n",
    "\n",
    "\n",
    "def s1_recency_func(x,date):\n",
    "    return((date-x.date()).days)\n",
    "\n",
    "def S1_recency_func(x,max_date,window):\n",
    "    \"\"\"\n",
    "    max=50 ( 50,49,,...1 )\n",
    "    ----------------------------------------\n",
    "    50,49,48,47,46 .... (max-0)~(max-window+1)\n",
    "    49,48,47,46,45 .... (max-1)~(max-window+0)\n",
    "    48,47,46,45,44 .... (max-2)~(max-window-1)\n",
    "    ...\n",
    "    5,4,3,2,1 ...,,,,,,. (max-45)~(max-window-44)\n",
    "    ----------------------------------------\n",
    "    max-45가 window가 될 때 까지\n",
    "    \"\"\"\n",
    "    lower = max_date\n",
    "    upper = max_date-window+1\n",
    "    lower_sign=(x<=lower)\n",
    "    upper_sign=(x>=upper)\n",
    "    sign=lower_sign*upper_sign\n",
    "    return sign\n",
    "\n",
    "def s1_recency_list_func(prod_nm):\n",
    "    tmp=S1_recency[S1_recency['prod_nm']==prod_nm]\n",
    "    MA_list=[]\n",
    "    for i in date_range:\n",
    "        window_count = len(tmp['s1_recency'][tmp['s1_recency'].apply((lambda x: S1_recency_func(x,max_date-i,recency_window)))>0])\n",
    "        window_count_mean = window_count/recency_window\n",
    "        MA_list.append(window_count_mean)\n",
    "    return MA_list"
   ]
  },
  {
   "cell_type": "markdown",
   "metadata": {},
   "source": [
    "# SBS"
   ]
  },
  {
   "cell_type": "markdown",
   "metadata": {},
   "source": [
    "각 요소는 0~1사이 값을 가지도록 구성한다"
   ]
  },
  {
   "cell_type": "markdown",
   "metadata": {},
   "source": [
    "## 날짜 범위 설정"
   ]
  },
  {
   "cell_type": "markdown",
   "metadata": {},
   "source": [
    "- 점수 계산 날짜 : (x)일\n",
    "- 점수 계산 대상 날짜 : (x-14)일~ (x)일"
   ]
  },
  {
   "cell_type": "code",
   "execution_count": 7,
   "metadata": {
    "ExecuteTime": {
     "end_time": "2021-10-28T03:41:46.237004Z",
     "start_time": "2021-10-28T03:41:46.232003Z"
    }
   },
   "outputs": [],
   "source": [
    "def get_current_Kdays(df,current_Y,current_M,current_D,K=14):\n",
    "    eval_date = datetime.date(current_Y,current_M,current_D)\n",
    "    df['recency']=df['date'].apply((lambda x: s1_recency_func(x,eval_date)))\n",
    "    return df[df['recency']<K]"
   ]
  },
  {
   "cell_type": "code",
   "execution_count": 8,
   "metadata": {
    "ExecuteTime": {
     "end_time": "2021-10-28T03:41:47.012528Z",
     "start_time": "2021-10-28T03:41:46.789522Z"
    }
   },
   "outputs": [],
   "source": [
    "df = get_current_Kdays(df_whole,2021,7,31,K=14)"
   ]
  },
  {
   "cell_type": "code",
   "execution_count": 9,
   "metadata": {
    "ExecuteTime": {
     "end_time": "2021-10-28T03:41:47.786538Z",
     "start_time": "2021-10-28T03:41:47.775536Z"
    }
   },
   "outputs": [
    {
     "data": {
      "text/plain": [
       "(1036, 53)"
      ]
     },
     "execution_count": 9,
     "metadata": {},
     "output_type": "execute_result"
    }
   ],
   "source": [
    "df.shape"
   ]
  },
  {
   "cell_type": "code",
   "execution_count": 10,
   "metadata": {
    "ExecuteTime": {
     "end_time": "2021-10-28T03:41:49.920959Z",
     "start_time": "2021-10-28T03:41:49.902823Z"
    }
   },
   "outputs": [],
   "source": [
    "brand=list(set(df['brand']))\n",
    "prod_name=list(set(df['name']))\n",
    "prod_name_sub=list(set(df['name_sub']))"
   ]
  },
  {
   "cell_type": "markdown",
   "metadata": {},
   "source": [
    "## (score 1) Prevalence"
   ]
  },
  {
   "cell_type": "code",
   "execution_count": 11,
   "metadata": {
    "ExecuteTime": {
     "end_time": "2021-10-28T03:41:51.054154Z",
     "start_time": "2021-10-28T03:41:51.001503Z"
    }
   },
   "outputs": [],
   "source": [
    "score1 = df['name'].value_counts()\n",
    "score1 = score1/score1.max()"
   ]
  },
  {
   "cell_type": "code",
   "execution_count": 12,
   "metadata": {
    "ExecuteTime": {
     "end_time": "2021-10-28T03:41:52.226371Z",
     "start_time": "2021-10-28T03:41:51.920142Z"
    }
   },
   "outputs": [
    {
     "data": {
      "text/plain": [
       "<matplotlib.axes._subplots.AxesSubplot at 0x1af958be5e0>"
      ]
     },
     "execution_count": 12,
     "metadata": {},
     "output_type": "execute_result"
    },
    {
     "data": {
      "image/png": "[encoded data removed]",
      "text/plain": [
       "<Figure size 432x288 with 1 Axes>"
      ]
     },
     "metadata": {
      "needs_background": "light"
     },
     "output_type": "display_data"
    }
   ],
   "source": [
    "score1.plot(kind='hist',bins=100,title='[score 1] Prevalence')"
   ]
  },
  {
   "cell_type": "markdown",
   "metadata": {},
   "source": [
    "## (score 2) Diversity"
   ]
  },
  {
   "cell_type": "markdown",
   "metadata": {},
   "source": [
    "- nva : Noun + Verb + Adjective\n",
    "- 소요 시간 : **0.04초/1개 리뷰**"
   ]
  },
  {
   "cell_type": "code",
   "execution_count": 13,
   "metadata": {
    "ExecuteTime": {
     "end_time": "2021-10-28T03:42:31.707453Z",
     "start_time": "2021-10-28T03:41:53.193502Z"
    }
   },
   "outputs": [],
   "source": [
    "nva=df['review_split'].apply(NVA)"
   ]
  },
  {
   "cell_type": "code",
   "execution_count": 14,
   "metadata": {
    "ExecuteTime": {
     "end_time": "2021-10-28T03:42:32.118975Z",
     "start_time": "2021-10-28T03:42:32.090969Z"
    }
   },
   "outputs": [
    {
     "name": "stderr",
     "output_type": "stream",
     "text": [
      "<ipython-input-14-0a59c65ad644>:1: SettingWithCopyWarning: \n",
      "A value is trying to be set on a copy of a slice from a DataFrame.\n",
      "Try using .loc[row_indexer,col_indexer] = value instead\n",
      "\n",
      "See the caveats in the documentation: https://pandas.pydata.org/pandas-docs/stable/user_guide/indexing.html#returning-a-view-versus-a-copy\n",
      "  df['diversity'] = nva.apply(S1_diversity_func)\n"
     ]
    }
   ],
   "source": [
    "df['diversity'] = nva.apply(S1_diversity_func)"
   ]
  },
  {
   "cell_type": "code",
   "execution_count": 15,
   "metadata": {
    "ExecuteTime": {
     "end_time": "2021-10-28T03:42:32.512255Z",
     "start_time": "2021-10-28T03:42:32.499127Z"
    }
   },
   "outputs": [],
   "source": [
    "score2=df.groupby('name').mean()['diversity']"
   ]
  },
  {
   "cell_type": "code",
   "execution_count": 16,
   "metadata": {
    "ExecuteTime": {
     "end_time": "2021-10-28T03:42:33.129108Z",
     "start_time": "2021-10-28T03:42:32.886110Z"
    }
   },
   "outputs": [
    {
     "data": {
      "text/plain": [
       "<matplotlib.axes._subplots.AxesSubplot at 0x1af96e07c40>"
      ]
     },
     "execution_count": 16,
     "metadata": {},
     "output_type": "execute_result"
    },
    {
     "data": {
      "image/png": "[encoded data removed]",
      "text/plain": [
       "<Figure size 432x288 with 1 Axes>"
      ]
     },
     "metadata": {
      "needs_background": "light"
     },
     "output_type": "display_data"
    }
   ],
   "source": [
    "score2.plot(kind='hist',bins=100,title='[score 2] Diversity')"
   ]
  },
  {
   "cell_type": "markdown",
   "metadata": {},
   "source": [
    "## (score 3) Connectivity"
   ]
  },
  {
   "cell_type": "markdown",
   "metadata": {},
   "source": [
    "- connectivity의 network 구성에는 너무 많은 연산량이 소요된다.\n",
    "- 많이 등장한 top K word만을 대상으로 네트워크를 구성한다\n",
    "- (주의) 제품명 텍스트 (prod_name)은 반드시 포함해야!\n",
    "- 모든 \"review text\"앞에 \"브랜드#대제품군#제품명\" 붙이기"
   ]
  },
  {
   "cell_type": "code",
   "execution_count": 17,
   "metadata": {
    "ExecuteTime": {
     "end_time": "2021-10-28T03:42:33.523659Z",
     "start_time": "2021-10-28T03:42:33.511650Z"
    }
   },
   "outputs": [],
   "source": [
    "def top_K_words(nva,prod_name_sub,K,thres=10,node='brand'):\n",
    "    \n",
    "    assert node in ['brand','brand+big','brand+big+prd']\n",
    "    top_K=[]\n",
    "    \n",
    "    if node=='brand':\n",
    "        tmp=list(df['brand'])\n",
    "        top_K.extend(list(set(df['brand'])))\n",
    "    elif node=='brand+big':\n",
    "        tmp=list(df['name_sub'])\n",
    "        top_K.extend(list(set(df['name_sub'])))\n",
    "    else:\n",
    "        tmp=list(df['name'])\n",
    "        top_K.extend(list(set(df['name'])))\n",
    "    \n",
    "    nva_list=list(nva)\n",
    "    for i in range(len(nva_list)):\n",
    "        nva_list[i]=[tmp[i]]+nva_list[i]\n",
    "\n",
    "    concat_list = np.concatenate(nva_list)\n",
    "\n",
    "        \n",
    "    cnt = Counter(concat_list)\n",
    "    list_sorted = sorted(list(cnt.items()), key=lambda x: [-x[1], x[0]])\n",
    "    \n",
    "    nva_topK = []\n",
    "    \n",
    "    for i in range(2*K): \n",
    "        top_K.append(list_sorted[i][0])\n",
    "    top_K = top_K[thres:K+thres]\n",
    "    top_K = [word for word in top_K if len(word)>1]\n",
    "    \n",
    "    for idx in range(len(nva.index)):\n",
    "        nva_topK.append([word for word in nva_list[idx] if word in top_K])\n",
    "\n",
    "    before=len(np.concatenate(nva.values))\n",
    "    after=len(np.concatenate(nva_topK))\n",
    "    print(np.round(after/before,3)*100,'% 만큼의 단어 생존')\n",
    "    \n",
    "    return nva_topK"
   ]
  },
  {
   "cell_type": "code",
   "execution_count": 18,
   "metadata": {
    "ExecuteTime": {
     "end_time": "2021-10-28T03:42:33.912649Z",
     "start_time": "2021-10-28T03:42:33.899590Z"
    }
   },
   "outputs": [],
   "source": [
    "def get_coocmat(nva_topK):\n",
    "    u = (pd.get_dummies(pd.DataFrame(nva_topK), prefix='', prefix_sep='')\n",
    "       .groupby(level=0, axis=1)\n",
    "       .sum())\n",
    "\n",
    "    cooc_mat = u.T.dot(u)\n",
    "    cooc_mat.values[(np.r_[:len(cooc_mat)], ) * 2] = 0\n",
    "    return cooc_mat\n",
    "    "
   ]
  },
  {
   "cell_type": "code",
   "execution_count": 19,
   "metadata": {
    "ExecuteTime": {
     "end_time": "2021-10-28T03:42:34.300755Z",
     "start_time": "2021-10-28T03:42:34.286751Z"
    }
   },
   "outputs": [],
   "source": [
    "def connectivity_from_cooc(coocurence_mat):\n",
    "    cooc_mat = coocurence_mat.copy()\n",
    "    print('shape of coocurrence matrix :',cooc_mat.shape)\n",
    "    time1 = time.time()\n",
    "    conn = cooc_mat.stack()\n",
    "    conn=conn.rename_axis(('source','target')).reset_index(name='weight')\n",
    "    G = nx.from_pandas_edgelist(conn,edge_attr=True)\n",
    "    time2 = time.time()\n",
    "    print('Constructing Graph took {} secs'.format(time2-time1))\n",
    "    for u,v,data in G.edges(data=True):\n",
    "        if 'weight' in data and data['weight']!=0:\n",
    "            data['inverse']=1/data['weight']\n",
    "        else:\n",
    "            data['inverse']=1\n",
    "    connectivity = nx.betweenness_centrality(G,normalized=False,weight='inverse',endpoints =True)\n",
    "    time3 = time.time()\n",
    "    print('Calculating Connectivity took {} secs'.format(time3-time2))\n",
    "    return connectivity"
   ]
  },
  {
   "cell_type": "markdown",
   "metadata": {},
   "source": [
    "### brand"
   ]
  },
  {
   "cell_type": "code",
   "execution_count": 20,
   "metadata": {
    "ExecuteTime": {
     "end_time": "2021-10-28T03:42:45.450615Z",
     "start_time": "2021-10-28T03:42:34.693745Z"
    }
   },
   "outputs": [
    {
     "name": "stdout",
     "output_type": "stream",
     "text": [
      "45.6 % 만큼의 단어 생존\n",
      "shape of coocurrence matrix : (237, 237)\n",
      "Constructing Graph took 0.17203974723815918 secs\n",
      "Calculating Connectivity took 10.222535848617554 secs\n"
     ]
    }
   ],
   "source": [
    "# ['brand','brand+big','brand+big+prd']\n",
    "nva_topK = top_K_words(nva,list(set(df['brand'])),K=300,thres=15,node='brand')\n",
    "cooc_mat=get_coocmat(nva_topK)\n",
    "connectivity_tmp = connectivity_from_cooc(cooc_mat)\n",
    "\n",
    "tmp=[]\n",
    "for b in brand:\n",
    "    tmp.append(connectivity_tmp[b])\n",
    "connectivity=tmp/max(np.array(tmp))\n",
    "\n",
    "score3=dict(zip(brand,connectivity))"
   ]
  },
  {
   "cell_type": "code",
   "execution_count": 81,
   "metadata": {
    "ExecuteTime": {
     "end_time": "2021-10-28T03:54:33.824174Z",
     "start_time": "2021-10-28T03:54:33.814159Z"
    }
   },
   "outputs": [],
   "source": [
    "score3=dict(zip(brand,connectivity))"
   ]
  },
  {
   "cell_type": "markdown",
   "metadata": {},
   "source": [
    "### brand+big"
   ]
  },
  {
   "cell_type": "code",
   "execution_count": 106,
   "metadata": {
    "ExecuteTime": {
     "end_time": "2021-10-28T03:58:42.233475Z",
     "start_time": "2021-10-28T03:58:42.216930Z"
    }
   },
   "outputs": [],
   "source": [
    "# ['brand','brand+big','brand+big+prd']\n",
    "nva_topK_ = top_K_words(nva,list(set(df['brand'])),K=300,thres=15,node='brand+big')\n",
    "cooc_mat_=get_coocmat(nva_topK_)\n",
    "connectivity_tmp_ = connectivity_from_cooc(cooc_mat_)\n",
    "\n",
    "\n",
    "tmp=[]\n",
    "for b in cooc_mat_.columns[cooc_mat_.columns.str.contains('cat')]:\n",
    "    print(b)\n",
    "    tmp.append(connectivity_tmp_[b])\n",
    "connectivity_=tmp/max(np.array(tmp))\n",
    "\n",
    "score3_=dict(zip(cooc_mat_.columns[cooc_mat_.columns.str.contains('cat')],connectivity_))"
   ]
  },
  {
   "cell_type": "markdown",
   "metadata": {},
   "source": [
    "# 계산하기"
   ]
  },
  {
   "cell_type": "code",
   "execution_count": 55,
   "metadata": {
    "ExecuteTime": {
     "end_time": "2021-10-28T03:48:07.525723Z",
     "start_time": "2021-10-28T03:48:07.516721Z"
    }
   },
   "outputs": [],
   "source": [
    "temp=pd.DataFrame(score1).reset_index()\n",
    "temp['brand'] = temp['index'].apply(lambda x:x.split('#')[0])\n",
    "temp=temp.groupby('brand').mean()['name']\n",
    "Score1=temp/temp.max()"
   ]
  },
  {
   "cell_type": "code",
   "execution_count": 63,
   "metadata": {
    "ExecuteTime": {
     "end_time": "2021-10-28T03:48:49.589636Z",
     "start_time": "2021-10-28T03:48:49.577378Z"
    }
   },
   "outputs": [],
   "source": [
    "temp=pd.DataFrame(score2).reset_index()\n",
    "temp['brand'] = temp['name'].apply(lambda x:x.split('#')[0])\n",
    "temp=temp.groupby('brand').mean()['diversity']\n",
    "Score2=temp/temp.max()"
   ]
  },
  {
   "cell_type": "markdown",
   "metadata": {},
   "source": [
    "(brand)"
   ]
  },
  {
   "cell_type": "code",
   "execution_count": 67,
   "metadata": {
    "ExecuteTime": {
     "end_time": "2021-10-28T03:49:35.759562Z",
     "start_time": "2021-10-28T03:49:35.745469Z"
    }
   },
   "outputs": [],
   "source": [
    "Score3=pd.Series(score3)"
   ]
  },
  {
   "cell_type": "markdown",
   "metadata": {},
   "source": [
    "(brand+big)"
   ]
  },
  {
   "cell_type": "code",
   "execution_count": 117,
   "metadata": {
    "ExecuteTime": {
     "end_time": "2021-10-28T04:00:47.262072Z",
     "start_time": "2021-10-28T04:00:47.242068Z"
    }
   },
   "outputs": [],
   "source": [
    "temp=pd.DataFrame(pd.Series(score3_)).reset_index()\n",
    "temp['brand'] = temp['index'].apply(lambda x:x.split('#')[0])\n",
    "temp=temp.groupby('brand').mean()[0]\n",
    "Score3_=temp/temp.max()"
   ]
  },
  {
   "cell_type": "code",
   "execution_count": 78,
   "metadata": {
    "ExecuteTime": {
     "end_time": "2021-10-28T03:51:02.299308Z",
     "start_time": "2021-10-28T03:51:02.290142Z"
    }
   },
   "outputs": [],
   "source": [
    "sbs=pd.concat([Score1,Score2,Score3],axis=1)\n",
    "sbs.columns=['P','D','C']"
   ]
  },
  {
   "cell_type": "code",
   "execution_count": 80,
   "metadata": {
    "ExecuteTime": {
     "end_time": "2021-10-28T03:53:19.379995Z",
     "start_time": "2021-10-28T03:53:19.368987Z"
    }
   },
   "outputs": [],
   "source": [
    "sbs.to_csv('sbs.csv')"
   ]
  },
  {
   "cell_type": "code",
   "execution_count": 118,
   "metadata": {
    "ExecuteTime": {
     "end_time": "2021-10-28T04:01:01.956298Z",
     "start_time": "2021-10-28T04:01:01.946715Z"
    }
   },
   "outputs": [],
   "source": [
    "sbs2=pd.concat([Score1,Score2,Score3_],axis=1)\n",
    "sbs2.columns=['P','D','C']"
   ]
  },
  {
   "cell_type": "code",
   "execution_count": 119,
   "metadata": {
    "ExecuteTime": {
     "end_time": "2021-10-28T04:01:02.584520Z",
     "start_time": "2021-10-28T04:01:02.571339Z"
    }
   },
   "outputs": [
    {
     "data": {
      "text/html": [
       "<div>\n",
       "<style scoped>\n",
       "    .dataframe tbody tr th:only-of-type {\n",
       "        vertical-align: middle;\n",
       "    }\n",
       "\n",
       "    .dataframe tbody tr th {\n",
       "        vertical-align: top;\n",
       "    }\n",
       "\n",
       "    .dataframe thead th {\n",
       "        text-align: right;\n",
       "    }\n",
       "</style>\n",
       "<table border=\"1\" class=\"dataframe\">\n",
       "  <thead>\n",
       "    <tr style=\"text-align: right;\">\n",
       "      <th></th>\n",
       "      <th>P</th>\n",
       "      <th>D</th>\n",
       "      <th>C</th>\n",
       "    </tr>\n",
       "    <tr>\n",
       "      <th>brand</th>\n",
       "      <th></th>\n",
       "      <th></th>\n",
       "      <th></th>\n",
       "    </tr>\n",
       "  </thead>\n",
       "  <tbody>\n",
       "    <tr>\n",
       "      <th>amore</th>\n",
       "      <td>0.344828</td>\n",
       "      <td>0.996264</td>\n",
       "      <td>1.0</td>\n",
       "    </tr>\n",
       "    <tr>\n",
       "      <th>hanyul</th>\n",
       "      <td>1.000000</td>\n",
       "      <td>0.987102</td>\n",
       "      <td>1.0</td>\n",
       "    </tr>\n",
       "    <tr>\n",
       "      <th>hera</th>\n",
       "      <td>0.931034</td>\n",
       "      <td>0.991438</td>\n",
       "      <td>1.0</td>\n",
       "    </tr>\n",
       "    <tr>\n",
       "      <th>iope</th>\n",
       "      <td>0.383760</td>\n",
       "      <td>0.992028</td>\n",
       "      <td>1.0</td>\n",
       "    </tr>\n",
       "    <tr>\n",
       "      <th>laneige</th>\n",
       "      <td>0.733990</td>\n",
       "      <td>0.964180</td>\n",
       "      <td>1.0</td>\n",
       "    </tr>\n",
       "    <tr>\n",
       "      <th>mamonde</th>\n",
       "      <td>0.756396</td>\n",
       "      <td>0.983494</td>\n",
       "      <td>1.0</td>\n",
       "    </tr>\n",
       "    <tr>\n",
       "      <th>primera</th>\n",
       "      <td>0.820452</td>\n",
       "      <td>0.980345</td>\n",
       "      <td>1.0</td>\n",
       "    </tr>\n",
       "    <tr>\n",
       "      <th>sulhwasoo</th>\n",
       "      <td>0.541023</td>\n",
       "      <td>1.000000</td>\n",
       "      <td>1.0</td>\n",
       "    </tr>\n",
       "  </tbody>\n",
       "</table>\n",
       "</div>"
      ],
      "text/plain": [
       "                  P         D    C\n",
       "brand                             \n",
       "amore      0.344828  0.996264  1.0\n",
       "hanyul     1.000000  0.987102  1.0\n",
       "hera       0.931034  0.991438  1.0\n",
       "iope       0.383760  0.992028  1.0\n",
       "laneige    0.733990  0.964180  1.0\n",
       "mamonde    0.756396  0.983494  1.0\n",
       "primera    0.820452  0.980345  1.0\n",
       "sulhwasoo  0.541023  1.000000  1.0"
      ]
     },
     "execution_count": 119,
     "metadata": {},
     "output_type": "execute_result"
    }
   ],
   "source": [
    "sbs2"
   ]
  },
  {
   "cell_type": "code",
   "execution_count": 120,
   "metadata": {
    "ExecuteTime": {
     "end_time": "2021-10-28T04:01:09.438870Z",
     "start_time": "2021-10-28T04:01:09.427869Z"
    }
   },
   "outputs": [],
   "source": [
    "sbs2.to_csv('sbs2.csv')"
   ]
  },
  {
   "cell_type": "code",
   "execution_count": null,
   "metadata": {},
   "outputs": [],
   "source": []
  }
 ],
 "metadata": {
  "hide_input": false,
  "kernelspec": {
   "display_name": "Python 3",
   "language": "python",
   "name": "python3"
  },
  "language_info": {
   "codemirror_mode": {
    "name": "ipython",
    "version": 3
   },
   "file_extension": ".py",
   "mimetype": "text/x-python",
   "name": "python",
   "nbconvert_exporter": "python",
   "pygments_lexer": "ipython3",
   "version": "3.8.3"
  },
  "toc": {
   "base_numbering": 1,
   "nav_menu": {},
   "number_sections": true,
   "sideBar": true,
   "skip_h1_title": false,
   "title_cell": "Table of Contents",
   "title_sidebar": "Contents",
   "toc_cell": false,
   "toc_position": {},
   "toc_section_display": true,
   "toc_window_display": false
  },
  "varInspector": {
   "cols": {
    "lenName": 16,
    "lenType": 16,
    "lenVar": 40
   },
   "kernels_config": {
    "python": {
     "delete_cmd_postfix": "",
     "delete_cmd_prefix": "del ",
     "library": "var_list.py",
     "varRefreshCmd": "print(var_dic_list())"
    },
    "r": {
     "delete_cmd_postfix": ") ",
     "delete_cmd_prefix": "rm(",
     "library": "var_list.r",
     "varRefreshCmd": "cat(var_dic_list()) "
    }
   },
   "types_to_exclude": [
    "module",
    "function",
    "builtin_function_or_method",
    "instance",
    "_Feature"
   ],
   "window_display": false
  }
 },
 "nbformat": 4,
 "nbformat_minor": 4
}
