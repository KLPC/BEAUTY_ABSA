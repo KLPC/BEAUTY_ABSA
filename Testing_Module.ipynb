{
 "cells": [
  {
   "cell_type": "markdown",
   "metadata": {},
   "source": [
    "required:\n",
    "- amore_data_detected.pkl ( amore_data_detected.json )\n",
    "- model.pt"
   ]
  },
  {
   "cell_type": "markdown",
   "metadata": {},
   "source": [
    "# 1. Import Packages / Datasets"
   ]
  },
  {
   "cell_type": "code",
   "execution_count": 194,
   "metadata": {
    "ExecuteTime": {
     "end_time": "2021-10-03T00:14:37.767471Z",
     "start_time": "2021-10-03T00:14:09.083726Z"
    }
   },
   "outputs": [],
   "source": [
    "import pandas as pd\n",
    "import matplotlib.pyplot as plt\n",
    "import seaborn as sns\n",
    "import numpy as np\n",
    "import re\n",
    "from ast import literal_eval\n",
    "import torch\n",
    "import konlpy\n",
    "import datetime\n",
    "from datetime import date\n",
    "\n",
    "from tqdm import tqdm\n",
    "from kss import split_sentences\n",
    "import re\n",
    "import emoji\n",
    "from soynlp.normalizer import repeat_normalize"
   ]
  },
  {
   "cell_type": "markdown",
   "metadata": {},
   "source": [
    "- `df_whole` : 전체 일자에 해당하는 df\n",
    "- `df` : CBS 계산에 사용되는 일자에 해당하는 df\n",
    "    - ( default : `window_size` = 50 )"
   ]
  },
  {
   "cell_type": "code",
   "execution_count": 195,
   "metadata": {
    "ExecuteTime": {
     "end_time": "2021-10-03T00:14:56.590342Z",
     "start_time": "2021-10-03T00:14:37.785479Z"
    }
   },
   "outputs": [
    {
     "name": "stdout",
     "output_type": "stream",
     "text": [
      "(50183, 50)\n"
     ]
    }
   ],
   "source": [
    "df_whole=pd.read_json('amore_data_detected_bert.json')\n",
    "#### 지우기\n",
    "df_whole['review_split_string']=df_whole['review_split'].copy()\n",
    "df_whole['review_split']=df_whole['review_split_string'].apply(literal_eval)\n",
    "print(df_whole.shape)"
   ]
  },
  {
   "cell_type": "code",
   "execution_count": 196,
   "metadata": {},
   "outputs": [
    {
     "data": {
      "text/plain": [
       "자연을 닮은 시트마스크 1매                       1948\n",
       "센슈얼 파우더 매트 5g                         1591\n",
       "플라워 토너 5종 250ml                       1556\n",
       "크리미틴트 컬러 밤 인텐스 2.5g                   1339\n",
       "오가니언스 워터 180ml                        1069\n",
       "어린쑥 수분진정 크림 50ml                       980\n",
       "달빛유자 수면팩 60ml                          957\n",
       "알파인 베리 워터리 크림 50ml                     917\n",
       "자연을 닮은 핸드크림 50ml                       816\n",
       "자연을 닮은 립밤                              808\n",
       "[NEW 컬러 출시]센슈얼 스파이시 누드 밤 3.5g          742\n",
       "어린쑥 수분진정 토너 150ml                      730\n",
       "크림 스킨 미스트 120ml                        706\n",
       "스템Ⅲ 앰플 50ml                            667\n",
       "로즈워터 토너 패드 40매                         647\n",
       "리치 포밍 클렌저 200ml                        645\n",
       "센슈얼 스파이시 누드 볼륨 매트 3.5g                 637\n",
       "에센셜 립세럼 스틱 3g                          612\n",
       "오가니언스 에멀젼 150ml                        607\n",
       "페이셜 마일드 필링 150ml                       534\n",
       "내추럴 베리 립밤 4g                           531\n",
       "센텔라 트러블 토너 (150ml/250ml)               516\n",
       "아로마 바디 스크럽 워시 230ml                    512\n",
       "모이스춰 플럼핑 듀이 미스트 100ml                  481\n",
       "베이비 선 쿠션 SPF32 PA++ 15g                479\n",
       "리페어빈 시카 에센스 50ml                       475\n",
       "미라클 씨드 에센스 160ml 160ml                 463\n",
       "UV 쉴드 안티폴루션 선 세럼 SPF 50+ PA++ 50ml     435\n",
       "[대용량] 더마 리페어 시카크림 100ml                416\n",
       "씨드 앤 스프라우트 에너지 마스크(5매) 20ml*5매         414\n",
       "내추럴 오토펜슬 아이브로우                         409\n",
       "내추럴 리치 클렌징 폼 150ml                     408\n",
       "알파인 베리 워터리 수딩 젤 크림 50ml                398\n",
       "블루 캐모마일 수딩 리페어 크림 (자/튜브) 50ml+25ml     391\n",
       "센슈얼 스파이시 누드 글로스 5g                     386\n",
       "세라마이드 인텐스 크림 50ml                      375\n",
       "크리미틴트 컬러밤 쉬폰 2.5g                      369\n",
       "[소용량] 로즈워터 토너 150ml                    366\n",
       "워터뱅크 모이스춰 에센스(건조한피부용) 70ml             348\n",
       "플라워 센티드 핸드크림 50ml                      341\n",
       "윤조에센스 90ml                             331\n",
       "자음수 125ml                              320\n",
       "더마 리페어 시카크림 50ml                       313\n",
       "세라마이드 에멀젼 150ml                        313\n",
       "흰감국 보송 선스틱 SPF50+/PA++++ 17g           312\n",
       "세라마이드 스킨 소프너 200ml                     300\n",
       "선 메이트 스틱 SPF50+ PA++++ 20g             292\n",
       "탄력크림 75ml                              289\n",
       "상백선크림 SPF50+/PA++++ (30ml/50ml)        283\n",
       "산들박하 트러블 클렌징폼 120g                     271\n",
       "Name: prod_nm, dtype: int64"
      ]
     },
     "execution_count": 196,
     "metadata": {},
     "output_type": "execute_result"
    }
   ],
   "source": [
    "df_whole.prod_nm.value_counts()[0:50]"
   ]
  },
  {
   "cell_type": "code",
   "execution_count": 197,
   "metadata": {
    "ExecuteTime": {
     "end_time": "2021-10-03T00:14:56.670253Z",
     "start_time": "2021-10-03T00:14:56.657340Z"
    }
   },
   "outputs": [],
   "source": [
    "cat_task = {'cat1': 1, 'cat2': 2,'cat3': 3,'cat4': 4,'cat5': 5,'cat6': 6,'cat7': 7,'cat9': 8,'cat10': 9}\n",
    "cols = ['용량','민감성','향기','커버력','지속력','피부톤',\n",
    "         '보습감','향','사용감','발림성','세정력', # 10\n",
    "         '촉촉함','유분기','발색감','제형','보습력']\n",
    "small_cat_indices = [[1, 10, 11],\n",
    "                     [1, 6, 7],\n",
    "                     [1, 8, 9],\n",
    "\n",
    "                     [3, 4, 5],\n",
    "\n",
    "                     [4, 5, 11, 12, 13, 14],\n",
    "\n",
    "                     [4, 8, 13],\n",
    "                     [4, 8, 13],\n",
    "\n",
    "                     [2, 1, 0],\n",
    "                     [2, 1, 0]]\n",
    "plt.rcParams[\"font.family\"] = 'Malgun Gothic' #윈도우, 구글 콜랩\n",
    "plt.rcParams['font.size'] = 10"
   ]
  },
  {
   "cell_type": "markdown",
   "metadata": {},
   "source": [
    "# 3. CBS score"
   ]
  },
  {
   "cell_type": "code",
   "execution_count": 198,
   "metadata": {},
   "outputs": [],
   "source": [
    "import itertools\n",
    "from itertools import chain"
   ]
  },
  {
   "cell_type": "markdown",
   "metadata": {},
   "source": [
    "# Score 1"
   ]
  },
  {
   "cell_type": "markdown",
   "metadata": {},
   "source": [
    "score 1 : 기본 지표"
   ]
  },
  {
   "cell_type": "code",
   "execution_count": 199,
   "metadata": {
    "ExecuteTime": {
     "end_time": "2021-10-03T00:14:56.796533Z",
     "start_time": "2021-10-03T00:14:56.783448Z"
    }
   },
   "outputs": [],
   "source": [
    "def S1_number_func(x):\n",
    "    return(sum([len(x[i].split(' ')) for i in range(len(x))]))\n",
    "\n",
    "def S1_duplicate_func(x):\n",
    "    return(len(set(x))/len(x))\n",
    "    \n",
    "def NVA(x):    \n",
    "    total_words=[]\n",
    "    for i, document in enumerate(list(set(x))):\n",
    "        okt = konlpy.tag.Okt()\n",
    "        clean_words = []\n",
    "        for word in okt.pos(document, stem=True): \n",
    "            if word[1] in ['Noun', 'Verb', 'Adjective']: \n",
    "                clean_words.append(word[0])\n",
    "        total_words.append(clean_words)\n",
    "    result = []\n",
    "    for x in total_words:\n",
    "        result.extend(x)\n",
    "    return result\n",
    "\n",
    "\n",
    "def S1_diversity_func(NVA):  \n",
    "    return(len(set(NVA))/len(NVA))\n",
    "    \n",
    "\n",
    "\n",
    "def s1_recency_func(x,date):\n",
    "    return((date-x.date()).days)\n",
    "\n",
    "def S1_recency_func(x,max_date,window):\n",
    "    \"\"\"\n",
    "    max=50 ( 50,49,,...1 )\n",
    "    ----------------------------------------\n",
    "    50,49,48,47,46 .... (max-0)~(max-window+1)\n",
    "    49,48,47,46,45 .... (max-1)~(max-window+0)\n",
    "    48,47,46,45,44 .... (max-2)~(max-window-1)\n",
    "    ...\n",
    "    5,4,3,2,1 ...,,,,,,. (max-45)~(max-window-44)\n",
    "    ----------------------------------------\n",
    "    max-45가 window가 될 때 까지\n",
    "    \"\"\"\n",
    "    lower = max_date\n",
    "    upper = max_date-window+1\n",
    "    lower_sign=(x<=lower)\n",
    "    upper_sign=(x>=upper)\n",
    "    sign=lower_sign*upper_sign\n",
    "    return sign\n",
    "\n",
    "def s1_recency_list_func(prod_nm):\n",
    "    tmp=S1_recency[S1_recency['prod_nm']==prod_nm]\n",
    "    MA_list=[]\n",
    "    for i in date_range:\n",
    "        window_count = len(tmp['s1_recency'][tmp['s1_recency'].apply((lambda x: S1_recency_func(x,max_date-i,recency_window)))>0])\n",
    "        window_count_mean = window_count/recency_window\n",
    "        MA_list.append(window_count_mean)\n",
    "    return MA_list"
   ]
  },
  {
   "cell_type": "code",
   "execution_count": 200,
   "metadata": {
    "ExecuteTime": {
     "end_time": "2021-10-03T00:14:57.046804Z",
     "start_time": "2021-10-03T00:14:56.847130Z"
    }
   },
   "outputs": [],
   "source": [
    "#today=date.today()\n",
    "today=datetime.date(2021,8,1)\n",
    "\n",
    "df_whole['s1_recency']=df_whole['date'].apply((lambda x: s1_recency_func(x,today)))\n",
    "df_whole['brand_big_category'] = df_whole[['brand', 'big_category']].agg('-'.join, axis=1)"
   ]
  },
  {
   "cell_type": "code",
   "execution_count": 201,
   "metadata": {
    "ExecuteTime": {
     "end_time": "2021-10-03T00:14:57.110828Z",
     "start_time": "2021-10-03T00:14:57.097840Z"
    }
   },
   "outputs": [],
   "source": [
    "CBS_window=50\n",
    "recency_window=5\n",
    "\n",
    "recent=pd.Series(df_whole['s1_recency']<=CBS_window)\n",
    "recent_idx=recent[recent].index\n",
    "del recent"
   ]
  },
  {
   "cell_type": "code",
   "execution_count": 202,
   "metadata": {},
   "outputs": [
    {
     "data": {
      "text/plain": [
       "Int64Index([   22,    23,    24,    25,    26,    35,    60,    61,    76,\n",
       "               77,\n",
       "            ...\n",
       "            48415, 48416, 48417, 48418, 48419, 48420, 48421, 48422, 48423,\n",
       "            48424],\n",
       "           dtype='int64', length=3433)"
      ]
     },
     "execution_count": 202,
     "metadata": {},
     "output_type": "execute_result"
    }
   ],
   "source": [
    "recent_idx"
   ]
  },
  {
   "cell_type": "code",
   "execution_count": 203,
   "metadata": {
    "ExecuteTime": {
     "end_time": "2021-10-03T00:14:57.300895Z",
     "start_time": "2021-10-03T00:14:57.242898Z"
    }
   },
   "outputs": [],
   "source": [
    "df=df_whole.loc[recent_idx]\n",
    "prod_name=df['prod_nm'].unique()"
   ]
  },
  {
   "cell_type": "code",
   "execution_count": 204,
   "metadata": {
    "ExecuteTime": {
     "end_time": "2021-10-03T00:30:57.132417Z",
     "start_time": "2021-10-03T00:14:57.380329Z"
    }
   },
   "outputs": [],
   "source": [
    "df['s1_length']=df['review_split'].apply(len)\n",
    "df['s1_number']=df['review_split'].apply(S1_number_func)\n",
    "df['s1_duplicate']=df['review_split'].apply(S1_duplicate_func)\n",
    "\n",
    "nva=df['review_split'].apply(NVA)\n",
    "df['S1_diversity']=nva.apply(S1_diversity_func)\n",
    "df['S1_number_discounted']=df['s1_number']*df['s1_duplicate']"
   ]
  },
  {
   "cell_type": "code",
   "execution_count": 205,
   "metadata": {
    "ExecuteTime": {
     "end_time": "2021-10-03T00:30:57.464493Z",
     "start_time": "2021-10-03T00:30:57.437470Z"
    }
   },
   "outputs": [],
   "source": [
    "S1_cols=df.columns[df.columns.str.contains('S1')]"
   ]
  },
  {
   "cell_type": "code",
   "execution_count": 206,
   "metadata": {
    "ExecuteTime": {
     "end_time": "2021-10-03T00:30:57.606509Z",
     "start_time": "2021-10-03T00:30:57.571517Z"
    }
   },
   "outputs": [],
   "source": [
    "S1 = df.groupby('prod_nm')[S1_cols].mean()"
   ]
  },
  {
   "cell_type": "code",
   "execution_count": 207,
   "metadata": {
    "ExecuteTime": {
     "end_time": "2021-10-03T00:30:57.731537Z",
     "start_time": "2021-10-03T00:30:57.721534Z"
    }
   },
   "outputs": [],
   "source": [
    "S1_recency = df[['prod_nm','s1_recency']]"
   ]
  },
  {
   "cell_type": "code",
   "execution_count": 208,
   "metadata": {
    "ExecuteTime": {
     "end_time": "2021-10-03T00:30:57.842624Z",
     "start_time": "2021-10-03T00:30:57.830576Z"
    }
   },
   "outputs": [],
   "source": [
    "max_date=S1_recency['s1_recency'].max()\n",
    "date_range=np.arange(0,max_date-recency_window)"
   ]
  },
  {
   "cell_type": "code",
   "execution_count": 209,
   "metadata": {
    "ExecuteTime": {
     "end_time": "2021-10-03T00:31:09.870891Z",
     "start_time": "2021-10-03T00:30:57.908622Z"
    }
   },
   "outputs": [],
   "source": [
    "S1['s1_recency_list']=S1.reset_index()['prod_nm'].apply(s1_recency_list_func).values"
   ]
  },
  {
   "cell_type": "code",
   "execution_count": 210,
   "metadata": {
    "ExecuteTime": {
     "end_time": "2021-10-03T00:31:09.981782Z",
     "start_time": "2021-10-03T00:31:09.953763Z"
    }
   },
   "outputs": [
    {
     "data": {
      "text/html": [
       "<div>\n",
       "<style scoped>\n",
       "    .dataframe tbody tr th:only-of-type {\n",
       "        vertical-align: middle;\n",
       "    }\n",
       "\n",
       "    .dataframe tbody tr th {\n",
       "        vertical-align: top;\n",
       "    }\n",
       "\n",
       "    .dataframe thead th {\n",
       "        text-align: right;\n",
       "    }\n",
       "</style>\n",
       "<table border=\"1\" class=\"dataframe\">\n",
       "  <thead>\n",
       "    <tr style=\"text-align: right;\">\n",
       "      <th></th>\n",
       "      <th>S1_diversity</th>\n",
       "      <th>S1_number_discounted</th>\n",
       "      <th>s1_recency_list</th>\n",
       "    </tr>\n",
       "    <tr>\n",
       "      <th>prod_nm</th>\n",
       "      <th></th>\n",
       "      <th></th>\n",
       "      <th></th>\n",
       "    </tr>\n",
       "  </thead>\n",
       "  <tbody>\n",
       "    <tr>\n",
       "      <th>UV 쉴드 안티폴루션 선 세럼 SPF 50+ PA++ 50ml</th>\n",
       "      <td>0.827927</td>\n",
       "      <td>30.000000</td>\n",
       "      <td>[0.0, 0.0, 0.0, 0.0, 0.0, 0.0, 0.0, 0.0, 0.0, ...</td>\n",
       "    </tr>\n",
       "    <tr>\n",
       "      <th>UV 쉴드 에센셜 톤업 선 50ml</th>\n",
       "      <td>0.834627</td>\n",
       "      <td>29.888889</td>\n",
       "      <td>[0.0, 0.0, 0.0, 0.0, 0.0, 0.0, 0.0, 0.0, 0.0, ...</td>\n",
       "    </tr>\n",
       "    <tr>\n",
       "      <th>UV쉴드 선 스틱 SPF50+PA++++ 20g</th>\n",
       "      <td>0.879895</td>\n",
       "      <td>25.750000</td>\n",
       "      <td>[0.0, 0.0, 0.0, 0.0, 0.0, 0.0, 0.0, 0.2, 0.2, ...</td>\n",
       "    </tr>\n",
       "    <tr>\n",
       "      <th>UV쉴드 선 프로텍터 XP SPF 50+ PA++++ 60ml</th>\n",
       "      <td>0.846793</td>\n",
       "      <td>30.466403</td>\n",
       "      <td>[0.2, 0.2, 0.2, 0.4, 0.4, 0.4, 0.4, 0.4, 0.2, ...</td>\n",
       "    </tr>\n",
       "    <tr>\n",
       "      <th>[1989에디션] 어린쑥 수분진정 앰플세럼 28ml</th>\n",
       "      <td>1.000000</td>\n",
       "      <td>18.000000</td>\n",
       "      <td>[0.0, 0.0, 0.0, 0.0, 0.0, 0.0, 0.0, 0.0, 0.0, ...</td>\n",
       "    </tr>\n",
       "    <tr>\n",
       "      <th>...</th>\n",
       "      <td>...</td>\n",
       "      <td>...</td>\n",
       "      <td>...</td>\n",
       "    </tr>\n",
       "    <tr>\n",
       "      <th>피토알렉신 진정 보습 크림 60ml</th>\n",
       "      <td>0.902663</td>\n",
       "      <td>27.600000</td>\n",
       "      <td>[0.2, 0.2, 0.2, 0.2, 0.2, 0.0, 0.0, 0.0, 0.0, ...</td>\n",
       "    </tr>\n",
       "    <tr>\n",
       "      <th>핸드크림 백은향 40ml</th>\n",
       "      <td>0.915517</td>\n",
       "      <td>31.000000</td>\n",
       "      <td>[0.0, 0.0, 0.0, 0.0, 0.0, 0.0, 0.0, 0.0, 0.0, ...</td>\n",
       "    </tr>\n",
       "    <tr>\n",
       "      <th>흰감국 광채 선크림 SPF50+/PA++++ 70ml</th>\n",
       "      <td>0.900048</td>\n",
       "      <td>22.600000</td>\n",
       "      <td>[0.4, 0.4, 0.4, 0.4, 0.2, 0.2, 0.2, 0.2, 0.2, ...</td>\n",
       "    </tr>\n",
       "    <tr>\n",
       "      <th>흰감국 보송 선스틱 SPF50+/PA++++ 17g</th>\n",
       "      <td>0.803406</td>\n",
       "      <td>39.000000</td>\n",
       "      <td>[0.6, 0.8, 0.6, 0.4, 0.4, 0.4, 0.2, 0.2, 0.2, ...</td>\n",
       "    </tr>\n",
       "    <tr>\n",
       "      <th>히아루로닉 크림 50ml</th>\n",
       "      <td>0.830848</td>\n",
       "      <td>41.750000</td>\n",
       "      <td>[0.0, 0.0, 0.0, 0.0, 0.0, 0.0, 0.0, 0.0, 0.0, ...</td>\n",
       "    </tr>\n",
       "  </tbody>\n",
       "</table>\n",
       "<p>358 rows × 3 columns</p>\n",
       "</div>"
      ],
      "text/plain": [
       "                                    S1_diversity  S1_number_discounted  \\\n",
       "prod_nm                                                                  \n",
       "UV 쉴드 안티폴루션 선 세럼 SPF 50+ PA++ 50ml      0.827927             30.000000   \n",
       "UV 쉴드 에센셜 톤업 선 50ml                     0.834627             29.888889   \n",
       "UV쉴드 선 스틱 SPF50+PA++++ 20g              0.879895             25.750000   \n",
       "UV쉴드 선 프로텍터 XP SPF 50+ PA++++ 60ml      0.846793             30.466403   \n",
       "[1989에디션] 어린쑥 수분진정 앰플세럼 28ml            1.000000             18.000000   \n",
       "...                                          ...                   ...   \n",
       "피토알렉신 진정 보습 크림 60ml                     0.902663             27.600000   \n",
       "핸드크림 백은향 40ml                           0.915517             31.000000   \n",
       "흰감국 광채 선크림 SPF50+/PA++++ 70ml           0.900048             22.600000   \n",
       "흰감국 보송 선스틱 SPF50+/PA++++ 17g            0.803406             39.000000   \n",
       "히아루로닉 크림 50ml                           0.830848             41.750000   \n",
       "\n",
       "                                                                      s1_recency_list  \n",
       "prod_nm                                                                                \n",
       "UV 쉴드 안티폴루션 선 세럼 SPF 50+ PA++ 50ml  [0.0, 0.0, 0.0, 0.0, 0.0, 0.0, 0.0, 0.0, 0.0, ...  \n",
       "UV 쉴드 에센셜 톤업 선 50ml                 [0.0, 0.0, 0.0, 0.0, 0.0, 0.0, 0.0, 0.0, 0.0, ...  \n",
       "UV쉴드 선 스틱 SPF50+PA++++ 20g          [0.0, 0.0, 0.0, 0.0, 0.0, 0.0, 0.0, 0.2, 0.2, ...  \n",
       "UV쉴드 선 프로텍터 XP SPF 50+ PA++++ 60ml  [0.2, 0.2, 0.2, 0.4, 0.4, 0.4, 0.4, 0.4, 0.2, ...  \n",
       "[1989에디션] 어린쑥 수분진정 앰플세럼 28ml        [0.0, 0.0, 0.0, 0.0, 0.0, 0.0, 0.0, 0.0, 0.0, ...  \n",
       "...                                                                               ...  \n",
       "피토알렉신 진정 보습 크림 60ml                 [0.2, 0.2, 0.2, 0.2, 0.2, 0.0, 0.0, 0.0, 0.0, ...  \n",
       "핸드크림 백은향 40ml                       [0.0, 0.0, 0.0, 0.0, 0.0, 0.0, 0.0, 0.0, 0.0, ...  \n",
       "흰감국 광채 선크림 SPF50+/PA++++ 70ml       [0.4, 0.4, 0.4, 0.4, 0.2, 0.2, 0.2, 0.2, 0.2, ...  \n",
       "흰감국 보송 선스틱 SPF50+/PA++++ 17g        [0.6, 0.8, 0.6, 0.4, 0.4, 0.4, 0.2, 0.2, 0.2, ...  \n",
       "히아루로닉 크림 50ml                       [0.0, 0.0, 0.0, 0.0, 0.0, 0.0, 0.0, 0.0, 0.0, ...  \n",
       "\n",
       "[358 rows x 3 columns]"
      ]
     },
     "execution_count": 210,
     "metadata": {},
     "output_type": "execute_result"
    }
   ],
   "source": [
    "S1"
   ]
  },
  {
   "cell_type": "markdown",
   "metadata": {
    "ExecuteTime": {
     "end_time": "2021-10-03T00:31:10.061651Z",
     "start_time": "2021-10-03T00:31:10.047791Z"
    }
   },
   "source": [
    "# Connectivity (구)"
   ]
  },
  {
   "cell_type": "code",
   "execution_count": 211,
   "metadata": {},
   "outputs": [],
   "source": [
    "nva_list=list(nva)\n",
    "tmp=list(df_whole['brand_big_category'][recent_idx])"
   ]
  },
  {
   "cell_type": "code",
   "execution_count": 212,
   "metadata": {},
   "outputs": [],
   "source": [
    "for i in range(len(recent_idx)):\n",
    "    nva_list[i]=[tmp[i]]+nva_list[i]"
   ]
  },
  {
   "cell_type": "code",
   "execution_count": 213,
   "metadata": {},
   "outputs": [],
   "source": [
    "u = (pd.get_dummies(pd.DataFrame(nva_list), prefix='', prefix_sep='')\n",
    "       .groupby(level=0, axis=1)\n",
    "       .sum())\n",
    "\n",
    "cooc_mat = u.T.dot(u)\n",
    "cooc_mat.values[(np.r_[:len(v)], ) * 2] = 0"
   ]
  },
  {
   "cell_type": "code",
   "execution_count": 214,
   "metadata": {},
   "outputs": [],
   "source": [
    "cooc_mat_wo_weight=cooc_mat.copy()\n",
    "cooc_mat_wo_weight[cooc_mat_wo_weight>1]=1"
   ]
  },
  {
   "cell_type": "code",
   "execution_count": 215,
   "metadata": {},
   "outputs": [],
   "source": [
    "conn = cooc_mat.stack()"
   ]
  },
  {
   "cell_type": "code",
   "execution_count": 216,
   "metadata": {},
   "outputs": [],
   "source": [
    "conn=conn.rename_axis(('source','target')).reset_index(name='weight')"
   ]
  },
  {
   "cell_type": "code",
   "execution_count": 217,
   "metadata": {},
   "outputs": [],
   "source": [
    "import networkx as nx"
   ]
  },
  {
   "cell_type": "code",
   "execution_count": 218,
   "metadata": {},
   "outputs": [],
   "source": [
    "G = nx.from_pandas_edgelist(conn,edge_attr=True)"
   ]
  },
  {
   "cell_type": "code",
   "execution_count": 219,
   "metadata": {},
   "outputs": [],
   "source": [
    "# inverse weight\n",
    "\n",
    "for u,v,data in G.edges(data=True):\n",
    "    if 'weight' in data and data['weight']!=0:\n",
    "        data['inverse']=1/data['weight']\n",
    "    else:\n",
    "        data['inverse']=1"
   ]
  },
  {
   "cell_type": "code",
   "execution_count": 220,
   "metadata": {},
   "outputs": [
    {
     "ename": "KeyboardInterrupt",
     "evalue": "",
     "output_type": "error",
     "traceback": [
      "\u001b[1;31m---------------------------------------------------------------------------\u001b[0m",
      "\u001b[1;31mKeyboardInterrupt\u001b[0m                         Traceback (most recent call last)",
      "\u001b[1;32m<ipython-input-220-75b28ea596af>\u001b[0m in \u001b[0;36m<module>\u001b[1;34m\u001b[0m\n\u001b[1;32m----> 1\u001b[1;33m \u001b[0mconn_seq\u001b[0m \u001b[1;33m=\u001b[0m \u001b[0mnx\u001b[0m\u001b[1;33m.\u001b[0m\u001b[0mbetweenness_centrality\u001b[0m\u001b[1;33m(\u001b[0m\u001b[0mG\u001b[0m\u001b[1;33m,\u001b[0m\u001b[0mnormalized\u001b[0m\u001b[1;33m=\u001b[0m\u001b[1;32mFalse\u001b[0m\u001b[1;33m,\u001b[0m\u001b[0mweight\u001b[0m\u001b[1;33m=\u001b[0m\u001b[1;34m'inverse'\u001b[0m\u001b[1;33m)\u001b[0m\u001b[1;33m\u001b[0m\u001b[1;33m\u001b[0m\u001b[0m\n\u001b[0m",
      "\u001b[1;32m<decorator-gen-250>\u001b[0m in \u001b[0;36mbetweenness_centrality\u001b[1;34m(G, k, normalized, weight, endpoints, seed)\u001b[0m\n",
      "\u001b[1;32m~\\Anaconda3\\lib\\site-packages\\networkx\\utils\\decorators.py\u001b[0m in \u001b[0;36m_random_state\u001b[1;34m(func, *args, **kwargs)\u001b[0m\n\u001b[0;32m    462\u001b[0m         \u001b[0mnew_args\u001b[0m \u001b[1;33m=\u001b[0m \u001b[0mlist\u001b[0m\u001b[1;33m(\u001b[0m\u001b[0margs\u001b[0m\u001b[1;33m)\u001b[0m\u001b[1;33m\u001b[0m\u001b[1;33m\u001b[0m\u001b[0m\n\u001b[0;32m    463\u001b[0m         \u001b[0mnew_args\u001b[0m\u001b[1;33m[\u001b[0m\u001b[0mrandom_state_index\u001b[0m\u001b[1;33m]\u001b[0m \u001b[1;33m=\u001b[0m \u001b[0mrandom_state\u001b[0m\u001b[1;33m\u001b[0m\u001b[1;33m\u001b[0m\u001b[0m\n\u001b[1;32m--> 464\u001b[1;33m         \u001b[1;32mreturn\u001b[0m \u001b[0mfunc\u001b[0m\u001b[1;33m(\u001b[0m\u001b[1;33m*\u001b[0m\u001b[0mnew_args\u001b[0m\u001b[1;33m,\u001b[0m \u001b[1;33m**\u001b[0m\u001b[0mkwargs\u001b[0m\u001b[1;33m)\u001b[0m\u001b[1;33m\u001b[0m\u001b[1;33m\u001b[0m\u001b[0m\n\u001b[0m\u001b[0;32m    465\u001b[0m     \u001b[1;32mreturn\u001b[0m \u001b[0m_random_state\u001b[0m\u001b[1;33m\u001b[0m\u001b[1;33m\u001b[0m\u001b[0m\n",
      "\u001b[1;32m<decorator-gen-249>\u001b[0m in \u001b[0;36mbetweenness_centrality\u001b[1;34m(G, k, normalized, weight, endpoints, seed)\u001b[0m\n",
      "\u001b[1;32m~\\Anaconda3\\lib\\site-packages\\networkx\\utils\\decorators.py\u001b[0m in \u001b[0;36m_not_implemented_for\u001b[1;34m(not_implement_for_func, *args, **kwargs)\u001b[0m\n\u001b[0;32m     80\u001b[0m             \u001b[1;32mraise\u001b[0m \u001b[0mnx\u001b[0m\u001b[1;33m.\u001b[0m\u001b[0mNetworkXNotImplemented\u001b[0m\u001b[1;33m(\u001b[0m\u001b[0mmsg\u001b[0m\u001b[1;33m)\u001b[0m\u001b[1;33m\u001b[0m\u001b[1;33m\u001b[0m\u001b[0m\n\u001b[0;32m     81\u001b[0m         \u001b[1;32melse\u001b[0m\u001b[1;33m:\u001b[0m\u001b[1;33m\u001b[0m\u001b[1;33m\u001b[0m\u001b[0m\n\u001b[1;32m---> 82\u001b[1;33m             \u001b[1;32mreturn\u001b[0m \u001b[0mnot_implement_for_func\u001b[0m\u001b[1;33m(\u001b[0m\u001b[1;33m*\u001b[0m\u001b[0margs\u001b[0m\u001b[1;33m,\u001b[0m \u001b[1;33m**\u001b[0m\u001b[0mkwargs\u001b[0m\u001b[1;33m)\u001b[0m\u001b[1;33m\u001b[0m\u001b[1;33m\u001b[0m\u001b[0m\n\u001b[0m\u001b[0;32m     83\u001b[0m     \u001b[1;32mreturn\u001b[0m \u001b[0m_not_implemented_for\u001b[0m\u001b[1;33m\u001b[0m\u001b[1;33m\u001b[0m\u001b[0m\n\u001b[0;32m     84\u001b[0m \u001b[1;33m\u001b[0m\u001b[0m\n",
      "\u001b[1;32m~\\Anaconda3\\lib\\site-packages\\networkx\\algorithms\\centrality\\betweenness.py\u001b[0m in \u001b[0;36mbetweenness_centrality\u001b[1;34m(G, k, normalized, weight, endpoints, seed)\u001b[0m\n\u001b[0;32m    136\u001b[0m             \u001b[0mS\u001b[0m\u001b[1;33m,\u001b[0m \u001b[0mP\u001b[0m\u001b[1;33m,\u001b[0m \u001b[0msigma\u001b[0m \u001b[1;33m=\u001b[0m \u001b[0m_single_source_shortest_path_basic\u001b[0m\u001b[1;33m(\u001b[0m\u001b[0mG\u001b[0m\u001b[1;33m,\u001b[0m \u001b[0ms\u001b[0m\u001b[1;33m)\u001b[0m\u001b[1;33m\u001b[0m\u001b[1;33m\u001b[0m\u001b[0m\n\u001b[0;32m    137\u001b[0m         \u001b[1;32melse\u001b[0m\u001b[1;33m:\u001b[0m  \u001b[1;31m# use Dijkstra's algorithm\u001b[0m\u001b[1;33m\u001b[0m\u001b[1;33m\u001b[0m\u001b[0m\n\u001b[1;32m--> 138\u001b[1;33m             \u001b[0mS\u001b[0m\u001b[1;33m,\u001b[0m \u001b[0mP\u001b[0m\u001b[1;33m,\u001b[0m \u001b[0msigma\u001b[0m \u001b[1;33m=\u001b[0m \u001b[0m_single_source_dijkstra_path_basic\u001b[0m\u001b[1;33m(\u001b[0m\u001b[0mG\u001b[0m\u001b[1;33m,\u001b[0m \u001b[0ms\u001b[0m\u001b[1;33m,\u001b[0m \u001b[0mweight\u001b[0m\u001b[1;33m)\u001b[0m\u001b[1;33m\u001b[0m\u001b[1;33m\u001b[0m\u001b[0m\n\u001b[0m\u001b[0;32m    139\u001b[0m         \u001b[1;31m# accumulation\u001b[0m\u001b[1;33m\u001b[0m\u001b[1;33m\u001b[0m\u001b[1;33m\u001b[0m\u001b[0m\n\u001b[0;32m    140\u001b[0m         \u001b[1;32mif\u001b[0m \u001b[0mendpoints\u001b[0m\u001b[1;33m:\u001b[0m\u001b[1;33m\u001b[0m\u001b[1;33m\u001b[0m\u001b[0m\n",
      "\u001b[1;32m~\\Anaconda3\\lib\\site-packages\\networkx\\algorithms\\centrality\\betweenness.py\u001b[0m in \u001b[0;36m_single_source_dijkstra_path_basic\u001b[1;34m(G, s, weight)\u001b[0m\n\u001b[0;32m    294\u001b[0m         \u001b[0mS\u001b[0m\u001b[1;33m.\u001b[0m\u001b[0mappend\u001b[0m\u001b[1;33m(\u001b[0m\u001b[0mv\u001b[0m\u001b[1;33m)\u001b[0m\u001b[1;33m\u001b[0m\u001b[1;33m\u001b[0m\u001b[0m\n\u001b[0;32m    295\u001b[0m         \u001b[0mD\u001b[0m\u001b[1;33m[\u001b[0m\u001b[0mv\u001b[0m\u001b[1;33m]\u001b[0m \u001b[1;33m=\u001b[0m \u001b[0mdist\u001b[0m\u001b[1;33m\u001b[0m\u001b[1;33m\u001b[0m\u001b[0m\n\u001b[1;32m--> 296\u001b[1;33m         \u001b[1;32mfor\u001b[0m \u001b[0mw\u001b[0m\u001b[1;33m,\u001b[0m \u001b[0medgedata\u001b[0m \u001b[1;32min\u001b[0m \u001b[0mG\u001b[0m\u001b[1;33m[\u001b[0m\u001b[0mv\u001b[0m\u001b[1;33m]\u001b[0m\u001b[1;33m.\u001b[0m\u001b[0mitems\u001b[0m\u001b[1;33m(\u001b[0m\u001b[1;33m)\u001b[0m\u001b[1;33m:\u001b[0m\u001b[1;33m\u001b[0m\u001b[1;33m\u001b[0m\u001b[0m\n\u001b[0m\u001b[0;32m    297\u001b[0m             \u001b[0mvw_dist\u001b[0m \u001b[1;33m=\u001b[0m \u001b[0mdist\u001b[0m \u001b[1;33m+\u001b[0m \u001b[0medgedata\u001b[0m\u001b[1;33m.\u001b[0m\u001b[0mget\u001b[0m\u001b[1;33m(\u001b[0m\u001b[0mweight\u001b[0m\u001b[1;33m,\u001b[0m \u001b[1;36m1\u001b[0m\u001b[1;33m)\u001b[0m\u001b[1;33m\u001b[0m\u001b[1;33m\u001b[0m\u001b[0m\n\u001b[0;32m    298\u001b[0m             \u001b[1;32mif\u001b[0m \u001b[0mw\u001b[0m \u001b[1;32mnot\u001b[0m \u001b[1;32min\u001b[0m \u001b[0mD\u001b[0m \u001b[1;32mand\u001b[0m \u001b[1;33m(\u001b[0m\u001b[0mw\u001b[0m \u001b[1;32mnot\u001b[0m \u001b[1;32min\u001b[0m \u001b[0mseen\u001b[0m \u001b[1;32mor\u001b[0m \u001b[0mvw_dist\u001b[0m \u001b[1;33m<\u001b[0m \u001b[0mseen\u001b[0m\u001b[1;33m[\u001b[0m\u001b[0mw\u001b[0m\u001b[1;33m]\u001b[0m\u001b[1;33m)\u001b[0m\u001b[1;33m:\u001b[0m\u001b[1;33m\u001b[0m\u001b[1;33m\u001b[0m\u001b[0m\n",
      "\u001b[1;32m~\\Anaconda3\\lib\\_collections_abc.py\u001b[0m in \u001b[0;36m__iter__\u001b[1;34m(self)\u001b[0m\n\u001b[0;32m    742\u001b[0m     \u001b[1;32mdef\u001b[0m \u001b[0m__iter__\u001b[0m\u001b[1;33m(\u001b[0m\u001b[0mself\u001b[0m\u001b[1;33m)\u001b[0m\u001b[1;33m:\u001b[0m\u001b[1;33m\u001b[0m\u001b[1;33m\u001b[0m\u001b[0m\n\u001b[0;32m    743\u001b[0m         \u001b[1;32mfor\u001b[0m \u001b[0mkey\u001b[0m \u001b[1;32min\u001b[0m \u001b[0mself\u001b[0m\u001b[1;33m.\u001b[0m\u001b[0m_mapping\u001b[0m\u001b[1;33m:\u001b[0m\u001b[1;33m\u001b[0m\u001b[1;33m\u001b[0m\u001b[0m\n\u001b[1;32m--> 744\u001b[1;33m             \u001b[1;32myield\u001b[0m \u001b[1;33m(\u001b[0m\u001b[0mkey\u001b[0m\u001b[1;33m,\u001b[0m \u001b[0mself\u001b[0m\u001b[1;33m.\u001b[0m\u001b[0m_mapping\u001b[0m\u001b[1;33m[\u001b[0m\u001b[0mkey\u001b[0m\u001b[1;33m]\u001b[0m\u001b[1;33m)\u001b[0m\u001b[1;33m\u001b[0m\u001b[1;33m\u001b[0m\u001b[0m\n\u001b[0m\u001b[0;32m    745\u001b[0m \u001b[1;33m\u001b[0m\u001b[0m\n\u001b[0;32m    746\u001b[0m \u001b[0mItemsView\u001b[0m\u001b[1;33m.\u001b[0m\u001b[0mregister\u001b[0m\u001b[1;33m(\u001b[0m\u001b[0mdict_items\u001b[0m\u001b[1;33m)\u001b[0m\u001b[1;33m\u001b[0m\u001b[1;33m\u001b[0m\u001b[0m\n",
      "\u001b[1;32m~\\Anaconda3\\lib\\site-packages\\networkx\\classes\\coreviews.py\u001b[0m in \u001b[0;36m__getitem__\u001b[1;34m(self, key)\u001b[0m\n\u001b[0;32m     51\u001b[0m         \u001b[1;32mreturn\u001b[0m \u001b[0miter\u001b[0m\u001b[1;33m(\u001b[0m\u001b[0mself\u001b[0m\u001b[1;33m.\u001b[0m\u001b[0m_atlas\u001b[0m\u001b[1;33m)\u001b[0m\u001b[1;33m\u001b[0m\u001b[1;33m\u001b[0m\u001b[0m\n\u001b[0;32m     52\u001b[0m \u001b[1;33m\u001b[0m\u001b[0m\n\u001b[1;32m---> 53\u001b[1;33m     \u001b[1;32mdef\u001b[0m \u001b[0m__getitem__\u001b[0m\u001b[1;33m(\u001b[0m\u001b[0mself\u001b[0m\u001b[1;33m,\u001b[0m \u001b[0mkey\u001b[0m\u001b[1;33m)\u001b[0m\u001b[1;33m:\u001b[0m\u001b[1;33m\u001b[0m\u001b[1;33m\u001b[0m\u001b[0m\n\u001b[0m\u001b[0;32m     54\u001b[0m         \u001b[1;32mreturn\u001b[0m \u001b[0mself\u001b[0m\u001b[1;33m.\u001b[0m\u001b[0m_atlas\u001b[0m\u001b[1;33m[\u001b[0m\u001b[0mkey\u001b[0m\u001b[1;33m]\u001b[0m\u001b[1;33m\u001b[0m\u001b[1;33m\u001b[0m\u001b[0m\n\u001b[0;32m     55\u001b[0m \u001b[1;33m\u001b[0m\u001b[0m\n",
      "\u001b[1;31mKeyboardInterrupt\u001b[0m: "
     ]
    }
   ],
   "source": [
    "conn_seq = nx.betweenness_centrality(G,normalized=False,weight='inverse')"
   ]
  },
  {
   "cell_type": "code",
   "execution_count": null,
   "metadata": {},
   "outputs": [],
   "source": [
    "conn_seq"
   ]
  },
  {
   "cell_type": "code",
   "execution_count": null,
   "metadata": {},
   "outputs": [],
   "source": []
  },
  {
   "cell_type": "markdown",
   "metadata": {},
   "source": [
    "## 3-2. score 2 : 종합 감정 지표"
   ]
  },
  {
   "cell_type": "code",
   "execution_count": 523,
   "metadata": {
    "ExecuteTime": {
     "end_time": "2021-10-03T02:28:50.481433Z",
     "start_time": "2021-10-03T02:28:43.778909Z"
    }
   },
   "outputs": [],
   "source": [
    "model = torch.load('checkpoint39.pt',map_location='cpu')"
   ]
  },
  {
   "cell_type": "code",
   "execution_count": 524,
   "metadata": {
    "ExecuteTime": {
     "end_time": "2021-10-03T02:28:50.767139Z",
     "start_time": "2021-10-03T02:28:50.756138Z"
    }
   },
   "outputs": [
    {
     "data": {
      "text/plain": [
       "Index(['가격', '감촉', '광택', '구성', '디자인', '만족도', '발림', '발색', '보습', '사용감', '색상',\n",
       "       '성분', '용기', '용량', '제형', '지속', '커버', '트러블', '표현력', '품질', '향기', '효과',\n",
       "       '휴대성'],\n",
       "      dtype='object')"
      ]
     },
     "execution_count": 524,
     "metadata": {},
     "output_type": "execute_result"
    }
   ],
   "source": [
    "cols2"
   ]
  },
  {
   "cell_type": "code",
   "execution_count": 525,
   "metadata": {
    "ExecuteTime": {
     "end_time": "2021-10-03T02:28:51.023272Z",
     "start_time": "2021-10-03T02:28:51.010253Z"
    }
   },
   "outputs": [],
   "source": [
    "cat_task = {'cat1': 1, 'cat2': 2,'cat3': 3,'cat4': 4,'cat5': 5,'cat6': 6,'cat7': 7,'cat9': 8,'cat10': 9}\n",
    "cols1 = ['용량','민감성','향기','커버력','지속력','피부톤',\n",
    "         '보습감','향','사용감','발림성','세정력', # 10\n",
    "         '촉촉함','유분기','발색감','제형']#,'보습력']\n",
    "cols2= df.columns[25:48]\n",
    "small_cat_indices = [[1, 10, 11],\n",
    "                     [1, 6, 7],\n",
    "                     [1, 8, 9],\n",
    "\n",
    "                     [3, 4, 5],\n",
    "\n",
    "                     [4, 5, 11, 12, 13, 14],\n",
    "\n",
    "                     [4, 8, 13],\n",
    "                     [4, 8, 13],\n",
    "\n",
    "                     [2, 1, 0],\n",
    "                     [2, 1, 0]]"
   ]
  },
  {
   "cell_type": "code",
   "execution_count": 526,
   "metadata": {
    "ExecuteTime": {
     "end_time": "2021-10-03T02:28:51.326750Z",
     "start_time": "2021-10-03T02:28:51.266736Z"
    }
   },
   "outputs": [],
   "source": [
    "temp_cols=[\"overall({})\".format(i) for i in [-1,0,1]]+[c + '(-1)' for c in cols1]+[c + '(0)' for c in cols1]+[c + '(1)' for c in cols1]+['ATT_'+c for c in cols1]\n",
    "S23=pd.DataFrame(index=recent_idx,columns=temp_cols)"
   ]
  },
  {
   "cell_type": "code",
   "execution_count": 527,
   "metadata": {
    "ExecuteTime": {
     "end_time": "2021-10-03T02:28:51.596811Z",
     "start_time": "2021-10-03T02:28:51.552785Z"
    }
   },
   "outputs": [],
   "source": [
    "def softmax(x):\n",
    "    return (torch.exp(x) / torch.exp(x).sum()).flatten()\n",
    "\n",
    "\n",
    "\n",
    "def fill_s23(model, df, idicies):\n",
    "    for ind in tqdm(idicies):\n",
    "        \n",
    "        review = torch.FloatTensor( df['embed_sents'][ind])\n",
    "        num_sents = torch.tensor( len(review) )\n",
    "        small_task= cat_task[ df['category'][ind] ]\n",
    "        detect = df['mask'][ind]\n",
    "        deteted_aspect= df.loc[ind,cols2][ df.loc[ind,cols2] == 1 ].index.values.tolist()\n",
    "        deteted_aspect_ind = np.array( small_cat_indices[ small_task - 1 ] )[detect].tolist()\n",
    "        deteted_aspect_target = np.array(cols1)[deteted_aspect_ind].tolist()\n",
    "        model.eval()\n",
    "        model.to('cpu')\n",
    "        with torch.no_grad():\n",
    "            out = model(review.unsqueeze(0), num_sents.unsqueeze(0))\n",
    "        tg, ts, a1, a2, a3, a4, a5, a_g = out\n",
    "\n",
    "\n",
    "        att_a = [a1[:3], a1[3:6],a1[6:], a2, a3, a4[:3], a4[4:], a5[:3], a5[3:]]\n",
    "\n",
    "        overall_pred = dict( zip( ['5', '4', '1~3'], list(softmax(tg[small_task-1] )[[2,1,0]].data.numpy().round(3)) ) )\n",
    "\n",
    "        S23.loc[ind,['overall(1)','overall(0)','overall(-1)']]=list(overall_pred.values())\n",
    "\n",
    "        calibrated_imp = a_g[small_task-1].flatten()[[df['mask'][ind]]].numpy() / sum(a_g[small_task-1].flatten()[[df['mask'][ind]]].numpy() )\n",
    "        aspect_imps = dict( zip( deteted_aspect_target, calibrated_imp) )\n",
    "\n",
    "        for id_, (aspect_ind, aspect_name,aspect_imp) in enumerate(zip(deteted_aspect_ind, deteted_aspect_target,aspect_imps.values())):\n",
    "        \n",
    "            a_index = np.where( (np.array(small_cat_indices[small_task-1]) == aspect_ind))[0][0]\n",
    "            aspect_pred = dict(zip(['1','0', '-1'], list(softmax(ts[small_task-1][a_index] )[[2,1,0]].data.numpy().round(3)) ))\n",
    "            S23.loc[ind,aspect_name + '(1)']=aspect_pred['1']\n",
    "            S23.loc[ind,aspect_name + '(0)']=aspect_pred['0']\n",
    "            S23.loc[ind,aspect_name + '(-1)']=aspect_pred['-1']\n",
    "            S23.loc[ind,'ATT_'+aspect_name]=aspect_imp\n",
    "\n"
   ]
  },
  {
   "cell_type": "code",
   "execution_count": 528,
   "metadata": {
    "ExecuteTime": {
     "end_time": "2021-10-03T02:31:30.933866Z",
     "start_time": "2021-10-03T02:28:51.804840Z"
    }
   },
   "outputs": [
    {
     "name": "stderr",
     "output_type": "stream",
     "text": [
      "100%|██████████████████████████████████████████████████████████████████████████████| 3433/3433 [02:39<00:00, 21.57it/s]\n"
     ]
    }
   ],
   "source": [
    "fill_s23(model, df,recent_idx)"
   ]
  },
  {
   "cell_type": "code",
   "execution_count": 529,
   "metadata": {
    "ExecuteTime": {
     "end_time": "2021-10-03T02:31:31.090902Z",
     "start_time": "2021-10-03T02:31:31.076899Z"
    }
   },
   "outputs": [],
   "source": [
    "S23_copy = S23.copy()"
   ]
  },
  {
   "cell_type": "code",
   "execution_count": 530,
   "metadata": {
    "ExecuteTime": {
     "end_time": "2021-10-03T02:31:32.621873Z",
     "start_time": "2021-10-03T02:31:32.586871Z"
    }
   },
   "outputs": [],
   "source": [
    "eps=1\n",
    "product_info=df[['prod_nm','big_category','brand','rating']]\n",
    "product_sent_ratio=pd.crosstab(product_info.prod_nm, product_info.rating)\n",
    "product_sent_ratio+=eps\n",
    "product_sent_inv_ratio=product_sent_ratio.apply(lambda x : 1/x)\n",
    "product_sent_inv_ratio=product_sent_inv_ratio.div(product_sent_inv_ratio.sum(axis=1), axis=0)\n",
    "product_sent_inv_ratio.columns=['W_overall(-1)','W_overall(0)','W_overall(1)']\n",
    "product_sent_inv_ratio.reset_index(inplace=True)"
   ]
  },
  {
   "cell_type": "code",
   "execution_count": 531,
   "metadata": {
    "ExecuteTime": {
     "end_time": "2021-10-03T02:31:33.883585Z",
     "start_time": "2021-10-03T02:31:33.861567Z"
    }
   },
   "outputs": [],
   "source": [
    "S23=pd.concat([S23,df['prod_nm']],axis=1)\n",
    "S2=S23[['overall(-1)','overall(0)','overall(1)','prod_nm']]"
   ]
  },
  {
   "cell_type": "code",
   "execution_count": null,
   "metadata": {},
   "outputs": [],
   "source": []
  },
  {
   "cell_type": "code",
   "execution_count": 532,
   "metadata": {
    "ExecuteTime": {
     "end_time": "2021-10-03T02:31:38.251646Z",
     "start_time": "2021-10-03T02:31:38.243651Z"
    }
   },
   "outputs": [],
   "source": [
    "S2=pd.merge(S2,product_sent_inv_ratio,on='prod_nm',how='left')"
   ]
  },
  {
   "cell_type": "code",
   "execution_count": 533,
   "metadata": {
    "ExecuteTime": {
     "end_time": "2021-10-03T02:31:38.469842Z",
     "start_time": "2021-10-03T02:31:38.430837Z"
    }
   },
   "outputs": [],
   "source": [
    "S2['score(-1)']=(S2['overall(-1)']*S2['W_overall(-1)']).astype('float')\n",
    "S2['score(0)']=(S2['overall(0)']*S2['W_overall(0)']).astype('float')\n",
    "S2['score(1)']=(S2['overall(1)']*S2['W_overall(1)']).astype('float')"
   ]
  },
  {
   "cell_type": "code",
   "execution_count": 534,
   "metadata": {
    "ExecuteTime": {
     "end_time": "2021-10-03T02:31:38.611074Z",
     "start_time": "2021-10-03T02:31:38.598052Z"
    }
   },
   "outputs": [],
   "source": [
    "S2=S2[['prod_nm','score(-1)','score(0)','score(1)']]"
   ]
  },
  {
   "cell_type": "code",
   "execution_count": 535,
   "metadata": {
    "ExecuteTime": {
     "end_time": "2021-10-03T02:31:38.783094Z",
     "start_time": "2021-10-03T02:31:38.769091Z"
    }
   },
   "outputs": [
    {
     "data": {
      "text/html": [
       "<div>\n",
       "<style scoped>\n",
       "    .dataframe tbody tr th:only-of-type {\n",
       "        vertical-align: middle;\n",
       "    }\n",
       "\n",
       "    .dataframe tbody tr th {\n",
       "        vertical-align: top;\n",
       "    }\n",
       "\n",
       "    .dataframe thead th {\n",
       "        text-align: right;\n",
       "    }\n",
       "</style>\n",
       "<table border=\"1\" class=\"dataframe\">\n",
       "  <thead>\n",
       "    <tr style=\"text-align: right;\">\n",
       "      <th></th>\n",
       "      <th>prod_nm</th>\n",
       "      <th>score(-1)</th>\n",
       "      <th>score(0)</th>\n",
       "      <th>score(1)</th>\n",
       "    </tr>\n",
       "  </thead>\n",
       "  <tbody>\n",
       "    <tr>\n",
       "      <th>0</th>\n",
       "      <td>[리필] 퍼펙팅 쿠션 SPF50+/PA+++ 15g</td>\n",
       "      <td>0.181176</td>\n",
       "      <td>0.093824</td>\n",
       "      <td>0.044000</td>\n",
       "    </tr>\n",
       "    <tr>\n",
       "      <th>1</th>\n",
       "      <td>[리필] 퍼펙팅 쿠션 SPF50+/PA+++ 15g</td>\n",
       "      <td>0.144118</td>\n",
       "      <td>0.124118</td>\n",
       "      <td>0.039176</td>\n",
       "    </tr>\n",
       "    <tr>\n",
       "      <th>2</th>\n",
       "      <td>[리필] 퍼펙팅 쿠션 SPF50+/PA+++ 15g</td>\n",
       "      <td>0.225294</td>\n",
       "      <td>0.099118</td>\n",
       "      <td>0.032941</td>\n",
       "    </tr>\n",
       "    <tr>\n",
       "      <th>3</th>\n",
       "      <td>[리필] 퍼펙팅 쿠션 SPF50+/PA+++ 15g</td>\n",
       "      <td>0.207647</td>\n",
       "      <td>0.106765</td>\n",
       "      <td>0.033412</td>\n",
       "    </tr>\n",
       "    <tr>\n",
       "      <th>4</th>\n",
       "      <td>[리필] 퍼펙팅 쿠션 SPF50+/PA+++ 15g</td>\n",
       "      <td>0.161176</td>\n",
       "      <td>0.107353</td>\n",
       "      <td>0.042471</td>\n",
       "    </tr>\n",
       "  </tbody>\n",
       "</table>\n",
       "</div>"
      ],
      "text/plain": [
       "                        prod_nm  score(-1)  score(0)  score(1)\n",
       "0  [리필] 퍼펙팅 쿠션 SPF50+/PA+++ 15g   0.181176  0.093824  0.044000\n",
       "1  [리필] 퍼펙팅 쿠션 SPF50+/PA+++ 15g   0.144118  0.124118  0.039176\n",
       "2  [리필] 퍼펙팅 쿠션 SPF50+/PA+++ 15g   0.225294  0.099118  0.032941\n",
       "3  [리필] 퍼펙팅 쿠션 SPF50+/PA+++ 15g   0.207647  0.106765  0.033412\n",
       "4  [리필] 퍼펙팅 쿠션 SPF50+/PA+++ 15g   0.161176  0.107353  0.042471"
      ]
     },
     "execution_count": 535,
     "metadata": {},
     "output_type": "execute_result"
    }
   ],
   "source": [
    "S2.head()"
   ]
  },
  {
   "cell_type": "code",
   "execution_count": 536,
   "metadata": {
    "ExecuteTime": {
     "end_time": "2021-10-03T02:31:39.945140Z",
     "start_time": "2021-10-03T02:31:39.937151Z"
    }
   },
   "outputs": [],
   "source": [
    "S2=S2.groupby('prod_nm').mean()[['score(-1)','score(1)']]"
   ]
  },
  {
   "cell_type": "code",
   "execution_count": 537,
   "metadata": {
    "ExecuteTime": {
     "end_time": "2021-10-03T02:31:40.255249Z",
     "start_time": "2021-10-03T02:31:40.136078Z"
    }
   },
   "outputs": [
    {
     "data": {
      "text/plain": [
       "(array([  6.,  12.,  22.,  41.,  61., 103.,  70.,  28.,  12.,   3.]),\n",
       " array([-0.33457994, -0.28996195, -0.24534395, -0.20072596, -0.15610797,\n",
       "        -0.11148997, -0.06687198, -0.02225398,  0.02236401,  0.06698201,\n",
       "         0.1116    ]),\n",
       " <a list of 10 Patch objects>)"
      ]
     },
     "execution_count": 537,
     "metadata": {},
     "output_type": "execute_result"
    },
    {
     "name": "stderr",
     "output_type": "stream",
     "text": [
      "C:\\Users\\LSH\\Anaconda3\\lib\\site-packages\\matplotlib\\backends\\backend_agg.py:214: RuntimeWarning: Glyph 8722 missing from current font.\n",
      "  font.set_text(s, 0.0, flags=flags)\n",
      "C:\\Users\\LSH\\Anaconda3\\lib\\site-packages\\matplotlib\\backends\\backend_agg.py:183: RuntimeWarning: Glyph 8722 missing from current font.\n",
      "  font.set_text(s, 0, flags=flags)\n"
     ]
    },
    {
     "data": {
      "image/png": "[encoded data removed]",
      "text/plain": [
       "<Figure size 432x288 with 1 Axes>"
      ]
     },
     "metadata": {
      "needs_background": "light"
     },
     "output_type": "display_data"
    }
   ],
   "source": [
    "plt.hist(S2['score(1)']-S2['score(-1)'])"
   ]
  },
  {
   "cell_type": "code",
   "execution_count": 538,
   "metadata": {
    "ExecuteTime": {
     "end_time": "2021-10-03T02:31:40.874490Z",
     "start_time": "2021-10-03T02:31:40.863501Z"
    }
   },
   "outputs": [],
   "source": [
    "S2=pd.DataFrame(S2['score(1)']-S2['score(-1)'],columns=['S2'])"
   ]
  },
  {
   "cell_type": "code",
   "execution_count": 539,
   "metadata": {
    "ExecuteTime": {
     "end_time": "2021-10-03T02:31:41.372910Z",
     "start_time": "2021-10-03T02:31:41.355902Z"
    }
   },
   "outputs": [
    {
     "data": {
      "text/html": [
       "<div>\n",
       "<style scoped>\n",
       "    .dataframe tbody tr th:only-of-type {\n",
       "        vertical-align: middle;\n",
       "    }\n",
       "\n",
       "    .dataframe tbody tr th {\n",
       "        vertical-align: top;\n",
       "    }\n",
       "\n",
       "    .dataframe thead th {\n",
       "        text-align: right;\n",
       "    }\n",
       "</style>\n",
       "<table border=\"1\" class=\"dataframe\">\n",
       "  <thead>\n",
       "    <tr style=\"text-align: right;\">\n",
       "      <th></th>\n",
       "      <th>S2</th>\n",
       "    </tr>\n",
       "    <tr>\n",
       "      <th>prod_nm</th>\n",
       "      <th></th>\n",
       "    </tr>\n",
       "  </thead>\n",
       "  <tbody>\n",
       "    <tr>\n",
       "      <th>UV 쉴드 안티폴루션 선 세럼 SPF 50+ PA++ 50ml</th>\n",
       "      <td>-0.243295</td>\n",
       "    </tr>\n",
       "    <tr>\n",
       "      <th>UV 쉴드 에센셜 톤업 선 50ml</th>\n",
       "      <td>-0.127346</td>\n",
       "    </tr>\n",
       "    <tr>\n",
       "      <th>UV쉴드 선 스틱 SPF50+PA++++ 20g</th>\n",
       "      <td>-0.053964</td>\n",
       "    </tr>\n",
       "    <tr>\n",
       "      <th>UV쉴드 선 프로텍터 XP SPF 50+ PA++++ 60ml</th>\n",
       "      <td>-0.181052</td>\n",
       "    </tr>\n",
       "    <tr>\n",
       "      <th>[1989에디션] 어린쑥 수분진정 앰플세럼 28ml</th>\n",
       "      <td>0.111600</td>\n",
       "    </tr>\n",
       "  </tbody>\n",
       "</table>\n",
       "</div>"
      ],
      "text/plain": [
       "                                          S2\n",
       "prod_nm                                     \n",
       "UV 쉴드 안티폴루션 선 세럼 SPF 50+ PA++ 50ml -0.243295\n",
       "UV 쉴드 에센셜 톤업 선 50ml                -0.127346\n",
       "UV쉴드 선 스틱 SPF50+PA++++ 20g         -0.053964\n",
       "UV쉴드 선 프로텍터 XP SPF 50+ PA++++ 60ml -0.181052\n",
       "[1989에디션] 어린쑥 수분진정 앰플세럼 28ml        0.111600"
      ]
     },
     "execution_count": 539,
     "metadata": {},
     "output_type": "execute_result"
    }
   ],
   "source": [
    "S2.head()"
   ]
  },
  {
   "cell_type": "markdown",
   "metadata": {},
   "source": [
    "### S3"
   ]
  },
  {
   "cell_type": "code",
   "execution_count": 591,
   "metadata": {
    "ExecuteTime": {
     "end_time": "2021-10-03T02:37:10.800630Z",
     "start_time": "2021-10-03T02:37:10.784644Z"
    }
   },
   "outputs": [],
   "source": [
    "new_S3=S23[['prod_nm']]\n",
    "\n",
    "W_temp=pd.merge(new_S3,product_sent_inv_ratio,on='prod_nm',how='left')"
   ]
  },
  {
   "cell_type": "code",
   "execution_count": 592,
   "metadata": {
    "ExecuteTime": {
     "end_time": "2021-10-03T02:37:11.239681Z",
     "start_time": "2021-10-03T02:37:11.157418Z"
    }
   },
   "outputs": [
    {
     "name": "stderr",
     "output_type": "stream",
     "text": [
      "C:\\Users\\LSH\\Anaconda3\\lib\\site-packages\\pandas\\core\\indexing.py:671: SettingWithCopyWarning: \n",
      "A value is trying to be set on a copy of a slice from a DataFrame\n",
      "\n",
      "See the caveats in the documentation: https://pandas.pydata.org/pandas-docs/stable/user_guide/indexing.html#returning-a-view-versus-a-copy\n",
      "  self._setitem_with_indexer(indexer, value)\n",
      "<ipython-input-592-52ab26ad04c8>:3: SettingWithCopyWarning: \n",
      "A value is trying to be set on a copy of a slice from a DataFrame\n",
      "\n",
      "See the caveats in the documentation: https://pandas.pydata.org/pandas-docs/stable/user_guide/indexing.html#returning-a-view-versus-a-copy\n",
      "  X_temp.iloc[:,:3]=X_temp.iloc[:,:3].mul(X_temp.iloc[:,3],axis=0)\n",
      "<ipython-input-592-52ab26ad04c8>:7: SettingWithCopyWarning: \n",
      "A value is trying to be set on a copy of a slice from a DataFrame.\n",
      "Try using .loc[row_indexer,col_indexer] = value instead\n",
      "\n",
      "See the caveats in the documentation: https://pandas.pydata.org/pandas-docs/stable/user_guide/indexing.html#returning-a-view-versus-a-copy\n",
      "  new_S3[col]=score_sum\n"
     ]
    }
   ],
   "source": [
    "for col in cols1:\n",
    "    X_temp=S23[S23.columns[S23.columns.str.contains(col)]]\n",
    "    X_temp.iloc[:,:3]=X_temp.iloc[:,:3].mul(X_temp.iloc[:,3],axis=0)\n",
    "    score_plus=np.array(X_temp[col+'(1)'])*np.array(W_temp['W_overall(1)'])\n",
    "    score_minus=np.array(X_temp[col+'(-1)'])*np.array(W_temp['W_overall(-1)'])\n",
    "    score_sum=score_plus-score_minus\n",
    "    new_S3[col]=score_sum"
   ]
  },
  {
   "cell_type": "code",
   "execution_count": 593,
   "metadata": {
    "ExecuteTime": {
     "end_time": "2021-10-03T02:37:13.190705Z",
     "start_time": "2021-10-03T02:37:13.169689Z"
    }
   },
   "outputs": [
    {
     "data": {
      "text/html": [
       "<div>\n",
       "<style scoped>\n",
       "    .dataframe tbody tr th:only-of-type {\n",
       "        vertical-align: middle;\n",
       "    }\n",
       "\n",
       "    .dataframe tbody tr th {\n",
       "        vertical-align: top;\n",
       "    }\n",
       "\n",
       "    .dataframe thead th {\n",
       "        text-align: right;\n",
       "    }\n",
       "</style>\n",
       "<table border=\"1\" class=\"dataframe\">\n",
       "  <thead>\n",
       "    <tr style=\"text-align: right;\">\n",
       "      <th></th>\n",
       "      <th>prod_nm</th>\n",
       "      <th>용량</th>\n",
       "      <th>민감성</th>\n",
       "      <th>향기</th>\n",
       "      <th>커버력</th>\n",
       "      <th>지속력</th>\n",
       "      <th>피부톤</th>\n",
       "      <th>보습감</th>\n",
       "      <th>향</th>\n",
       "      <th>사용감</th>\n",
       "      <th>발림성</th>\n",
       "      <th>세정력</th>\n",
       "      <th>촉촉함</th>\n",
       "      <th>유분기</th>\n",
       "      <th>발색감</th>\n",
       "      <th>제형</th>\n",
       "    </tr>\n",
       "  </thead>\n",
       "  <tbody>\n",
       "    <tr>\n",
       "      <th>22</th>\n",
       "      <td>[리필] 퍼펙팅 쿠션 SPF50+/PA+++ 15g</td>\n",
       "      <td>NaN</td>\n",
       "      <td>NaN</td>\n",
       "      <td>NaN</td>\n",
       "      <td>-0.0834634</td>\n",
       "      <td>-0.00795303</td>\n",
       "      <td>NaN</td>\n",
       "      <td>NaN</td>\n",
       "      <td>NaN</td>\n",
       "      <td>NaN</td>\n",
       "      <td>NaN</td>\n",
       "      <td>NaN</td>\n",
       "      <td>NaN</td>\n",
       "      <td>NaN</td>\n",
       "      <td>NaN</td>\n",
       "      <td>NaN</td>\n",
       "    </tr>\n",
       "    <tr>\n",
       "      <th>23</th>\n",
       "      <td>[리필] 퍼펙팅 쿠션 SPF50+/PA+++ 15g</td>\n",
       "      <td>NaN</td>\n",
       "      <td>NaN</td>\n",
       "      <td>NaN</td>\n",
       "      <td>-0.0293231</td>\n",
       "      <td>NaN</td>\n",
       "      <td>-0.00394518</td>\n",
       "      <td>NaN</td>\n",
       "      <td>NaN</td>\n",
       "      <td>NaN</td>\n",
       "      <td>NaN</td>\n",
       "      <td>NaN</td>\n",
       "      <td>NaN</td>\n",
       "      <td>NaN</td>\n",
       "      <td>NaN</td>\n",
       "      <td>NaN</td>\n",
       "    </tr>\n",
       "    <tr>\n",
       "      <th>24</th>\n",
       "      <td>[리필] 퍼펙팅 쿠션 SPF50+/PA+++ 15g</td>\n",
       "      <td>NaN</td>\n",
       "      <td>NaN</td>\n",
       "      <td>NaN</td>\n",
       "      <td>-0.0379995</td>\n",
       "      <td>-0.0084838</td>\n",
       "      <td>NaN</td>\n",
       "      <td>NaN</td>\n",
       "      <td>NaN</td>\n",
       "      <td>NaN</td>\n",
       "      <td>NaN</td>\n",
       "      <td>NaN</td>\n",
       "      <td>NaN</td>\n",
       "      <td>NaN</td>\n",
       "      <td>NaN</td>\n",
       "      <td>NaN</td>\n",
       "    </tr>\n",
       "    <tr>\n",
       "      <th>25</th>\n",
       "      <td>[리필] 퍼펙팅 쿠션 SPF50+/PA+++ 15g</td>\n",
       "      <td>NaN</td>\n",
       "      <td>NaN</td>\n",
       "      <td>NaN</td>\n",
       "      <td>-0.0432941</td>\n",
       "      <td>NaN</td>\n",
       "      <td>NaN</td>\n",
       "      <td>NaN</td>\n",
       "      <td>NaN</td>\n",
       "      <td>NaN</td>\n",
       "      <td>NaN</td>\n",
       "      <td>NaN</td>\n",
       "      <td>NaN</td>\n",
       "      <td>NaN</td>\n",
       "      <td>NaN</td>\n",
       "      <td>NaN</td>\n",
       "    </tr>\n",
       "    <tr>\n",
       "      <th>26</th>\n",
       "      <td>[리필] 퍼펙팅 쿠션 SPF50+/PA+++ 15g</td>\n",
       "      <td>NaN</td>\n",
       "      <td>NaN</td>\n",
       "      <td>NaN</td>\n",
       "      <td>-0.0446471</td>\n",
       "      <td>-0.0155294</td>\n",
       "      <td>NaN</td>\n",
       "      <td>NaN</td>\n",
       "      <td>NaN</td>\n",
       "      <td>NaN</td>\n",
       "      <td>NaN</td>\n",
       "      <td>NaN</td>\n",
       "      <td>NaN</td>\n",
       "      <td>NaN</td>\n",
       "      <td>NaN</td>\n",
       "      <td>NaN</td>\n",
       "    </tr>\n",
       "  </tbody>\n",
       "</table>\n",
       "</div>"
      ],
      "text/plain": [
       "                         prod_nm   용량  민감성   향기        커버력         지속력  \\\n",
       "22  [리필] 퍼펙팅 쿠션 SPF50+/PA+++ 15g  NaN  NaN  NaN -0.0834634 -0.00795303   \n",
       "23  [리필] 퍼펙팅 쿠션 SPF50+/PA+++ 15g  NaN  NaN  NaN -0.0293231         NaN   \n",
       "24  [리필] 퍼펙팅 쿠션 SPF50+/PA+++ 15g  NaN  NaN  NaN -0.0379995  -0.0084838   \n",
       "25  [리필] 퍼펙팅 쿠션 SPF50+/PA+++ 15g  NaN  NaN  NaN -0.0432941         NaN   \n",
       "26  [리필] 퍼펙팅 쿠션 SPF50+/PA+++ 15g  NaN  NaN  NaN -0.0446471  -0.0155294   \n",
       "\n",
       "           피부톤  보습감    향  사용감  발림성  세정력  촉촉함  유분기  발색감   제형  \n",
       "22         NaN  NaN  NaN  NaN  NaN  NaN  NaN  NaN  NaN  NaN  \n",
       "23 -0.00394518  NaN  NaN  NaN  NaN  NaN  NaN  NaN  NaN  NaN  \n",
       "24         NaN  NaN  NaN  NaN  NaN  NaN  NaN  NaN  NaN  NaN  \n",
       "25         NaN  NaN  NaN  NaN  NaN  NaN  NaN  NaN  NaN  NaN  \n",
       "26         NaN  NaN  NaN  NaN  NaN  NaN  NaN  NaN  NaN  NaN  "
      ]
     },
     "execution_count": 593,
     "metadata": {},
     "output_type": "execute_result"
    }
   ],
   "source": [
    "new_S3[new_S3.prod_nm=='[리필] 퍼펙팅 쿠션 SPF50+/PA+++ 15g']"
   ]
  },
  {
   "cell_type": "code",
   "execution_count": 595,
   "metadata": {
    "ExecuteTime": {
     "end_time": "2021-10-03T02:37:18.494634Z",
     "start_time": "2021-10-03T02:37:18.476617Z"
    }
   },
   "outputs": [],
   "source": [
    "product_names=list(set(S23['prod_nm']))"
   ]
  },
  {
   "cell_type": "code",
   "execution_count": 596,
   "metadata": {
    "ExecuteTime": {
     "end_time": "2021-10-03T02:37:19.090714Z",
     "start_time": "2021-10-03T02:37:19.075706Z"
    }
   },
   "outputs": [],
   "source": [
    "S3=pd.DataFrame(index=S2.index,columns=cols1)"
   ]
  },
  {
   "cell_type": "code",
   "execution_count": 598,
   "metadata": {
    "ExecuteTime": {
     "end_time": "2021-10-03T02:37:51.032371Z",
     "start_time": "2021-10-03T02:37:48.680042Z"
    }
   },
   "outputs": [],
   "source": [
    "for prod_nm in product_names:\n",
    "    prod_df=new_S3.groupby('prod_nm').get_group(prod_nm)    \n",
    "    score_x=prod_df.mean()\n",
    "    w=prod_df.shape[0]-prod_df.iloc[:,1:].isna().sum()\n",
    "    score_w=w/w.sum()\n",
    "    score_w=score_w.fillna(0)\n",
    "    score=(score_x*score_w)\n",
    "    S3.loc[prod_nm,:]=score"
   ]
  },
  {
   "cell_type": "code",
   "execution_count": 600,
   "metadata": {
    "ExecuteTime": {
     "end_time": "2021-10-03T02:37:55.432238Z",
     "start_time": "2021-10-03T02:37:55.413220Z"
    }
   },
   "outputs": [],
   "source": [
    "S3=pd.DataFrame(S3.sum(axis=1),columns=['S3'])"
   ]
  },
  {
   "cell_type": "code",
   "execution_count": 603,
   "metadata": {
    "ExecuteTime": {
     "end_time": "2021-10-03T02:37:59.420856Z",
     "start_time": "2021-10-03T02:37:59.415854Z"
    }
   },
   "outputs": [],
   "source": [
    "S=pd.concat([S1,S2,S3],axis=1)"
   ]
  },
  {
   "cell_type": "code",
   "execution_count": 605,
   "metadata": {
    "ExecuteTime": {
     "end_time": "2021-10-03T02:38:05.215341Z",
     "start_time": "2021-10-03T02:38:05.192331Z"
    }
   },
   "outputs": [],
   "source": [
    "S.to_csv('CBS.csv')"
   ]
  },
  {
   "cell_type": "code",
   "execution_count": 606,
   "metadata": {
    "ExecuteTime": {
     "end_time": "2021-10-03T02:39:08.091916Z",
     "start_time": "2021-10-03T02:39:08.076914Z"
    }
   },
   "outputs": [],
   "source": [
    "#S=pd.read_csv('CBS.csv').set_index('prod_nm')"
   ]
  },
  {
   "cell_type": "code",
   "execution_count": 2,
   "metadata": {},
   "outputs": [],
   "source": [
    "import pandas as pd"
   ]
  },
  {
   "cell_type": "code",
   "execution_count": 92,
   "metadata": {},
   "outputs": [],
   "source": [
    "\n",
    "S=pd.read_csv('CBS.csv').set_index('prod_nm')"
   ]
  },
  {
   "cell_type": "code",
   "execution_count": 93,
   "metadata": {},
   "outputs": [],
   "source": [
    "def exp_smoothing(list_,alpha=0.3,eps=1):\n",
    "    weight_decayed_lists=np.array([alpha*(1-alpha)**(len(list_)-i)*list_[i] for i in range(len(list_))])\n",
    "    weight_decayed_lists/=(sum(list_)+eps)\n",
    "    return(sum(weight_decayed_lists))"
   ]
  },
  {
   "cell_type": "code",
   "execution_count": 94,
   "metadata": {},
   "outputs": [],
   "source": [
    "S['s1_recency_list']=S['s1_recency_list'].apply(literal_eval)"
   ]
  },
  {
   "cell_type": "code",
   "execution_count": 95,
   "metadata": {},
   "outputs": [],
   "source": [
    "S['s1_recency_list']=S['s1_recency_list'].apply(exp_smoothing,alpha=0.3,eps=1)"
   ]
  },
  {
   "cell_type": "code",
   "execution_count": 96,
   "metadata": {},
   "outputs": [
    {
     "data": {
      "text/html": [
       "<div>\n",
       "<style scoped>\n",
       "    .dataframe tbody tr th:only-of-type {\n",
       "        vertical-align: middle;\n",
       "    }\n",
       "\n",
       "    .dataframe tbody tr th {\n",
       "        vertical-align: top;\n",
       "    }\n",
       "\n",
       "    .dataframe thead th {\n",
       "        text-align: right;\n",
       "    }\n",
       "</style>\n",
       "<table border=\"1\" class=\"dataframe\">\n",
       "  <thead>\n",
       "    <tr style=\"text-align: right;\">\n",
       "      <th></th>\n",
       "      <th>S1_diversity</th>\n",
       "      <th>S1_number_discounted</th>\n",
       "      <th>s1_recency_list</th>\n",
       "      <th>S2</th>\n",
       "      <th>S3</th>\n",
       "    </tr>\n",
       "    <tr>\n",
       "      <th>prod_nm</th>\n",
       "      <th></th>\n",
       "      <th></th>\n",
       "      <th></th>\n",
       "      <th></th>\n",
       "      <th></th>\n",
       "    </tr>\n",
       "  </thead>\n",
       "  <tbody>\n",
       "    <tr>\n",
       "      <th>자연을 닮은 시트마스크 1매</th>\n",
       "      <td>0.810591</td>\n",
       "      <td>29.642857</td>\n",
       "      <td>0.021175</td>\n",
       "      <td>-0.239819</td>\n",
       "      <td>-0.070786</td>\n",
       "    </tr>\n",
       "  </tbody>\n",
       "</table>\n",
       "</div>"
      ],
      "text/plain": [
       "                 S1_diversity  S1_number_discounted  s1_recency_list  \\\n",
       "prod_nm                                                                \n",
       "자연을 닮은 시트마스크 1매      0.810591             29.642857         0.021175   \n",
       "\n",
       "                       S2        S3  \n",
       "prod_nm                              \n",
       "자연을 닮은 시트마스크 1매 -0.239819 -0.070786  "
      ]
     },
     "execution_count": 96,
     "metadata": {},
     "output_type": "execute_result"
    }
   ],
   "source": [
    "S[S.index=='자연을 닮은 시트마스크 1매']"
   ]
  },
  {
   "cell_type": "code",
   "execution_count": 68,
   "metadata": {},
   "outputs": [],
   "source": [
    "def exp_smoothing(list_,alpha=0.3):\n",
    "    return(sum([alpha*(1-alpha)**(len(list_)-i)*list_[i] for i in range(len(list_))]))"
   ]
  },
  {
   "cell_type": "code",
   "execution_count": 69,
   "metadata": {},
   "outputs": [],
   "source": [
    "S['s1_recency_list']=S['s1_recency_list'].apply(exp_smoothing,alpha=0.3)"
   ]
  },
  {
   "cell_type": "code",
   "execution_count": 19,
   "metadata": {},
   "outputs": [],
   "source": [
    "k=[3,4,5]\n",
    "alpha=0.3"
   ]
  },
  {
   "cell_type": "code",
   "execution_count": 20,
   "metadata": {},
   "outputs": [
    {
     "data": {
      "text/plain": [
       "[0.3086999999999999, 0.5879999999999999, 1.05]"
      ]
     },
     "execution_count": 20,
     "metadata": {},
     "output_type": "execute_result"
    }
   ],
   "source": [
    "[alpha*(1-alpha)**(len(k)-i)*k[i] for i in range(len(k))]"
   ]
  },
  {
   "cell_type": "markdown",
   "metadata": {
    "ExecuteTime": {
     "end_time": "2021-10-03T02:38:00.321646Z",
     "start_time": "2021-10-03T02:38:00.301635Z"
    }
   },
   "source": [
    "# 끝"
   ]
  },
  {
   "cell_type": "code",
   "execution_count": 394,
   "metadata": {
    "ExecuteTime": {
     "end_time": "2021-10-03T02:04:25.230222Z",
     "start_time": "2021-10-03T02:04:25.212218Z"
    }
   },
   "outputs": [
    {
     "data": {
      "text/plain": [
       "(54, 5)"
      ]
     },
     "execution_count": 394,
     "metadata": {},
     "output_type": "execute_result"
    }
   ],
   "source": [
    "S[S['S3']!=0].shape"
   ]
  },
  {
   "cell_type": "code",
   "execution_count": 395,
   "metadata": {
    "ExecuteTime": {
     "end_time": "2021-10-03T02:04:29.557905Z",
     "start_time": "2021-10-03T02:04:29.546554Z"
    }
   },
   "outputs": [
    {
     "data": {
      "text/plain": [
       "(304, 5)"
      ]
     },
     "execution_count": 395,
     "metadata": {},
     "output_type": "execute_result"
    }
   ],
   "source": [
    "S[S['S3']==0].shape"
   ]
  },
  {
   "cell_type": "code",
   "execution_count": 401,
   "metadata": {
    "ExecuteTime": {
     "end_time": "2021-10-03T02:05:04.362713Z",
     "start_time": "2021-10-03T02:05:04.343710Z"
    }
   },
   "outputs": [],
   "source": [
    "check=df['prod_nm'].value_counts()"
   ]
  },
  {
   "cell_type": "code",
   "execution_count": 406,
   "metadata": {
    "ExecuteTime": {
     "end_time": "2021-10-03T02:05:42.961935Z",
     "start_time": "2021-10-03T02:05:42.939929Z"
    }
   },
   "outputs": [
    {
     "name": "stdout",
     "output_type": "stream",
     "text": [
      "304 54\n"
     ]
    }
   ],
   "source": [
    "zero_prd=S[S['S3']==0].index\n",
    "nonzero_prd=S[S['S3']!=0].index\n",
    "print(len(zero_prd),len(nonzero_prd))"
   ]
  },
  {
   "cell_type": "code",
   "execution_count": 408,
   "metadata": {
    "ExecuteTime": {
     "end_time": "2021-10-03T02:06:23.648494Z",
     "start_time": "2021-10-03T02:06:23.632497Z"
    }
   },
   "outputs": [],
   "source": [
    "zero_ls=[]\n",
    "nonzero_ls=[]\n",
    "for prd in zero_prd:\n",
    "    zero_ls.append(check[prd])\n",
    "    \n",
    "for prd in nonzero_prd:\n",
    "    nonzero_ls.append(check[prd])"
   ]
  },
  {
   "cell_type": "code",
   "execution_count": 378,
   "metadata": {},
   "outputs": [],
   "source": [
    "temp=temp.drop('ATT_커버력',axis=1)"
   ]
  },
  {
   "cell_type": "code",
   "execution_count": 382,
   "metadata": {},
   "outputs": [],
   "source": [
    "temp=temp['커버력(1)']-temp['커버력(-1)']"
   ]
  },
  {
   "cell_type": "code",
   "execution_count": 384,
   "metadata": {},
   "outputs": [],
   "source": [
    "new_S3['커버력']=temp"
   ]
  },
  {
   "cell_type": "code",
   "execution_count": null,
   "metadata": {},
   "outputs": [],
   "source": []
  },
  {
   "cell_type": "code",
   "execution_count": null,
   "metadata": {},
   "outputs": [],
   "source": []
  },
  {
   "cell_type": "code",
   "execution_count": null,
   "metadata": {},
   "outputs": [],
   "source": []
  },
  {
   "cell_type": "code",
   "execution_count": null,
   "metadata": {},
   "outputs": [],
   "source": []
  },
  {
   "cell_type": "code",
   "execution_count": null,
   "metadata": {},
   "outputs": [],
   "source": []
  },
  {
   "cell_type": "code",
   "execution_count": null,
   "metadata": {},
   "outputs": [],
   "source": []
  },
  {
   "cell_type": "code",
   "execution_count": null,
   "metadata": {},
   "outputs": [],
   "source": []
  },
  {
   "cell_type": "code",
   "execution_count": null,
   "metadata": {},
   "outputs": [],
   "source": []
  },
  {
   "cell_type": "markdown",
   "metadata": {},
   "source": [
    "# 기타"
   ]
  },
  {
   "cell_type": "code",
   "execution_count": 20,
   "metadata": {},
   "outputs": [],
   "source": [
    "# FUNCTION \n",
    "def softmax(x):\n",
    "    return (torch.exp(x) / torch.exp(x).sum()).flatten()\n",
    "\n",
    "def test_result(model, df, ind = None):\n",
    "    if ind == None:\n",
    "        ind = np.random.randint(len(df))\n",
    "    print(ind)\n",
    "\n",
    "    review = torch.FloatTensor( df['embed_sents'][ind])\n",
    "    num_sents = torch.tensor( len(review) )\n",
    "\n",
    "    review_txt = df['review_split_string'][ind]\n",
    "    small_task= cat_task[ df['category'][ind] ]\n",
    "    detect = df['mask'][ind]\n",
    "    deteted_aspect= df.iloc[ind,25:48][ df.iloc[ind, 25:48] == 1 ].index.values.tolist()\n",
    "    deteted_aspect_ind = np.array( small_cat_indices[ small_task - 1 ] )[detect].tolist()\n",
    "    deteted_aspect_target = np.array(cols)[deteted_aspect_ind].tolist()\n",
    "    aspect_gt = dict( df.iloc[ind,:16][small_cat_indices[ small_task-1]] )\n",
    "    rating_gt = df['rating'][ind]\n",
    "    brand = df['brand'][ind]\n",
    "    product = df['prod_nm'][ind]\n",
    "\n",
    "    model.eval()\n",
    "    model.to('cpu')\n",
    "    with torch.no_grad():\n",
    "        out = model(review.unsqueeze(0), num_sents.unsqueeze(0))\n",
    "    tg, ts, a1, a2, a3, a4, a5, a_g = out\n",
    "    \n",
    "    print(small_task)\n",
    "\n",
    "    att_a = [a1[:3], a1[3:6],a1[6:], a2, a3, a4[:3], a4[4:], a5[:3], a5[3:]]\n",
    "\n",
    "    overall_pred = dict( zip( ['5', '4', '1~3'], list(softmax(tg[small_task-1] )[[2,1,0]].data.numpy().round(3)) ) )\n",
    "    overall_argmax = str(np.array(['1~3', '4', '5'][ softmax(tg[small_task-1]).argmax().numpy()]))\n",
    "\n",
    "    calibrated_imp = a_g[small_task-1].flatten()[[df['mask'][ind]]].numpy() / sum(a_g[small_task-1].flatten()[[df['mask'][ind]]].numpy() )\n",
    "    aspect_imp = dict( zip( deteted_aspect_target, calibrated_imp) )\n",
    "\n",
    "    print('*'* 15 + '  제품  ' + '*'*20)\n",
    "    print(f'브랜드:{brand}\\n제품:{product}\\n')\n",
    "    print('*'* 15 + '  고객이 남긴 정보  ' + '*'*20)\n",
    "    print(f'[1] 전체평점(gt):{rating_gt}\\n[2] 속성별평점(gt):{aspect_gt}\\n[3] 리뷰:\\n{review_txt}')\n",
    "    print('\\n' + '*'* 15 + '  분석 결과  ' + '*'*20)\n",
    "    print(f'[4] 발견된 속성:{deteted_aspect}')\n",
    "    print(f'[4-1] 목표 속성:{deteted_aspect_target}')\n",
    "    print(f'[5] 전체 예측 평점 : {overall_argmax} (예측 확률 {overall_pred})')\n",
    "    print(f'[6] 속성별 예측 평점 및 중요도')\n",
    "    print(f'[6-1] 중요도: {aspect_imp}')\n",
    "    for id_, (aspect_ind, aspect_name) in enumerate(zip(deteted_aspect_ind, deteted_aspect_target)):\n",
    "        a_index = np.where( (np.array(small_cat_indices[small_task-1]) == aspect_ind))[0][0]\n",
    "        aspect_pred = dict(zip(['1','0', '-1'], list(softmax(ts[small_task-1][a_index] )[[2,1,0]].data.numpy().round(3)) ))\n",
    "        aspect_pred_argmax = str(np.array(['-1','0', '1'])[ softmax(ts[small_task-1][a_index]).argmax().numpy() ])\n",
    "        print(f'[6-2] {aspect_name}: {aspect_pred_argmax} (예측 확률 {aspect_pred})')\n",
    "\n",
    "    print('\\n[7] Attention')\n",
    "    parse = literal_eval(review_txt)\n",
    "    att_ = torch.stack( att_a[small_task -1] ).squeeze(1)[df['mask'][ind]].numpy()\n",
    "    d = pd.DataFrame(data = att_.T,index = parse, columns=deteted_aspect_target) \n",
    "\n",
    "    f, ax = plt.subplots(figsize=(4,4))\n",
    "\n",
    "    sns.heatmap(d, vmin=0, vmax=1.0, ax=ax, cmap=\"OrRd\")\n",
    "    label_y = ax.get_yticklabels()\n",
    "    plt.setp(label_y, horizontalalignment='right')\n",
    "    label_x = ax.get_xticklabels()\n",
    "\n",
    "    plt.setp(label_x, rotation=45, horizontalalignment='right')\n",
    "    plt.show()"
   ]
  },
  {
   "cell_type": "code",
   "execution_count": 21,
   "metadata": {},
   "outputs": [],
   "source": [
    "#df"
   ]
  },
  {
   "cell_type": "code",
   "execution_count": 22,
   "metadata": {},
   "outputs": [],
   "source": [
    "len_3s = list(df['mask'][ df['mask'].apply(lambda x: np.array(x).sum() == 3) ].index)\n",
    "id_ = len_3s[ np.random.randint(len(len_3s)) ]"
   ]
  },
  {
   "cell_type": "code",
   "execution_count": 34,
   "metadata": {},
   "outputs": [
    {
     "name": "stdout",
     "output_type": "stream",
     "text": [
      "5\n",
      "8\n",
      "***************  제품  ********************\n",
      "브랜드:sulhwasoo\n",
      "제품:핸드워시 백은향 300ml\n",
      "\n",
      "***************  고객이 남긴 정보  ********************\n",
      "[1] 전체평점(gt):4\n",
      "[2] 속성별평점(gt):{'A향기': 0, 'A민감성': 0, 'A용량': 1}\n",
      "[3] 리뷰:\n",
      "['300ml용량인데 핸드워시치고는 부피감 무게감이 상당하네요', '설화수 할인쿠폰들이 없어지기전에 사고싶었던 워시 하나 구매해보았어요.', '향은 좋구요', '리필도 팔았으면 좋겠어요', '쿠폰들도 종종 주시면 더 좋을것같아요', '좋은기획구매 감사합니다', '아모레퍼시픽몰']\n",
      "\n",
      "***************  분석 결과  ********************\n",
      "[4] 발견된 속성:['가격', '구성', '만족도', '용량', '향기']\n",
      "[4-1] 목표 속성:['향기', '용량']\n",
      "[5] 전체 예측 평점 : 5 (예측 확률 {'5': 0.401, '4': 0.379, '1~3': 0.22})\n",
      "[6] 속성별 예측 평점 및 중요도\n",
      "[6-1] 중요도: {'향기': 0.5007676, '용량': 0.49923238}\n",
      "[6-2] 향기: 0 (예측 확률 {'1': 0.232, '0': 0.472, '-1': 0.296})\n",
      "[6-2] 용량: 1 (예측 확률 {'1': 0.421, '0': 0.39, '-1': 0.189})\n",
      "\n",
      "[7] Attention\n"
     ]
    },
    {
     "data": {
      "image/png": "[encoded data removed]",
      "text/plain": [
       "<Figure size 288x288 with 2 Axes>"
      ]
     },
     "metadata": {
      "needs_background": "light"
     },
     "output_type": "display_data"
    }
   ],
   "source": [
    "test_result(model, df_whole, ind = 5)"
   ]
  },
  {
   "cell_type": "code",
   "execution_count": null,
   "metadata": {},
   "outputs": [],
   "source": []
  }
 ],
 "metadata": {
  "hide_input": false,
  "kernelspec": {
   "display_name": "Python 3",
   "language": "python",
   "name": "python3"
  },
  "language_info": {
   "codemirror_mode": {
    "name": "ipython",
    "version": 3
   },
   "file_extension": ".py",
   "mimetype": "text/x-python",
   "name": "python",
   "nbconvert_exporter": "python",
   "pygments_lexer": "ipython3",
   "version": "3.8.3"
  },
  "toc": {
   "base_numbering": 1,
   "nav_menu": {},
   "number_sections": true,
   "sideBar": true,
   "skip_h1_title": false,
   "title_cell": "Table of Contents",
   "title_sidebar": "Contents",
   "toc_cell": false,
   "toc_position": {},
   "toc_section_display": true,
   "toc_window_display": false
  },
  "varInspector": {
   "cols": {
    "lenName": 16,
    "lenType": 16,
    "lenVar": 40
   },
   "kernels_config": {
    "python": {
     "delete_cmd_postfix": "",
     "delete_cmd_prefix": "del ",
     "library": "var_list.py",
     "varRefreshCmd": "print(var_dic_list())"
    },
    "r": {
     "delete_cmd_postfix": ") ",
     "delete_cmd_prefix": "rm(",
     "library": "var_list.r",
     "varRefreshCmd": "cat(var_dic_list()) "
    }
   },
   "types_to_exclude": [
    "module",
    "function",
    "builtin_function_or_method",
    "instance",
    "_Feature"
   ],
   "window_display": false
  }
 },
 "nbformat": 4,
 "nbformat_minor": 4
}
